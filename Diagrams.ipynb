{
 "cells": [
  {
   "cell_type": "code",
   "execution_count": 33,
   "metadata": {
    "collapsed": false
   },
   "outputs": [],
   "source": [
    "import pandas as pd\n",
    "pd.read_csv?"
   ]
  },
  {
   "cell_type": "code",
   "execution_count": 35,
   "metadata": {
    "collapsed": false
   },
   "outputs": [
    {
     "data": {
      "text/html": [
       "<div style=\"max-height:1000px;max-width:1500px;overflow:auto;\">\n",
       "<table border=\"1\" class=\"dataframe\">\n",
       "  <thead>\n",
       "    <tr style=\"text-align: right;\">\n",
       "      <th></th>\n",
       "      <th>title</th>\n",
       "      <th>year</th>\n",
       "      <th>director</th>\n",
       "    </tr>\n",
       "  </thead>\n",
       "  <tbody>\n",
       "    <tr>\n",
       "      <th>0</th>\n",
       "      <td>     North by Northwest</td>\n",
       "      <td> 1959</td>\n",
       "      <td> Alfred Hitchcock</td>\n",
       "    </tr>\n",
       "    <tr>\n",
       "      <th>1</th>\n",
       "      <td>              Notorious</td>\n",
       "      <td> 1946</td>\n",
       "      <td> Alfred Hitchcock</td>\n",
       "    </tr>\n",
       "    <tr>\n",
       "      <th>2</th>\n",
       "      <td>   Arsenic and Old Lace</td>\n",
       "      <td> 1944</td>\n",
       "      <td>      Frank Capra</td>\n",
       "    </tr>\n",
       "    <tr>\n",
       "      <th>3</th>\n",
       "      <td> The Philadelphia Story</td>\n",
       "      <td> 1940</td>\n",
       "      <td>     George Cukor</td>\n",
       "    </tr>\n",
       "    <tr>\n",
       "      <th>4</th>\n",
       "      <td>                Charade</td>\n",
       "      <td> 1963</td>\n",
       "      <td>    Stanley Donen</td>\n",
       "    </tr>\n",
       "    <tr>\n",
       "      <th>5</th>\n",
       "      <td>       Bringing Up Baby</td>\n",
       "      <td> 1938</td>\n",
       "      <td>     Howard Hawks</td>\n",
       "    </tr>\n",
       "    <tr>\n",
       "      <th>6</th>\n",
       "      <td>       To Catch a Thief</td>\n",
       "      <td> 1955</td>\n",
       "      <td> Alfred Hitchcock</td>\n",
       "    </tr>\n",
       "    <tr>\n",
       "      <th>7</th>\n",
       "      <td>        His Girl Friday</td>\n",
       "      <td> 1940</td>\n",
       "      <td>     Howard Hawks</td>\n",
       "    </tr>\n",
       "  </tbody>\n",
       "</table>\n",
       "</div>"
      ],
      "text/plain": [
       "                    title  year          director\n",
       "0      North by Northwest  1959  Alfred Hitchcock\n",
       "1               Notorious  1946  Alfred Hitchcock\n",
       "2    Arsenic and Old Lace  1944       Frank Capra\n",
       "3  The Philadelphia Story  1940      George Cukor\n",
       "4                 Charade  1963     Stanley Donen\n",
       "5        Bringing Up Baby  1938      Howard Hawks\n",
       "6        To Catch a Thief  1955  Alfred Hitchcock\n",
       "7         His Girl Friday  1940      Howard Hawks"
      ]
     },
     "execution_count": 35,
     "metadata": {},
     "output_type": "execute_result"
    }
   ],
   "source": [
    "df1 = pd.read_csv('sample.csv')\n",
    "df1.columns = map(str.lower, df.columns)\n",
    "df1"
   ]
  },
  {
   "cell_type": "code",
   "execution_count": 26,
   "metadata": {
    "collapsed": false
   },
   "outputs": [
    {
     "data": {
      "text/plain": [
       "Title       object\n",
       "Year         int64\n",
       "Director    object\n",
       "dtype: object"
      ]
     },
     "execution_count": 26,
     "metadata": {},
     "output_type": "execute_result"
    }
   ],
   "source": [
    "df1.dtypes"
   ]
  },
  {
   "cell_type": "code",
   "execution_count": 44,
   "metadata": {
    "collapsed": false
   },
   "outputs": [
    {
     "data": {
      "text/plain": [
       "<pandas.core.groupby.DataFrameGroupBy object at 0x7f950c54c048>"
      ]
     },
     "execution_count": 44,
     "metadata": {},
     "output_type": "execute_result"
    }
   ],
   "source": [
    "df1.groupby('director')"
   ]
  },
  {
   "cell_type": "code",
   "execution_count": 45,
   "metadata": {
    "collapsed": false
   },
   "outputs": [
    {
     "data": {
      "text/html": [
       "<div style=\"max-height:1000px;max-width:1500px;overflow:auto;\">\n",
       "<table border=\"1\" class=\"dataframe\">\n",
       "  <thead>\n",
       "    <tr style=\"text-align: right;\">\n",
       "      <th></th>\n",
       "      <th>title</th>\n",
       "      <th>year</th>\n",
       "      <th>director</th>\n",
       "    </tr>\n",
       "  </thead>\n",
       "  <tbody>\n",
       "    <tr>\n",
       "      <th>0</th>\n",
       "      <td>     North by Northwest</td>\n",
       "      <td> 1959</td>\n",
       "      <td> Alfred Hitchcock</td>\n",
       "    </tr>\n",
       "    <tr>\n",
       "      <th>1</th>\n",
       "      <td>              Notorious</td>\n",
       "      <td> 1946</td>\n",
       "      <td> Alfred Hitchcock</td>\n",
       "    </tr>\n",
       "    <tr>\n",
       "      <th>2</th>\n",
       "      <td>   Arsenic and Old Lace</td>\n",
       "      <td> 1944</td>\n",
       "      <td>      Frank Capra</td>\n",
       "    </tr>\n",
       "    <tr>\n",
       "      <th>3</th>\n",
       "      <td> The Philadelphia Story</td>\n",
       "      <td> 1940</td>\n",
       "      <td>     George Cukor</td>\n",
       "    </tr>\n",
       "    <tr>\n",
       "      <th>4</th>\n",
       "      <td>                Charade</td>\n",
       "      <td> 1963</td>\n",
       "      <td>    Stanley Donen</td>\n",
       "    </tr>\n",
       "    <tr>\n",
       "      <th>5</th>\n",
       "      <td>       Bringing Up Baby</td>\n",
       "      <td> 1938</td>\n",
       "      <td>     Howard Hawks</td>\n",
       "    </tr>\n",
       "    <tr>\n",
       "      <th>6</th>\n",
       "      <td>       To Catch a Thief</td>\n",
       "      <td> 1955</td>\n",
       "      <td> Alfred Hitchcock</td>\n",
       "    </tr>\n",
       "    <tr>\n",
       "      <th>7</th>\n",
       "      <td>        His Girl Friday</td>\n",
       "      <td> 1940</td>\n",
       "      <td>     Howard Hawks</td>\n",
       "    </tr>\n",
       "  </tbody>\n",
       "</table>\n",
       "</div>"
      ],
      "text/plain": [
       "                    title  year          director\n",
       "0      North by Northwest  1959  Alfred Hitchcock\n",
       "1               Notorious  1946  Alfred Hitchcock\n",
       "2    Arsenic and Old Lace  1944       Frank Capra\n",
       "3  The Philadelphia Story  1940      George Cukor\n",
       "4                 Charade  1963     Stanley Donen\n",
       "5        Bringing Up Baby  1938      Howard Hawks\n",
       "6        To Catch a Thief  1955  Alfred Hitchcock\n",
       "7         His Girl Friday  1940      Howard Hawks"
      ]
     },
     "execution_count": 45,
     "metadata": {},
     "output_type": "execute_result"
    }
   ],
   "source": [
    "df1.groupby('director').head()  # looks the same!"
   ]
  },
  {
   "cell_type": "code",
   "execution_count": 51,
   "metadata": {
    "collapsed": false
   },
   "outputs": [
    {
     "data": {
      "text/plain": [
       "True"
      ]
     },
     "execution_count": 51,
     "metadata": {},
     "output_type": "execute_result"
    }
   ],
   "source": [
    "df1.groupby('director').head().equals(df1)"
   ]
  },
  {
   "cell_type": "code",
   "execution_count": 52,
   "metadata": {
    "collapsed": false
   },
   "outputs": [
    {
     "data": {
      "text/html": [
       "<div style=\"max-height:1000px;max-width:1500px;overflow:auto;\">\n",
       "<table border=\"1\" class=\"dataframe\">\n",
       "  <thead>\n",
       "    <tr style=\"text-align: right;\">\n",
       "      <th></th>\n",
       "      <th>title</th>\n",
       "      <th>year</th>\n",
       "      <th>director</th>\n",
       "    </tr>\n",
       "    <tr>\n",
       "      <th>director</th>\n",
       "      <th></th>\n",
       "      <th></th>\n",
       "      <th></th>\n",
       "    </tr>\n",
       "  </thead>\n",
       "  <tbody>\n",
       "    <tr>\n",
       "      <th>Alfred Hitchcock</th>\n",
       "      <td> NaN</td>\n",
       "      <td>NaN</td>\n",
       "      <td> NaN</td>\n",
       "    </tr>\n",
       "    <tr>\n",
       "      <th>Alfred Hitchcock</th>\n",
       "      <td> NaN</td>\n",
       "      <td>NaN</td>\n",
       "      <td> NaN</td>\n",
       "    </tr>\n",
       "    <tr>\n",
       "      <th>Frank Capra</th>\n",
       "      <td> NaN</td>\n",
       "      <td>NaN</td>\n",
       "      <td> NaN</td>\n",
       "    </tr>\n",
       "    <tr>\n",
       "      <th>George Cukor</th>\n",
       "      <td> NaN</td>\n",
       "      <td>NaN</td>\n",
       "      <td> NaN</td>\n",
       "    </tr>\n",
       "    <tr>\n",
       "      <th>Stanley Donen</th>\n",
       "      <td> NaN</td>\n",
       "      <td>NaN</td>\n",
       "      <td> NaN</td>\n",
       "    </tr>\n",
       "    <tr>\n",
       "      <th>Howard Hawks</th>\n",
       "      <td> NaN</td>\n",
       "      <td>NaN</td>\n",
       "      <td> NaN</td>\n",
       "    </tr>\n",
       "    <tr>\n",
       "      <th>Alfred Hitchcock</th>\n",
       "      <td> NaN</td>\n",
       "      <td>NaN</td>\n",
       "      <td> NaN</td>\n",
       "    </tr>\n",
       "    <tr>\n",
       "      <th>Howard Hawks</th>\n",
       "      <td> NaN</td>\n",
       "      <td>NaN</td>\n",
       "      <td> NaN</td>\n",
       "    </tr>\n",
       "  </tbody>\n",
       "</table>\n",
       "</div>"
      ],
      "text/plain": [
       "                 title  year director\n",
       "director                             \n",
       "Alfred Hitchcock   NaN   NaN      NaN\n",
       "Alfred Hitchcock   NaN   NaN      NaN\n",
       "Frank Capra        NaN   NaN      NaN\n",
       "George Cukor       NaN   NaN      NaN\n",
       "Stanley Donen      NaN   NaN      NaN\n",
       "Howard Hawks       NaN   NaN      NaN\n",
       "Alfred Hitchcock   NaN   NaN      NaN\n",
       "Howard Hawks       NaN   NaN      NaN"
      ]
     },
     "execution_count": 52,
     "metadata": {},
     "output_type": "execute_result"
    }
   ],
   "source": [
    "df1.reindex_axis(df1.director)"
   ]
  },
  {
   "cell_type": "code",
   "execution_count": 61,
   "metadata": {
    "collapsed": false
   },
   "outputs": [
    {
     "data": {
      "text/plain": [
       "[('Alfred Hitchcock',                 title  year          director\n",
       "  0  North by Northwest  1959  Alfred Hitchcock\n",
       "  1           Notorious  1946  Alfred Hitchcock\n",
       "  6    To Catch a Thief  1955  Alfred Hitchcock),\n",
       " ('Frank Capra',                   title  year     director\n",
       "  2  Arsenic and Old Lace  1944  Frank Capra),\n",
       " ('George Cukor',                     title  year      director\n",
       "  3  The Philadelphia Story  1940  George Cukor),\n",
       " ('Howard Hawks',               title  year      director\n",
       "  5  Bringing Up Baby  1938  Howard Hawks\n",
       "  7   His Girl Friday  1940  Howard Hawks),\n",
       " ('Stanley Donen',      title  year       director\n",
       "  4  Charade  1963  Stanley Donen)]"
      ]
     },
     "execution_count": 61,
     "metadata": {},
     "output_type": "execute_result"
    }
   ],
   "source": [
    "list(df1.groupby('director'))"
   ]
  },
  {
   "cell_type": "code",
   "execution_count": 63,
   "metadata": {
    "collapsed": false
   },
   "outputs": [
    {
     "data": {
      "text/html": [
       "<div style=\"max-height:1000px;max-width:1500px;overflow:auto;\">\n",
       "<table border=\"1\" class=\"dataframe\">\n",
       "  <thead>\n",
       "    <tr style=\"text-align: right;\">\n",
       "      <th></th>\n",
       "      <th>title</th>\n",
       "      <th>year</th>\n",
       "      <th>director</th>\n",
       "    </tr>\n",
       "  </thead>\n",
       "  <tbody>\n",
       "    <tr>\n",
       "      <th>0</th>\n",
       "      <td> North by Northwest</td>\n",
       "      <td> 1959</td>\n",
       "      <td> Alfred Hitchcock</td>\n",
       "    </tr>\n",
       "    <tr>\n",
       "      <th>1</th>\n",
       "      <td>          Notorious</td>\n",
       "      <td> 1946</td>\n",
       "      <td> Alfred Hitchcock</td>\n",
       "    </tr>\n",
       "    <tr>\n",
       "      <th>6</th>\n",
       "      <td>   To Catch a Thief</td>\n",
       "      <td> 1955</td>\n",
       "      <td> Alfred Hitchcock</td>\n",
       "    </tr>\n",
       "  </tbody>\n",
       "</table>\n",
       "</div>"
      ],
      "text/plain": [
       "                title  year          director\n",
       "0  North by Northwest  1959  Alfred Hitchcock\n",
       "1           Notorious  1946  Alfred Hitchcock\n",
       "6    To Catch a Thief  1955  Alfred Hitchcock"
      ]
     },
     "execution_count": 63,
     "metadata": {},
     "output_type": "execute_result"
    }
   ],
   "source": [
    "df1.groupby('director').get_group('Alfred Hitchcock')"
   ]
  },
  {
   "cell_type": "code",
   "execution_count": 64,
   "metadata": {
    "collapsed": false
   },
   "outputs": [
    {
     "data": {
      "text/html": [
       "<div style=\"max-height:1000px;max-width:1500px;overflow:auto;\">\n",
       "<table border=\"1\" class=\"dataframe\">\n",
       "  <thead>\n",
       "    <tr style=\"text-align: right;\">\n",
       "      <th></th>\n",
       "      <th>title</th>\n",
       "      <th>year</th>\n",
       "    </tr>\n",
       "    <tr>\n",
       "      <th>director</th>\n",
       "      <th></th>\n",
       "      <th></th>\n",
       "    </tr>\n",
       "  </thead>\n",
       "  <tbody>\n",
       "    <tr>\n",
       "      <th>Alfred Hitchcock</th>\n",
       "      <td>     North by Northwest</td>\n",
       "      <td> 1959</td>\n",
       "    </tr>\n",
       "    <tr>\n",
       "      <th>Frank Capra</th>\n",
       "      <td>   Arsenic and Old Lace</td>\n",
       "      <td> 1944</td>\n",
       "    </tr>\n",
       "    <tr>\n",
       "      <th>George Cukor</th>\n",
       "      <td> The Philadelphia Story</td>\n",
       "      <td> 1940</td>\n",
       "    </tr>\n",
       "    <tr>\n",
       "      <th>Howard Hawks</th>\n",
       "      <td>       Bringing Up Baby</td>\n",
       "      <td> 1938</td>\n",
       "    </tr>\n",
       "    <tr>\n",
       "      <th>Stanley Donen</th>\n",
       "      <td>                Charade</td>\n",
       "      <td> 1963</td>\n",
       "    </tr>\n",
       "  </tbody>\n",
       "</table>\n",
       "</div>"
      ],
      "text/plain": [
       "                                   title  year\n",
       "director                                      \n",
       "Alfred Hitchcock      North by Northwest  1959\n",
       "Frank Capra         Arsenic and Old Lace  1944\n",
       "George Cukor      The Philadelphia Story  1940\n",
       "Howard Hawks            Bringing Up Baby  1938\n",
       "Stanley Donen                    Charade  1963"
      ]
     },
     "execution_count": 64,
     "metadata": {},
     "output_type": "execute_result"
    }
   ],
   "source": [
    "df1.groupby('director').first()"
   ]
  },
  {
   "cell_type": "code",
   "execution_count": 65,
   "metadata": {
    "collapsed": false
   },
   "outputs": [
    {
     "data": {
      "text/html": [
       "<div style=\"max-height:1000px;max-width:1500px;overflow:auto;\">\n",
       "<table border=\"1\" class=\"dataframe\">\n",
       "  <thead>\n",
       "    <tr style=\"text-align: right;\">\n",
       "      <th></th>\n",
       "      <th>title</th>\n",
       "      <th>year</th>\n",
       "    </tr>\n",
       "    <tr>\n",
       "      <th>director</th>\n",
       "      <th></th>\n",
       "      <th></th>\n",
       "    </tr>\n",
       "  </thead>\n",
       "  <tbody>\n",
       "    <tr>\n",
       "      <th>Alfred Hitchcock</th>\n",
       "      <td>       To Catch a Thief</td>\n",
       "      <td> 1955</td>\n",
       "    </tr>\n",
       "    <tr>\n",
       "      <th>Frank Capra</th>\n",
       "      <td>   Arsenic and Old Lace</td>\n",
       "      <td> 1944</td>\n",
       "    </tr>\n",
       "    <tr>\n",
       "      <th>George Cukor</th>\n",
       "      <td> The Philadelphia Story</td>\n",
       "      <td> 1940</td>\n",
       "    </tr>\n",
       "    <tr>\n",
       "      <th>Howard Hawks</th>\n",
       "      <td>        His Girl Friday</td>\n",
       "      <td> 1940</td>\n",
       "    </tr>\n",
       "    <tr>\n",
       "      <th>Stanley Donen</th>\n",
       "      <td>                Charade</td>\n",
       "      <td> 1963</td>\n",
       "    </tr>\n",
       "  </tbody>\n",
       "</table>\n",
       "</div>"
      ],
      "text/plain": [
       "                                   title  year\n",
       "director                                      \n",
       "Alfred Hitchcock        To Catch a Thief  1955\n",
       "Frank Capra         Arsenic and Old Lace  1944\n",
       "George Cukor      The Philadelphia Story  1940\n",
       "Howard Hawks             His Girl Friday  1940\n",
       "Stanley Donen                    Charade  1963"
      ]
     },
     "execution_count": 65,
     "metadata": {},
     "output_type": "execute_result"
    }
   ],
   "source": [
    "df1.groupby('director').last()"
   ]
  },
  {
   "cell_type": "code",
   "execution_count": 96,
   "metadata": {
    "collapsed": false
   },
   "outputs": [
    {
     "data": {
      "text/html": [
       "<div style=\"max-height:1000px;max-width:1500px;overflow:auto;\">\n",
       "<table border=\"1\" class=\"dataframe\">\n",
       "  <thead>\n",
       "    <tr style=\"text-align: right;\">\n",
       "      <th></th>\n",
       "      <th>title</th>\n",
       "      <th>year</th>\n",
       "    </tr>\n",
       "    <tr>\n",
       "      <th>director</th>\n",
       "      <th></th>\n",
       "      <th></th>\n",
       "    </tr>\n",
       "  </thead>\n",
       "  <tbody>\n",
       "    <tr>\n",
       "      <th>Alfred Hitchcock</th>\n",
       "      <td>       To Catch a Thief</td>\n",
       "      <td> 1959</td>\n",
       "    </tr>\n",
       "    <tr>\n",
       "      <th>Frank Capra</th>\n",
       "      <td>   Arsenic and Old Lace</td>\n",
       "      <td> 1944</td>\n",
       "    </tr>\n",
       "    <tr>\n",
       "      <th>George Cukor</th>\n",
       "      <td> The Philadelphia Story</td>\n",
       "      <td> 1940</td>\n",
       "    </tr>\n",
       "    <tr>\n",
       "      <th>Howard Hawks</th>\n",
       "      <td>        His Girl Friday</td>\n",
       "      <td> 1940</td>\n",
       "    </tr>\n",
       "    <tr>\n",
       "      <th>Stanley Donen</th>\n",
       "      <td>                Charade</td>\n",
       "      <td> 1963</td>\n",
       "    </tr>\n",
       "  </tbody>\n",
       "</table>\n",
       "</div>"
      ],
      "text/plain": [
       "                                   title  year\n",
       "director                                      \n",
       "Alfred Hitchcock        To Catch a Thief  1959\n",
       "Frank Capra         Arsenic and Old Lace  1944\n",
       "George Cukor      The Philadelphia Story  1940\n",
       "Howard Hawks             His Girl Friday  1940\n",
       "Stanley Donen                    Charade  1963"
      ]
     },
     "execution_count": 96,
     "metadata": {},
     "output_type": "execute_result"
    }
   ],
   "source": [
    "df1.groupby('director').max()"
   ]
  },
  {
   "cell_type": "code",
   "execution_count": 97,
   "metadata": {
    "collapsed": false
   },
   "outputs": [
    {
     "data": {
      "text/plain": [
       "title    To Catch a Thief\n",
       "year                 1959\n",
       "Name: Alfred Hitchcock, dtype: object"
      ]
     },
     "execution_count": 97,
     "metadata": {},
     "output_type": "execute_result"
    }
   ],
   "source": [
    "df1.groupby('director').max().ix['Alfred Hitchcock']"
   ]
  },
  {
   "cell_type": "code",
   "execution_count": 98,
   "metadata": {
    "collapsed": false
   },
   "outputs": [
    {
     "data": {
      "text/html": [
       "<div style=\"max-height:1000px;max-width:1500px;overflow:auto;\">\n",
       "<table border=\"1\" class=\"dataframe\">\n",
       "  <thead>\n",
       "    <tr style=\"text-align: right;\">\n",
       "      <th></th>\n",
       "      <th></th>\n",
       "      <th>title</th>\n",
       "      <th>year</th>\n",
       "    </tr>\n",
       "    <tr>\n",
       "      <th>director</th>\n",
       "      <th></th>\n",
       "      <th></th>\n",
       "      <th></th>\n",
       "    </tr>\n",
       "  </thead>\n",
       "  <tbody>\n",
       "    <tr>\n",
       "      <th rowspan=\"3\" valign=\"top\">Alfred Hitchcock</th>\n",
       "      <th>0</th>\n",
       "      <td>     North by Northwest</td>\n",
       "      <td> 1959</td>\n",
       "    </tr>\n",
       "    <tr>\n",
       "      <th>1</th>\n",
       "      <td>              Notorious</td>\n",
       "      <td> 1946</td>\n",
       "    </tr>\n",
       "    <tr>\n",
       "      <th>6</th>\n",
       "      <td>       To Catch a Thief</td>\n",
       "      <td> 1955</td>\n",
       "    </tr>\n",
       "    <tr>\n",
       "      <th>Frank Capra</th>\n",
       "      <th>2</th>\n",
       "      <td>   Arsenic and Old Lace</td>\n",
       "      <td> 1944</td>\n",
       "    </tr>\n",
       "    <tr>\n",
       "      <th>George Cukor</th>\n",
       "      <th>3</th>\n",
       "      <td> The Philadelphia Story</td>\n",
       "      <td> 1940</td>\n",
       "    </tr>\n",
       "    <tr>\n",
       "      <th rowspan=\"2\" valign=\"top\">Howard Hawks</th>\n",
       "      <th>5</th>\n",
       "      <td>       Bringing Up Baby</td>\n",
       "      <td> 1938</td>\n",
       "    </tr>\n",
       "    <tr>\n",
       "      <th>7</th>\n",
       "      <td>        His Girl Friday</td>\n",
       "      <td> 1940</td>\n",
       "    </tr>\n",
       "    <tr>\n",
       "      <th>Stanley Donen</th>\n",
       "      <th>4</th>\n",
       "      <td>                Charade</td>\n",
       "      <td> 1963</td>\n",
       "    </tr>\n",
       "  </tbody>\n",
       "</table>\n",
       "</div>"
      ],
      "text/plain": [
       "                                     title  year\n",
       "director                                        \n",
       "Alfred Hitchcock 0      North by Northwest  1959\n",
       "                 1               Notorious  1946\n",
       "                 6        To Catch a Thief  1955\n",
       "Frank Capra      2    Arsenic and Old Lace  1944\n",
       "George Cukor     3  The Philadelphia Story  1940\n",
       "Howard Hawks     5        Bringing Up Baby  1938\n",
       "                 7         His Girl Friday  1940\n",
       "Stanley Donen    4                 Charade  1963"
      ]
     },
     "execution_count": 98,
     "metadata": {},
     "output_type": "execute_result"
    }
   ],
   "source": [
    "df2 = df1.groupby(['director', df.index]).first()\n",
    "df2"
   ]
  },
  {
   "cell_type": "code",
   "execution_count": 99,
   "metadata": {
    "collapsed": false
   },
   "outputs": [
    {
     "data": {
      "text/html": [
       "<div style=\"max-height:1000px;max-width:1500px;overflow:auto;\">\n",
       "<table border=\"1\" class=\"dataframe\">\n",
       "  <thead>\n",
       "    <tr style=\"text-align: right;\">\n",
       "      <th></th>\n",
       "      <th>title</th>\n",
       "      <th>year</th>\n",
       "    </tr>\n",
       "  </thead>\n",
       "  <tbody>\n",
       "    <tr>\n",
       "      <th>0</th>\n",
       "      <td> North by Northwest</td>\n",
       "      <td> 1959</td>\n",
       "    </tr>\n",
       "    <tr>\n",
       "      <th>1</th>\n",
       "      <td>          Notorious</td>\n",
       "      <td> 1946</td>\n",
       "    </tr>\n",
       "    <tr>\n",
       "      <th>6</th>\n",
       "      <td>   To Catch a Thief</td>\n",
       "      <td> 1955</td>\n",
       "    </tr>\n",
       "  </tbody>\n",
       "</table>\n",
       "</div>"
      ],
      "text/plain": [
       "                title  year\n",
       "0  North by Northwest  1959\n",
       "1           Notorious  1946\n",
       "6    To Catch a Thief  1955"
      ]
     },
     "execution_count": 99,
     "metadata": {},
     "output_type": "execute_result"
    }
   ],
   "source": [
    "df2.ix['Alfred Hitchcock']"
   ]
  },
  {
   "cell_type": "code",
   "execution_count": 100,
   "metadata": {
    "collapsed": false
   },
   "outputs": [
    {
     "data": {
      "text/plain": [
       "title    To Catch a Thief\n",
       "year                 1955\n",
       "Name: (Alfred Hitchcock, 6), dtype: object"
      ]
     },
     "execution_count": 100,
     "metadata": {},
     "output_type": "execute_result"
    }
   ],
   "source": [
    "df2.ix['Alfred Hitchcock',6]"
   ]
  },
  {
   "cell_type": "code",
   "execution_count": 106,
   "metadata": {
    "collapsed": false
   },
   "outputs": [
    {
     "data": {
      "text/html": [
       "<div style=\"max-height:1000px;max-width:1500px;overflow:auto;\">\n",
       "<table border=\"1\" class=\"dataframe\">\n",
       "  <thead>\n",
       "    <tr style=\"text-align: right;\">\n",
       "      <th></th>\n",
       "      <th>first_year</th>\n",
       "      <th>last_year</th>\n",
       "    </tr>\n",
       "    <tr>\n",
       "      <th>director</th>\n",
       "      <th></th>\n",
       "      <th></th>\n",
       "    </tr>\n",
       "  </thead>\n",
       "  <tbody>\n",
       "    <tr>\n",
       "      <th>Alfred Hitchcock</th>\n",
       "      <td> 1946</td>\n",
       "      <td> 1959</td>\n",
       "    </tr>\n",
       "    <tr>\n",
       "      <th>Frank Capra</th>\n",
       "      <td> 1944</td>\n",
       "      <td> 1944</td>\n",
       "    </tr>\n",
       "    <tr>\n",
       "      <th>George Cukor</th>\n",
       "      <td> 1940</td>\n",
       "      <td> 1940</td>\n",
       "    </tr>\n",
       "    <tr>\n",
       "      <th>Howard Hawks</th>\n",
       "      <td> 1938</td>\n",
       "      <td> 1940</td>\n",
       "    </tr>\n",
       "    <tr>\n",
       "      <th>Stanley Donen</th>\n",
       "      <td> 1963</td>\n",
       "      <td> 1963</td>\n",
       "    </tr>\n",
       "  </tbody>\n",
       "</table>\n",
       "</div>"
      ],
      "text/plain": [
       "                  first_year  last_year\n",
       "director                               \n",
       "Alfred Hitchcock        1946       1959\n",
       "Frank Capra             1944       1944\n",
       "George Cukor            1940       1940\n",
       "Howard Hawks            1938       1940\n",
       "Stanley Donen           1963       1963"
      ]
     },
     "execution_count": 106,
     "metadata": {},
     "output_type": "execute_result"
    }
   ],
   "source": [
    "df1.groupby('director')['year'].agg([('first_year', min), ('last_year', max)])"
   ]
  },
  {
   "cell_type": "code",
   "execution_count": 112,
   "metadata": {
    "collapsed": false
   },
   "outputs": [
    {
     "data": {
      "text/html": [
       "<div style=\"max-height:1000px;max-width:1500px;overflow:auto;\">\n",
       "<table border=\"1\" class=\"dataframe\">\n",
       "  <thead>\n",
       "    <tr style=\"text-align: right;\">\n",
       "      <th></th>\n",
       "      <th>title</th>\n",
       "      <th>year</th>\n",
       "    </tr>\n",
       "    <tr>\n",
       "      <th>director</th>\n",
       "      <th></th>\n",
       "      <th></th>\n",
       "    </tr>\n",
       "  </thead>\n",
       "  <tbody>\n",
       "    <tr>\n",
       "      <th>Alfred Hitchcock</th>\n",
       "      <td>     North by Northwest</td>\n",
       "      <td> 1959</td>\n",
       "    </tr>\n",
       "    <tr>\n",
       "      <th>Frank Capra</th>\n",
       "      <td>   Arsenic and Old Lace</td>\n",
       "      <td> 1944</td>\n",
       "    </tr>\n",
       "    <tr>\n",
       "      <th>George Cukor</th>\n",
       "      <td> The Philadelphia Story</td>\n",
       "      <td> 1940</td>\n",
       "    </tr>\n",
       "    <tr>\n",
       "      <th>Howard Hawks</th>\n",
       "      <td>       Bringing Up Baby</td>\n",
       "      <td> 1940</td>\n",
       "    </tr>\n",
       "    <tr>\n",
       "      <th>Stanley Donen</th>\n",
       "      <td>                Charade</td>\n",
       "      <td> 1963</td>\n",
       "    </tr>\n",
       "  </tbody>\n",
       "</table>\n",
       "</div>"
      ],
      "text/plain": [
       "                                   title  year\n",
       "director                                      \n",
       "Alfred Hitchcock      North by Northwest  1959\n",
       "Frank Capra         Arsenic and Old Lace  1944\n",
       "George Cukor      The Philadelphia Story  1940\n",
       "Howard Hawks            Bringing Up Baby  1940\n",
       "Stanley Donen                    Charade  1963"
      ]
     },
     "execution_count": 112,
     "metadata": {},
     "output_type": "execute_result"
    }
   ],
   "source": [
    "df1.groupby('director').agg({'title': min, 'year': max})"
   ]
  },
  {
   "cell_type": "code",
   "execution_count": 115,
   "metadata": {
    "collapsed": false
   },
   "outputs": [
    {
     "data": {
      "text/html": [
       "<div style=\"max-height:1000px;max-width:1500px;overflow:auto;\">\n",
       "<table border=\"1\" class=\"dataframe\">\n",
       "  <thead>\n",
       "    <tr style=\"text-align: right;\">\n",
       "      <th></th>\n",
       "      <th></th>\n",
       "      <th>year</th>\n",
       "    </tr>\n",
       "    <tr>\n",
       "      <th>director</th>\n",
       "      <th>title</th>\n",
       "      <th></th>\n",
       "    </tr>\n",
       "  </thead>\n",
       "  <tbody>\n",
       "    <tr>\n",
       "      <th rowspan=\"3\" valign=\"top\">Alfred Hitchcock</th>\n",
       "      <th>North by Northwest</th>\n",
       "      <td> 1959</td>\n",
       "    </tr>\n",
       "    <tr>\n",
       "      <th>Notorious</th>\n",
       "      <td> 1946</td>\n",
       "    </tr>\n",
       "    <tr>\n",
       "      <th>To Catch a Thief</th>\n",
       "      <td> 1955</td>\n",
       "    </tr>\n",
       "    <tr>\n",
       "      <th>Frank Capra</th>\n",
       "      <th>Arsenic and Old Lace</th>\n",
       "      <td> 1944</td>\n",
       "    </tr>\n",
       "    <tr>\n",
       "      <th>George Cukor</th>\n",
       "      <th>The Philadelphia Story</th>\n",
       "      <td> 1940</td>\n",
       "    </tr>\n",
       "    <tr>\n",
       "      <th rowspan=\"2\" valign=\"top\">Howard Hawks</th>\n",
       "      <th>Bringing Up Baby</th>\n",
       "      <td> 1938</td>\n",
       "    </tr>\n",
       "    <tr>\n",
       "      <th>His Girl Friday</th>\n",
       "      <td> 1940</td>\n",
       "    </tr>\n",
       "    <tr>\n",
       "      <th>Stanley Donen</th>\n",
       "      <th>Charade</th>\n",
       "      <td> 1963</td>\n",
       "    </tr>\n",
       "  </tbody>\n",
       "</table>\n",
       "</div>"
      ],
      "text/plain": [
       "                                         year\n",
       "director         title                       \n",
       "Alfred Hitchcock North by Northwest      1959\n",
       "                 Notorious               1946\n",
       "                 To Catch a Thief        1955\n",
       "Frank Capra      Arsenic and Old Lace    1944\n",
       "George Cukor     The Philadelphia Story  1940\n",
       "Howard Hawks     Bringing Up Baby        1938\n",
       "                 His Girl Friday         1940\n",
       "Stanley Donen    Charade                 1963"
      ]
     },
     "execution_count": 115,
     "metadata": {},
     "output_type": "execute_result"
    }
   ],
   "source": [
    "df3 = df1.groupby(['director', 'title']).first()\n",
    "df3"
   ]
  },
  {
   "cell_type": "code",
   "execution_count": 116,
   "metadata": {
    "collapsed": false
   },
   "outputs": [
    {
     "data": {
      "text/html": [
       "<div style=\"max-height:1000px;max-width:1500px;overflow:auto;\">\n",
       "<table border=\"1\" class=\"dataframe\">\n",
       "  <thead>\n",
       "    <tr style=\"text-align: right;\">\n",
       "      <th></th>\n",
       "      <th></th>\n",
       "      <th>title</th>\n",
       "    </tr>\n",
       "    <tr>\n",
       "      <th>director</th>\n",
       "      <th>year</th>\n",
       "      <th></th>\n",
       "    </tr>\n",
       "  </thead>\n",
       "  <tbody>\n",
       "    <tr>\n",
       "      <th rowspan=\"3\" valign=\"top\">Alfred Hitchcock</th>\n",
       "      <th>1946</th>\n",
       "      <td>              Notorious</td>\n",
       "    </tr>\n",
       "    <tr>\n",
       "      <th>1955</th>\n",
       "      <td>       To Catch a Thief</td>\n",
       "    </tr>\n",
       "    <tr>\n",
       "      <th>1959</th>\n",
       "      <td>     North by Northwest</td>\n",
       "    </tr>\n",
       "    <tr>\n",
       "      <th>Frank Capra</th>\n",
       "      <th>1944</th>\n",
       "      <td>   Arsenic and Old Lace</td>\n",
       "    </tr>\n",
       "    <tr>\n",
       "      <th>George Cukor</th>\n",
       "      <th>1940</th>\n",
       "      <td> The Philadelphia Story</td>\n",
       "    </tr>\n",
       "    <tr>\n",
       "      <th rowspan=\"2\" valign=\"top\">Howard Hawks</th>\n",
       "      <th>1938</th>\n",
       "      <td>       Bringing Up Baby</td>\n",
       "    </tr>\n",
       "    <tr>\n",
       "      <th>1940</th>\n",
       "      <td>        His Girl Friday</td>\n",
       "    </tr>\n",
       "    <tr>\n",
       "      <th>Stanley Donen</th>\n",
       "      <th>1963</th>\n",
       "      <td>                Charade</td>\n",
       "    </tr>\n",
       "  </tbody>\n",
       "</table>\n",
       "</div>"
      ],
      "text/plain": [
       "                                        title\n",
       "director         year                        \n",
       "Alfred Hitchcock 1946               Notorious\n",
       "                 1955        To Catch a Thief\n",
       "                 1959      North by Northwest\n",
       "Frank Capra      1944    Arsenic and Old Lace\n",
       "George Cukor     1940  The Philadelphia Story\n",
       "Howard Hawks     1938        Bringing Up Baby\n",
       "                 1940         His Girl Friday\n",
       "Stanley Donen    1963                 Charade"
      ]
     },
     "execution_count": 116,
     "metadata": {},
     "output_type": "execute_result"
    }
   ],
   "source": [
    "df4 = df1.groupby(['director', 'year']).first()\n",
    "df4"
   ]
  },
  {
   "cell_type": "code",
   "execution_count": 122,
   "metadata": {
    "collapsed": false
   },
   "outputs": [
    {
     "data": {
      "text/html": [
       "<div style=\"max-height:1000px;max-width:1500px;overflow:auto;\">\n",
       "<table border=\"1\" class=\"dataframe\">\n",
       "  <thead>\n",
       "    <tr style=\"text-align: right;\">\n",
       "      <th></th>\n",
       "      <th></th>\n",
       "      <th></th>\n",
       "    </tr>\n",
       "    <tr>\n",
       "      <th>director</th>\n",
       "      <th>title</th>\n",
       "      <th>year</th>\n",
       "    </tr>\n",
       "  </thead>\n",
       "  <tbody>\n",
       "  </tbody>\n",
       "</table>\n",
       "</div>"
      ],
      "text/plain": [
       "Empty DataFrame\n",
       "Columns: []\n",
       "Index: []"
      ]
     },
     "execution_count": 122,
     "metadata": {},
     "output_type": "execute_result"
    }
   ],
   "source": [
    "df1.groupby(['director', 'title', 'year']).first()"
   ]
  },
  {
   "cell_type": "code",
   "execution_count": 140,
   "metadata": {
    "collapsed": false
   },
   "outputs": [
    {
     "data": {
      "text/plain": [
       "0  title           North by Northwest\n",
       "   year                          1959\n",
       "   director          Alfred Hitchcock\n",
       "1  title                    Notorious\n",
       "   year                          1946\n",
       "   director          Alfred Hitchcock\n",
       "2  title         Arsenic and Old Lace\n",
       "   year                          1944\n",
       "   director               Frank Capra\n",
       "3  title       The Philadelphia Story\n",
       "   year                          1940\n",
       "   director              George Cukor\n",
       "4  title                      Charade\n",
       "   year                          1963\n",
       "   director             Stanley Donen\n",
       "5  title             Bringing Up Baby\n",
       "   year                          1938\n",
       "   director              Howard Hawks\n",
       "6  title             To Catch a Thief\n",
       "   year                          1955\n",
       "   director          Alfred Hitchcock\n",
       "7  title              His Girl Friday\n",
       "   year                          1940\n",
       "   director              Howard Hawks\n",
       "dtype: object"
      ]
     },
     "execution_count": 140,
     "metadata": {},
     "output_type": "execute_result"
    }
   ],
   "source": [
    "s1 = df1.stack()\n",
    "s1"
   ]
  },
  {
   "cell_type": "code",
   "execution_count": 142,
   "metadata": {
    "collapsed": false
   },
   "outputs": [
    {
     "data": {
      "text/plain": [
       "title     0        North by Northwest\n",
       "          1                 Notorious\n",
       "          2      Arsenic and Old Lace\n",
       "          3    The Philadelphia Story\n",
       "          4                   Charade\n",
       "          5          Bringing Up Baby\n",
       "          6          To Catch a Thief\n",
       "          7           His Girl Friday\n",
       "year      0                      1959\n",
       "          1                      1946\n",
       "          2                      1944\n",
       "          3                      1940\n",
       "          4                      1963\n",
       "          5                      1938\n",
       "          6                      1955\n",
       "          7                      1940\n",
       "director  0          Alfred Hitchcock\n",
       "          1          Alfred Hitchcock\n",
       "          2               Frank Capra\n",
       "          3              George Cukor\n",
       "          4             Stanley Donen\n",
       "          5              Howard Hawks\n",
       "          6          Alfred Hitchcock\n",
       "          7              Howard Hawks\n",
       "dtype: object"
      ]
     },
     "execution_count": 142,
     "metadata": {},
     "output_type": "execute_result"
    }
   ],
   "source": [
    "s2 = df1.unstack()\n",
    "s2"
   ]
  },
  {
   "cell_type": "code",
   "execution_count": 146,
   "metadata": {
    "collapsed": false
   },
   "outputs": [
    {
     "data": {
      "text/plain": [
       "director          title                       \n",
       "Alfred Hitchcock  North by Northwest      year    1959\n",
       "                  Notorious               year    1946\n",
       "                  To Catch a Thief        year    1955\n",
       "Frank Capra       Arsenic and Old Lace    year    1944\n",
       "George Cukor      The Philadelphia Story  year    1940\n",
       "Howard Hawks      Bringing Up Baby        year    1938\n",
       "                  His Girl Friday         year    1940\n",
       "Stanley Donen     Charade                 year    1963\n",
       "dtype: int64"
      ]
     },
     "execution_count": 146,
     "metadata": {},
     "output_type": "execute_result"
    }
   ],
   "source": [
    "df3.stack()"
   ]
  },
  {
   "cell_type": "code",
   "execution_count": 148,
   "metadata": {
    "collapsed": false
   },
   "outputs": [
    {
     "data": {
      "text/html": [
       "<div style=\"max-height:1000px;max-width:1500px;overflow:auto;\">\n",
       "<table border=\"1\" class=\"dataframe\">\n",
       "  <thead>\n",
       "    <tr>\n",
       "      <th></th>\n",
       "      <th colspan=\"8\" halign=\"left\">year</th>\n",
       "    </tr>\n",
       "    <tr>\n",
       "      <th>title</th>\n",
       "      <th>Arsenic and Old Lace</th>\n",
       "      <th>Bringing Up Baby</th>\n",
       "      <th>Charade</th>\n",
       "      <th>His Girl Friday</th>\n",
       "      <th>North by Northwest</th>\n",
       "      <th>Notorious</th>\n",
       "      <th>The Philadelphia Story</th>\n",
       "      <th>To Catch a Thief</th>\n",
       "    </tr>\n",
       "    <tr>\n",
       "      <th>director</th>\n",
       "      <th></th>\n",
       "      <th></th>\n",
       "      <th></th>\n",
       "      <th></th>\n",
       "      <th></th>\n",
       "      <th></th>\n",
       "      <th></th>\n",
       "      <th></th>\n",
       "    </tr>\n",
       "  </thead>\n",
       "  <tbody>\n",
       "    <tr>\n",
       "      <th>Alfred Hitchcock</th>\n",
       "      <td>  NaN</td>\n",
       "      <td>  NaN</td>\n",
       "      <td>  NaN</td>\n",
       "      <td>  NaN</td>\n",
       "      <td> 1959</td>\n",
       "      <td> 1946</td>\n",
       "      <td>  NaN</td>\n",
       "      <td> 1955</td>\n",
       "    </tr>\n",
       "    <tr>\n",
       "      <th>Frank Capra</th>\n",
       "      <td> 1944</td>\n",
       "      <td>  NaN</td>\n",
       "      <td>  NaN</td>\n",
       "      <td>  NaN</td>\n",
       "      <td>  NaN</td>\n",
       "      <td>  NaN</td>\n",
       "      <td>  NaN</td>\n",
       "      <td>  NaN</td>\n",
       "    </tr>\n",
       "    <tr>\n",
       "      <th>George Cukor</th>\n",
       "      <td>  NaN</td>\n",
       "      <td>  NaN</td>\n",
       "      <td>  NaN</td>\n",
       "      <td>  NaN</td>\n",
       "      <td>  NaN</td>\n",
       "      <td>  NaN</td>\n",
       "      <td> 1940</td>\n",
       "      <td>  NaN</td>\n",
       "    </tr>\n",
       "    <tr>\n",
       "      <th>Howard Hawks</th>\n",
       "      <td>  NaN</td>\n",
       "      <td> 1938</td>\n",
       "      <td>  NaN</td>\n",
       "      <td> 1940</td>\n",
       "      <td>  NaN</td>\n",
       "      <td>  NaN</td>\n",
       "      <td>  NaN</td>\n",
       "      <td>  NaN</td>\n",
       "    </tr>\n",
       "    <tr>\n",
       "      <th>Stanley Donen</th>\n",
       "      <td>  NaN</td>\n",
       "      <td>  NaN</td>\n",
       "      <td> 1963</td>\n",
       "      <td>  NaN</td>\n",
       "      <td>  NaN</td>\n",
       "      <td>  NaN</td>\n",
       "      <td>  NaN</td>\n",
       "      <td>  NaN</td>\n",
       "    </tr>\n",
       "  </tbody>\n",
       "</table>\n",
       "</div>"
      ],
      "text/plain": [
       "                                 year                           \\\n",
       "title            Arsenic and Old Lace Bringing Up Baby Charade   \n",
       "director                                                         \n",
       "Alfred Hitchcock                  NaN              NaN     NaN   \n",
       "Frank Capra                      1944              NaN     NaN   \n",
       "George Cukor                      NaN              NaN     NaN   \n",
       "Howard Hawks                      NaN             1938     NaN   \n",
       "Stanley Donen                     NaN              NaN    1963   \n",
       "\n",
       "                                                               \\\n",
       "title            His Girl Friday North by Northwest Notorious   \n",
       "director                                                        \n",
       "Alfred Hitchcock             NaN               1959      1946   \n",
       "Frank Capra                  NaN                NaN       NaN   \n",
       "George Cukor                 NaN                NaN       NaN   \n",
       "Howard Hawks                1940                NaN       NaN   \n",
       "Stanley Donen                NaN                NaN       NaN   \n",
       "\n",
       "                                                          \n",
       "title            The Philadelphia Story To Catch a Thief  \n",
       "director                                                  \n",
       "Alfred Hitchcock                    NaN             1955  \n",
       "Frank Capra                         NaN              NaN  \n",
       "George Cukor                       1940              NaN  \n",
       "Howard Hawks                        NaN              NaN  \n",
       "Stanley Donen                       NaN              NaN  "
      ]
     },
     "execution_count": 148,
     "metadata": {},
     "output_type": "execute_result"
    }
   ],
   "source": [
    "df3.unstack()"
   ]
  },
  {
   "cell_type": "code",
   "execution_count": null,
   "metadata": {
    "collapsed": true
   },
   "outputs": [],
   "source": []
  }
 ],
 "metadata": {
  "kernelspec": {
   "display_name": "Python 3",
   "language": "python",
   "name": "python3"
  },
  "language_info": {
   "codemirror_mode": {
    "name": "ipython",
    "version": 3
   },
   "file_extension": ".py",
   "mimetype": "text/x-python",
   "name": "python",
   "nbconvert_exporter": "python",
   "pygments_lexer": "ipython3",
   "version": "3.4.3"
  }
 },
 "nbformat": 4,
 "nbformat_minor": 0
}
