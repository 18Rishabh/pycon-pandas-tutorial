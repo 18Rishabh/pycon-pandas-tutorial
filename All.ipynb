{
 "cells": [
  {
   "cell_type": "code",
   "execution_count": 5,
   "metadata": {
    "collapsed": true
   },
   "outputs": [],
   "source": [
    "%matplotlib inline\n",
    "import pandas as pd"
   ]
  },
  {
   "cell_type": "code",
   "execution_count": 6,
   "metadata": {
    "collapsed": false
   },
   "outputs": [
    {
     "data": {
      "text/html": [
       "<style>body {\n",
       "    margin: 0;\n",
       "    font-family: Helvetica;\n",
       "}\n",
       "table.dataframe {\n",
       "    border-collapse: collapse;\n",
       "    border: none;\n",
       "}\n",
       "table.dataframe tr {\n",
       "    border: none;\n",
       "}\n",
       "table.dataframe td, table.dataframe th {\n",
       "    margin: 0;\n",
       "    border: 1px solid white;\n",
       "    padding-left: 0.25em;\n",
       "    padding-right: 0.25em;\n",
       "}\n",
       "table.dataframe th:not(:empty) {\n",
       "    background-color: #fec;\n",
       "    text-align: left;\n",
       "    font-weight: normal;\n",
       "}\n",
       "table.dataframe tr:nth-child(2) th:empty {\n",
       "    border-left: none;\n",
       "    border-right: 1px dashed #888;\n",
       "}\n",
       "table.dataframe td {\n",
       "    border: 2px solid #ccf;\n",
       "    background-color: #f4f4ff;\n",
       "}\n",
       "h3 {\n",
       "    color: white;\n",
       "    background-color: black;\n",
       "    padding: 0.5em;\n",
       "}\n",
       "</style>"
      ],
      "text/plain": [
       "<IPython.core.display.HTML object>"
      ]
     },
     "execution_count": 6,
     "metadata": {},
     "output_type": "execute_result"
    }
   ],
   "source": [
    "from IPython.core.display import HTML\n",
    "css = open('style-table.css').read() + open('style-notebook.css').read()\n",
    "HTML('<style>{}</style>'.format(css))"
   ]
  },
  {
   "cell_type": "code",
   "execution_count": 7,
   "metadata": {
    "collapsed": false
   },
   "outputs": [
    {
     "name": "stdout",
     "output_type": "stream",
     "text": [
      "CPU times: user 7.91 s, sys: 533 ms, total: 8.44 s\n",
      "Wall time: 9.15 s\n"
     ]
    }
   ],
   "source": [
    "%%time\n",
    "cast = pd.DataFrame.from_csv('data/cast.csv', index_col=None)"
   ]
  },
  {
   "cell_type": "code",
   "execution_count": 8,
   "metadata": {
    "collapsed": false
   },
   "outputs": [
    {
     "data": {
      "text/html": [
       "<div style=\"max-height:1000px;max-width:1500px;overflow:auto;\">\n",
       "<table border=\"1\" class=\"dataframe\">\n",
       "  <thead>\n",
       "    <tr style=\"text-align: right;\">\n",
       "      <th></th>\n",
       "      <th>title</th>\n",
       "      <th>year</th>\n",
       "      <th>name</th>\n",
       "      <th>type</th>\n",
       "      <th>character</th>\n",
       "      <th>n</th>\n",
       "    </tr>\n",
       "  </thead>\n",
       "  <tbody>\n",
       "    <tr>\n",
       "      <th>0</th>\n",
       "      <td>The Core</td>\n",
       "      <td>2003</td>\n",
       "      <td>Alejandro Abellan</td>\n",
       "      <td>actor</td>\n",
       "      <td>U.S.S. Soldier</td>\n",
       "      <td>NaN</td>\n",
       "    </tr>\n",
       "    <tr>\n",
       "      <th>1</th>\n",
       "      <td>Il momento di uccidere</td>\n",
       "      <td>1968</td>\n",
       "      <td>Remo De Angelis</td>\n",
       "      <td>actor</td>\n",
       "      <td>Dago</td>\n",
       "      <td>9</td>\n",
       "    </tr>\n",
       "    <tr>\n",
       "      <th>2</th>\n",
       "      <td>Across the Divide</td>\n",
       "      <td>1921</td>\n",
       "      <td>Thomas Delmar</td>\n",
       "      <td>actor</td>\n",
       "      <td>Dago</td>\n",
       "      <td>4</td>\n",
       "    </tr>\n",
       "    <tr>\n",
       "      <th>3</th>\n",
       "      <td>Revan</td>\n",
       "      <td>2012</td>\n",
       "      <td>Diego James</td>\n",
       "      <td>actor</td>\n",
       "      <td>Dago</td>\n",
       "      <td>NaN</td>\n",
       "    </tr>\n",
       "    <tr>\n",
       "      <th>4</th>\n",
       "      <td>Un homme marche dans la ville</td>\n",
       "      <td>1950</td>\n",
       "      <td>Fabien Loris</td>\n",
       "      <td>actor</td>\n",
       "      <td>Dago</td>\n",
       "      <td>12</td>\n",
       "    </tr>\n",
       "  </tbody>\n",
       "</table>\n",
       "</div>"
      ],
      "text/plain": [
       "                           title  year               name   type  \\\n",
       "0                       The Core  2003  Alejandro Abellan  actor   \n",
       "1         Il momento di uccidere  1968    Remo De Angelis  actor   \n",
       "2              Across the Divide  1921      Thomas Delmar  actor   \n",
       "3                          Revan  2012        Diego James  actor   \n",
       "4  Un homme marche dans la ville  1950       Fabien Loris  actor   \n",
       "\n",
       "        character   n  \n",
       "0  U.S.S. Soldier NaN  \n",
       "1            Dago   9  \n",
       "2            Dago   4  \n",
       "3            Dago NaN  \n",
       "4            Dago  12  "
      ]
     },
     "execution_count": 8,
     "metadata": {},
     "output_type": "execute_result"
    }
   ],
   "source": [
    "cast.head()"
   ]
  },
  {
   "cell_type": "code",
   "execution_count": 9,
   "metadata": {
    "collapsed": false
   },
   "outputs": [
    {
     "name": "stdout",
     "output_type": "stream",
     "text": [
      "CPU times: user 1.89 s, sys: 72.4 ms, total: 1.96 s\n",
      "Wall time: 2.04 s\n"
     ]
    }
   ],
   "source": [
    "%%time\n",
    "release_dates = pd.read_csv('data/release_dates.csv', index_col=None,\n",
    "                            parse_dates=['date'], infer_datetime_format=True)"
   ]
  },
  {
   "cell_type": "code",
   "execution_count": 10,
   "metadata": {
    "collapsed": false
   },
   "outputs": [
    {
     "data": {
      "text/html": [
       "<div style=\"max-height:1000px;max-width:1500px;overflow:auto;\">\n",
       "<table border=\"1\" class=\"dataframe\">\n",
       "  <thead>\n",
       "    <tr style=\"text-align: right;\">\n",
       "      <th></th>\n",
       "      <th>title</th>\n",
       "      <th>year</th>\n",
       "      <th>country</th>\n",
       "      <th>date</th>\n",
       "    </tr>\n",
       "  </thead>\n",
       "  <tbody>\n",
       "    <tr>\n",
       "      <th>0</th>\n",
       "      <td>3orthographies</td>\n",
       "      <td>2013</td>\n",
       "      <td>Canada</td>\n",
       "      <td>2013-05-20</td>\n",
       "    </tr>\n",
       "    <tr>\n",
       "      <th>1</th>\n",
       "      <td>11 Minutes (I)</td>\n",
       "      <td>2014</td>\n",
       "      <td>USA</td>\n",
       "      <td>2014-05-27</td>\n",
       "    </tr>\n",
       "    <tr>\n",
       "      <th>2</th>\n",
       "      <td>A Gypsy Girl's Love</td>\n",
       "      <td>1908</td>\n",
       "      <td>USA</td>\n",
       "      <td>1908-08-08</td>\n",
       "    </tr>\n",
       "    <tr>\n",
       "      <th>3</th>\n",
       "      <td>A Woman Scorned</td>\n",
       "      <td>1999</td>\n",
       "      <td>USA</td>\n",
       "      <td>1999-08-05</td>\n",
       "    </tr>\n",
       "    <tr>\n",
       "      <th>4</th>\n",
       "      <td>A Woman Scorned</td>\n",
       "      <td>1999</td>\n",
       "      <td>Germany</td>\n",
       "      <td>2000-04-09</td>\n",
       "    </tr>\n",
       "  </tbody>\n",
       "</table>\n",
       "</div>"
      ],
      "text/plain": [
       "                 title  year  country       date\n",
       "0       3orthographies  2013   Canada 2013-05-20\n",
       "1       11 Minutes (I)  2014      USA 2014-05-27\n",
       "2  A Gypsy Girl's Love  1908      USA 1908-08-08\n",
       "3      A Woman Scorned  1999      USA 1999-08-05\n",
       "4      A Woman Scorned  1999  Germany 2000-04-09"
      ]
     },
     "execution_count": 10,
     "metadata": {},
     "output_type": "execute_result"
    }
   ],
   "source": [
    "release_dates.head()"
   ]
  },
  {
   "cell_type": "code",
   "execution_count": 54,
   "metadata": {
    "collapsed": false
   },
   "outputs": [
    {
     "data": {
      "text/html": [
       "<div style=\"max-height:1000px;max-width:1500px;overflow:auto;\">\n",
       "<table border=\"1\" class=\"dataframe\">\n",
       "  <thead>\n",
       "    <tr style=\"text-align: right;\">\n",
       "      <th></th>\n",
       "      <th>title</th>\n",
       "      <th>year</th>\n",
       "    </tr>\n",
       "  </thead>\n",
       "  <tbody>\n",
       "    <tr>\n",
       "      <th>0</th>\n",
       "      <td>The Core</td>\n",
       "      <td>2003</td>\n",
       "    </tr>\n",
       "    <tr>\n",
       "      <th>1</th>\n",
       "      <td>Il momento di uccidere</td>\n",
       "      <td>1968</td>\n",
       "    </tr>\n",
       "    <tr>\n",
       "      <th>2</th>\n",
       "      <td>Across the Divide</td>\n",
       "      <td>1921</td>\n",
       "    </tr>\n",
       "    <tr>\n",
       "      <th>3</th>\n",
       "      <td>Revan</td>\n",
       "      <td>2012</td>\n",
       "    </tr>\n",
       "    <tr>\n",
       "      <th>4</th>\n",
       "      <td>Un homme marche dans la ville</td>\n",
       "      <td>1950</td>\n",
       "    </tr>\n",
       "  </tbody>\n",
       "</table>\n",
       "</div>"
      ],
      "text/plain": [
       "                           title  year\n",
       "0                       The Core  2003\n",
       "1         Il momento di uccidere  1968\n",
       "2              Across the Divide  1921\n",
       "3                          Revan  2012\n",
       "4  Un homme marche dans la ville  1950"
      ]
     },
     "execution_count": 54,
     "metadata": {},
     "output_type": "execute_result"
    }
   ],
   "source": [
    "titles = cast[['title', 'year']].drop_duplicates().reset_index(drop=True)\n",
    "titles.head()"
   ]
  },
  {
   "cell_type": "markdown",
   "metadata": {
    "collapsed": true
   },
   "source": [
    "### Titles"
   ]
  },
  {
   "cell_type": "code",
   "execution_count": 139,
   "metadata": {
    "collapsed": false
   },
   "outputs": [
    {
     "data": {
      "text/html": [
       "<div style=\"max-height:1000px;max-width:1500px;overflow:auto;\">\n",
       "<table border=\"1\" class=\"dataframe\">\n",
       "  <thead>\n",
       "    <tr style=\"text-align: right;\">\n",
       "      <th></th>\n",
       "      <th>title</th>\n",
       "      <th>year</th>\n",
       "    </tr>\n",
       "  </thead>\n",
       "  <tbody>\n",
       "    <tr>\n",
       "      <th>276922</th>\n",
       "      <td>Roundhay Garden Scene</td>\n",
       "      <td>1888</td>\n",
       "    </tr>\n",
       "    <tr>\n",
       "      <th>381723</th>\n",
       "      <td>Je vous aime</td>\n",
       "      <td>1891</td>\n",
       "    </tr>\n",
       "    <tr>\n",
       "      <th>385597</th>\n",
       "      <td>Le prince de Galles</td>\n",
       "      <td>1892</td>\n",
       "    </tr>\n",
       "    <tr>\n",
       "      <th>386265</th>\n",
       "      <td>Accordion Player</td>\n",
       "      <td>1888</td>\n",
       "    </tr>\n",
       "    <tr>\n",
       "      <th>461820</th>\n",
       "      <td>Sallie Gardner at a Gallop</td>\n",
       "      <td>1878</td>\n",
       "    </tr>\n",
       "  </tbody>\n",
       "</table>\n",
       "</div>"
      ],
      "text/plain": [
       "                             title  year\n",
       "276922       Roundhay Garden Scene  1888\n",
       "381723                Je vous aime  1891\n",
       "385597         Le prince de Galles  1892\n",
       "386265            Accordion Player  1888\n",
       "461820  Sallie Gardner at a Gallop  1878"
      ]
     },
     "execution_count": 139,
     "metadata": {},
     "output_type": "execute_result"
    }
   ],
   "source": [
    "# 1. What movies were made through 1893?\n",
    "\n",
    "titles[titles.year <= 1893]"
   ]
  },
  {
   "cell_type": "code",
   "execution_count": 137,
   "metadata": {
    "collapsed": false
   },
   "outputs": [
    {
     "data": {
      "text/plain": [
       "(46, 2)"
      ]
     },
     "execution_count": 137,
     "metadata": {},
     "output_type": "execute_result"
    }
   ],
   "source": [
    "# 1. What movies have titles that fall between Star Trek and Star Wars in the alphabet?\n",
    "\n",
    "titles[(titles.title > 'Star Trek') & (titles.title < 'Star Wars')].shape"
   ]
  },
  {
   "cell_type": "code",
   "execution_count": 46,
   "metadata": {
    "collapsed": false
   },
   "outputs": [
    {
     "data": {
      "text/plain": [
       "Hamlet                  19\n",
       "The Kiss                19\n",
       "Vengeance               16\n",
       "Popular Science (II)    15\n",
       "Popular Science (I)     15\n",
       "Macbeth                 14\n",
       "Easy Money              14\n",
       "Carmen                  14\n",
       "David                   14\n",
       "Deception               14\n",
       "Resurrection            14\n",
       "The Best Man            14\n",
       "The Stranger            13\n",
       "Secrets                 13\n",
       "The Tell-Tale Heart     13\n",
       "Blind Date (I)          13\n",
       "The Kid                 13\n",
       "Salome                  13\n",
       "The Mirror              13\n",
       "Amok                    13\n",
       "dtype: int64"
      ]
     },
     "execution_count": 46,
     "metadata": {},
     "output_type": "execute_result"
    }
   ],
   "source": [
    "# 1. What are the 20 most common movie titles?\n",
    "\n",
    "titles.title.value_counts().head(20)"
   ]
  },
  {
   "cell_type": "code",
   "execution_count": 138,
   "metadata": {
    "collapsed": false
   },
   "outputs": [
    {
     "data": {
      "text/plain": [
       "(48, 1)"
      ]
     },
     "execution_count": 138,
     "metadata": {},
     "output_type": "execute_result"
    }
   ],
   "source": [
    "# 2. Use an index and .loc[] to find the movies whose titles fall between Star Trek\n",
    "#    and Star Wars in the alphabet.\n",
    "\n",
    "t = titles.copy()\n",
    "t = t.set_index('title').sort_index()\n",
    "t.loc['Star Trek':'Star Wars'].shape"
   ]
  },
  {
   "cell_type": "code",
   "execution_count": 128,
   "metadata": {
    "collapsed": false
   },
   "outputs": [
    {
     "data": {
      "text/html": [
       "<div style=\"max-height:1000px;max-width:1500px;overflow:auto;\">\n",
       "<table border=\"1\" class=\"dataframe\">\n",
       "  <thead>\n",
       "    <tr style=\"text-align: right;\">\n",
       "      <th></th>\n",
       "      <th>title</th>\n",
       "    </tr>\n",
       "    <tr>\n",
       "      <th>year</th>\n",
       "      <th></th>\n",
       "    </tr>\n",
       "  </thead>\n",
       "  <tbody>\n",
       "    <tr>\n",
       "      <th>1878</th>\n",
       "      <td>Sallie Gardner at a Gallop</td>\n",
       "    </tr>\n",
       "    <tr>\n",
       "      <th>1888</th>\n",
       "      <td>Accordion Player</td>\n",
       "    </tr>\n",
       "    <tr>\n",
       "      <th>1888</th>\n",
       "      <td>Roundhay Garden Scene</td>\n",
       "    </tr>\n",
       "    <tr>\n",
       "      <th>1891</th>\n",
       "      <td>Je vous aime</td>\n",
       "    </tr>\n",
       "    <tr>\n",
       "      <th>1892</th>\n",
       "      <td>Le prince de Galles</td>\n",
       "    </tr>\n",
       "  </tbody>\n",
       "</table>\n",
       "</div>"
      ],
      "text/plain": [
       "                           title\n",
       "year                            \n",
       "1878  Sallie Gardner at a Gallop\n",
       "1888            Accordion Player\n",
       "1888       Roundhay Garden Scene\n",
       "1891                Je vous aime\n",
       "1892         Le prince de Galles"
      ]
     },
     "execution_count": 128,
     "metadata": {},
     "output_type": "execute_result"
    }
   ],
   "source": [
    "# 2. Use an index and .loc[] to retrieve the names of the movies made through 1893.\n",
    "\n",
    "titles.set_index('year').sort_index().loc[1800:1893]"
   ]
  },
  {
   "cell_type": "code",
   "execution_count": 82,
   "metadata": {
    "collapsed": false,
    "scrolled": false
   },
   "outputs": [
    {
     "data": {
      "text/html": [
       "<div style=\"max-height:1000px;max-width:1500px;overflow:auto;\">\n",
       "<table border=\"1\" class=\"dataframe\">\n",
       "  <thead>\n",
       "    <tr style=\"text-align: right;\">\n",
       "      <th></th>\n",
       "      <th>title</th>\n",
       "      <th>year</th>\n",
       "      <th>len</th>\n",
       "    </tr>\n",
       "  </thead>\n",
       "  <tbody>\n",
       "    <tr>\n",
       "      <th>381602</th>\n",
       "      <td>Direktør Ivar Knudsen til prøvesejlads om bord paa et dieselskib, omgivet af repræsentanter for handel og industri, hvoriblandt admiral A. de Richelieu, etatsraad Martin Dessau, gehejmeetatsraad Julius Larsen, baron Blixen-Finecke og flere</td>\n",
       "      <td>1913</td>\n",
       "      <td>239</td>\n",
       "    </tr>\n",
       "    <tr>\n",
       "      <th>283944</th>\n",
       "      <td>Le voyage du Président Félix Faure en Russie (Août 1897): L'impératrice descend l'escalier rouge du palais de Saint-Pétersbourg, accompagnée des dames d'honneur et suivie de tous les princes et grands ducs de la cour impériale</td>\n",
       "      <td>1897</td>\n",
       "      <td>226</td>\n",
       "    </tr>\n",
       "    <tr>\n",
       "      <th>135788</th>\n",
       "      <td>H.R.H. The Prince of Wales Decorating the Monument of Champlain and Receiving Addresses of Welcome from the Mayor of Quebec, the Governor General of Canada and Vice President Fairbanks, Representative of the United States</td>\n",
       "      <td>1908</td>\n",
       "      <td>221</td>\n",
       "    </tr>\n",
       "    <tr>\n",
       "      <th>377465</th>\n",
       "      <td>Barney Ross of Chicago, in Defense of His World's Championship Welterweight Title Against Henry Armstrong of California, Featherweight Champion, Held at the Madison Square Garden Bowl, Long Island City, New York</td>\n",
       "      <td>1938</td>\n",
       "      <td>211</td>\n",
       "    </tr>\n",
       "    <tr>\n",
       "      <th>350366</th>\n",
       "      <td>Night of the Day of the Dawn of the Son of the Bride of the Return of the Revenge of the Terror of the Attack of the Evil Mutant Hellbound Flesh Eating Crawling Alien Zombified Subhumanoid Living Dead, Part 5</td>\n",
       "      <td>2011</td>\n",
       "      <td>208</td>\n",
       "    </tr>\n",
       "    <tr>\n",
       "      <th>316491</th>\n",
       "      <td>Night of the Day of the Dawn of the Son of the Bride of the Return of the Revenge of the Terror of the Attack of the Evil, Mutant, Hellbound, Flesh-Eating Subhumanoid Zombified Living Dead, Part 3</td>\n",
       "      <td>2005</td>\n",
       "      <td>196</td>\n",
       "    </tr>\n",
       "    <tr>\n",
       "      <th>270643</th>\n",
       "      <td>Portrait de groupe n° 142: Les cinématonés célèbrent devant le palais de Chaillot la rétrospective de la Cinémathèque française Cinématons, Autres Films, Carte blanche</td>\n",
       "      <td>1991</td>\n",
       "      <td>167</td>\n",
       "    </tr>\n",
       "    <tr>\n",
       "      <th>220775</th>\n",
       "      <td>Las poquianchis (De los pormenores y otros sucedidos del dominio público que acontecieron a las hermanas de triste memoria a quienes la maledicencia así las bautizó)</td>\n",
       "      <td>1976</td>\n",
       "      <td>165</td>\n",
       "    </tr>\n",
       "    <tr>\n",
       "      <th>385201</th>\n",
       "      <td>Der Kaiser in Halle am 6. September 1903 - Ankunft Sr. Majestät des Kaisers und König Georg von Sachsen nebst Gefolge in Leipzig am 5. September 1903</td>\n",
       "      <td>1903</td>\n",
       "      <td>149</td>\n",
       "    </tr>\n",
       "    <tr>\n",
       "      <th>61665</th>\n",
       "      <td>Entrei em Pânico ao Saber o que Vocês Fizeram na Sexta-feira 13 do Verão Passado Parte 2 - A Hora da Volta da Vingança dos Jogos Mortais de Halloween</td>\n",
       "      <td>2011</td>\n",
       "      <td>149</td>\n",
       "    </tr>\n",
       "    <tr>\n",
       "      <th>331451</th>\n",
       "      <td>World's Heavyweight Championship Fight: Floyd Patterson Heavyweight Champion of the World versus Ingemar Johansson Heavyweight Champion of Europe</td>\n",
       "      <td>1959</td>\n",
       "      <td>145</td>\n",
       "    </tr>\n",
       "    <tr>\n",
       "      <th>355775</th>\n",
       "      <td>Giovanni Martinelli, Tenor, Assisted by Louis D'Angelo, Bass, of the Metropolitan Opera Company, in a Duet from Act IV of the Opera 'La juive'</td>\n",
       "      <td>1927</td>\n",
       "      <td>142</td>\n",
       "    </tr>\n",
       "    <tr>\n",
       "      <th>272135</th>\n",
       "      <td>Pelerinaxe do 'Patronato Rosalia Castro' aos Lugares rosalianos e aitos orgaizados en homaxe da poeta o 'Dia de Galiza' de 1.951 en Sant-iago</td>\n",
       "      <td>1951</td>\n",
       "      <td>141</td>\n",
       "    </tr>\n",
       "    <tr>\n",
       "      <th>266931</th>\n",
       "      <td>Portrait de groupe n° 146: Célébration des 100 heures de Cinématon et des 1789 portraits (toutes séries confondues) devant l'Opéra Bastille</td>\n",
       "      <td>1991</td>\n",
       "      <td>139</td>\n",
       "    </tr>\n",
       "    <tr>\n",
       "      <th>450856</th>\n",
       "      <td>The One Valdisian Pastor Who Died and Resurrected Several Times in a Row and Is Found Thanks to the Thieving Hands of Unknown Tomb Raiders</td>\n",
       "      <td>2014</td>\n",
       "      <td>138</td>\n",
       "    </tr>\n",
       "  </tbody>\n",
       "</table>\n",
       "</div>"
      ],
      "text/plain": [
       "                                                                                                                                                                                                                                                  title  \\\n",
       "381602  Direktør Ivar Knudsen til prøvesejlads om bord paa et dieselskib, omgivet af repræsentanter for handel og industri, hvoriblandt admiral A. de Richelieu, etatsraad Martin Dessau, gehejmeetatsraad Julius Larsen, baron Blixen-Finecke og flere   \n",
       "283944               Le voyage du Président Félix Faure en Russie (Août 1897): L'impératrice descend l'escalier rouge du palais de Saint-Pétersbourg, accompagnée des dames d'honneur et suivie de tous les princes et grands ducs de la cour impériale   \n",
       "135788                    H.R.H. The Prince of Wales Decorating the Monument of Champlain and Receiving Addresses of Welcome from the Mayor of Quebec, the Governor General of Canada and Vice President Fairbanks, Representative of the United States   \n",
       "377465                              Barney Ross of Chicago, in Defense of His World's Championship Welterweight Title Against Henry Armstrong of California, Featherweight Champion, Held at the Madison Square Garden Bowl, Long Island City, New York   \n",
       "350366                                 Night of the Day of the Dawn of the Son of the Bride of the Return of the Revenge of the Terror of the Attack of the Evil Mutant Hellbound Flesh Eating Crawling Alien Zombified Subhumanoid Living Dead, Part 5   \n",
       "316491                                             Night of the Day of the Dawn of the Son of the Bride of the Return of the Revenge of the Terror of the Attack of the Evil, Mutant, Hellbound, Flesh-Eating Subhumanoid Zombified Living Dead, Part 3   \n",
       "270643                                                                          Portrait de groupe n° 142: Les cinématonés célèbrent devant le palais de Chaillot la rétrospective de la Cinémathèque française Cinématons, Autres Films, Carte blanche   \n",
       "220775                                                                            Las poquianchis (De los pormenores y otros sucedidos del dominio público que acontecieron a las hermanas de triste memoria a quienes la maledicencia así las bautizó)   \n",
       "385201                                                                                            Der Kaiser in Halle am 6. September 1903 - Ankunft Sr. Majestät des Kaisers und König Georg von Sachsen nebst Gefolge in Leipzig am 5. September 1903   \n",
       "61665                                                                                             Entrei em Pânico ao Saber o que Vocês Fizeram na Sexta-feira 13 do Verão Passado Parte 2 - A Hora da Volta da Vingança dos Jogos Mortais de Halloween   \n",
       "331451                                                                                                World's Heavyweight Championship Fight: Floyd Patterson Heavyweight Champion of the World versus Ingemar Johansson Heavyweight Champion of Europe   \n",
       "355775                                                                                                   Giovanni Martinelli, Tenor, Assisted by Louis D'Angelo, Bass, of the Metropolitan Opera Company, in a Duet from Act IV of the Opera 'La juive'   \n",
       "272135                                                                                                    Pelerinaxe do 'Patronato Rosalia Castro' aos Lugares rosalianos e aitos orgaizados en homaxe da poeta o 'Dia de Galiza' de 1.951 en Sant-iago   \n",
       "266931                                                                                                      Portrait de groupe n° 146: Célébration des 100 heures de Cinématon et des 1789 portraits (toutes séries confondues) devant l'Opéra Bastille   \n",
       "450856                                                                                                       The One Valdisian Pastor Who Died and Resurrected Several Times in a Row and Is Found Thanks to the Thieving Hands of Unknown Tomb Raiders   \n",
       "\n",
       "        year  len  \n",
       "381602  1913  239  \n",
       "283944  1897  226  \n",
       "135788  1908  221  \n",
       "377465  1938  211  \n",
       "350366  2011  208  \n",
       "316491  2005  196  \n",
       "270643  1991  167  \n",
       "220775  1976  165  \n",
       "385201  1903  149  \n",
       "61665   2011  149  \n",
       "331451  1959  145  \n",
       "355775  1927  142  \n",
       "272135  1951  141  \n",
       "266931  1991  139  \n",
       "450856  2014  138  "
      ]
     },
     "execution_count": 82,
     "metadata": {},
     "output_type": "execute_result"
    }
   ],
   "source": [
    "# 5. What are the 15 longest movie titles ever?\n",
    "\n",
    "pd.set_option('max_colwidth', 300)\n",
    "\n",
    "t = titles.copy()\n",
    "t['len'] = t.title.str.len()\n",
    "t = t.sort('len', ascending=False)\n",
    "t.head(15)"
   ]
  },
  {
   "cell_type": "code",
   "execution_count": 47,
   "metadata": {
    "collapsed": false
   },
   "outputs": [
    {
     "data": {
      "text/plain": [
       "                    100\n",
       "Home                 97\n",
       "Alone                91\n",
       "Broken               84\n",
       "The Interview        75\n",
       "The Gift             65\n",
       "The Box              63\n",
       "Blind Date           60\n",
       "Gone                 53\n",
       "The End              52\n",
       "Last Call            48\n",
       "Reunion              47\n",
       "The Bridge           46\n",
       "The Audition         45\n",
       "Popular Science      44\n",
       "Smile                44\n",
       "Stuck                44\n",
       "Blackout             43\n",
       "Run                  43\n",
       "Trapped              41\n",
       "dtype: int64"
      ]
     },
     "execution_count": 47,
     "metadata": {},
     "output_type": "execute_result"
    }
   ],
   "source": [
    "# 5. What are the 20 most popular movie titles, if you strip off the suffixes like\n",
    "#    (II) and (III) that IMDB adds to distinguish movies shown in the same year?\n",
    "\n",
    "titles.title.str.extract('^([^(]*)').value_counts().head(20)"
   ]
  },
  {
   "cell_type": "markdown",
   "metadata": {},
   "source": [
    "### Years"
   ]
  },
  {
   "cell_type": "code",
   "execution_count": 56,
   "metadata": {
    "collapsed": false
   },
   "outputs": [
    {
     "data": {
      "text/plain": [
       "1542"
      ]
     },
     "execution_count": 56,
     "metadata": {},
     "output_type": "execute_result"
    }
   ],
   "source": [
    "# 1. How many movies came out in 1950?\n",
    "\n",
    "(titles.year == 1950).sum()"
   ]
  },
  {
   "cell_type": "code",
   "execution_count": 60,
   "metadata": {
    "collapsed": false
   },
   "outputs": [
    {
     "name": "stdout",
     "output_type": "stream",
     "text": [
      "1970 2311\n",
      "1971 2297\n",
      "1972 2289\n",
      "1973 2294\n",
      "1974 2281\n",
      "1975 2264\n",
      "1976 2291\n",
      "1977 2198\n",
      "1978 2282\n",
      "1979 2277\n"
     ]
    }
   ],
   "source": [
    "# 1. Use a for loop to determine how many movies came out in each year of the 1970s.\n",
    "\n",
    "for y in range(1970, 1980):\n",
    "    print(y, (titles.year == y).sum())"
   ]
  },
  {
   "cell_type": "code",
   "execution_count": null,
   "metadata": {
    "collapsed": true
   },
   "outputs": [],
   "source": []
  }
 ],
 "metadata": {
  "kernelspec": {
   "display_name": "Python 3",
   "language": "python",
   "name": "python3"
  },
  "language_info": {
   "codemirror_mode": {
    "name": "ipython",
    "version": 3
   },
   "file_extension": ".py",
   "mimetype": "text/x-python",
   "name": "python",
   "nbconvert_exporter": "python",
   "pygments_lexer": "ipython3",
   "version": "3.4.3"
  }
 },
 "nbformat": 4,
 "nbformat_minor": 0
}
