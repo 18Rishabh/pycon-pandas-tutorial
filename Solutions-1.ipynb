{
 "cells": [
  {
   "cell_type": "code",
   "execution_count": 1,
   "metadata": {
    "collapsed": false
   },
   "outputs": [],
   "source": [
    "%matplotlib inline\n",
    "import matplotlib.pyplot as plt\n",
    "import pandas as pd"
   ]
  },
  {
   "cell_type": "code",
   "execution_count": 2,
   "metadata": {
    "collapsed": false
   },
   "outputs": [
    {
     "data": {
      "text/html": [
       "<style>body {\n",
       "    margin: 0;\n",
       "    font-family: Helvetica;\n",
       "}\n",
       "table.dataframe {\n",
       "    border-collapse: collapse;\n",
       "    border: none;\n",
       "}\n",
       "table.dataframe tr {\n",
       "    border: none;\n",
       "}\n",
       "table.dataframe td, table.dataframe th {\n",
       "    margin: 0;\n",
       "    border: 1px solid white;\n",
       "    padding-left: 0.25em;\n",
       "    padding-right: 0.25em;\n",
       "}\n",
       "table.dataframe th:not(:empty) {\n",
       "    background-color: #fec;\n",
       "    text-align: left;\n",
       "    font-weight: normal;\n",
       "}\n",
       "table.dataframe tr:nth-child(2) th:empty {\n",
       "    border-left: none;\n",
       "    border-right: 1px dashed #888;\n",
       "}\n",
       "table.dataframe td {\n",
       "    border: 2px solid #ccf;\n",
       "    background-color: #f4f4ff;\n",
       "}\n",
       "h3 {\n",
       "    color: white;\n",
       "    background-color: black;\n",
       "    padding: 0.5em;\n",
       "}\n",
       "</style>"
      ],
      "text/plain": [
       "<IPython.core.display.HTML object>"
      ]
     },
     "execution_count": 2,
     "metadata": {},
     "output_type": "execute_result"
    }
   ],
   "source": [
    "from IPython.core.display import HTML\n",
    "css = open('style-table.css').read() + open('style-notebook.css').read()\n",
    "HTML('<style>{}</style>'.format(css))"
   ]
  },
  {
   "cell_type": "code",
   "execution_count": 3,
   "metadata": {
    "collapsed": false
   },
   "outputs": [
    {
     "data": {
      "text/html": [
       "<div style=\"max-height:1000px;max-width:1500px;overflow:auto;\">\n",
       "<table border=\"1\" class=\"dataframe\">\n",
       "  <thead>\n",
       "    <tr style=\"text-align: right;\">\n",
       "      <th></th>\n",
       "      <th>title</th>\n",
       "      <th>year</th>\n",
       "    </tr>\n",
       "  </thead>\n",
       "  <tbody>\n",
       "    <tr>\n",
       "      <th>0</th>\n",
       "      <td>A Lélek órása</td>\n",
       "      <td>1923</td>\n",
       "    </tr>\n",
       "    <tr>\n",
       "      <th>1</th>\n",
       "      <td>Aizaugusa gravi viegli krist</td>\n",
       "      <td>1986</td>\n",
       "    </tr>\n",
       "    <tr>\n",
       "      <th>2</th>\n",
       "      <td>Agliyorum</td>\n",
       "      <td>1988</td>\n",
       "    </tr>\n",
       "    <tr>\n",
       "      <th>3</th>\n",
       "      <td>0_1_0</td>\n",
       "      <td>2008</td>\n",
       "    </tr>\n",
       "    <tr>\n",
       "      <th>4</th>\n",
       "      <td>97 fung lau mung</td>\n",
       "      <td>1994</td>\n",
       "    </tr>\n",
       "  </tbody>\n",
       "</table>\n",
       "</div>"
      ],
      "text/plain": [
       "                          title  year\n",
       "0                 A Lélek órása  1923\n",
       "1  Aizaugusa gravi viegli krist  1986\n",
       "2                     Agliyorum  1988\n",
       "3                         0_1_0  2008\n",
       "4              97 fung lau mung  1994"
      ]
     },
     "execution_count": 3,
     "metadata": {},
     "output_type": "execute_result"
    }
   ],
   "source": [
    "titles = pd.DataFrame.from_csv('data/titles.csv', index_col=None)\n",
    "titles.head()"
   ]
  },
  {
   "cell_type": "code",
   "execution_count": 4,
   "metadata": {
    "collapsed": false
   },
   "outputs": [
    {
     "data": {
      "text/html": [
       "<div style=\"max-height:1000px;max-width:1500px;overflow:auto;\">\n",
       "<table border=\"1\" class=\"dataframe\">\n",
       "  <thead>\n",
       "    <tr style=\"text-align: right;\">\n",
       "      <th></th>\n",
       "      <th>title</th>\n",
       "      <th>year</th>\n",
       "      <th>name</th>\n",
       "      <th>type</th>\n",
       "      <th>character</th>\n",
       "      <th>n</th>\n",
       "    </tr>\n",
       "  </thead>\n",
       "  <tbody>\n",
       "    <tr>\n",
       "      <th>0</th>\n",
       "      <td>The Core</td>\n",
       "      <td>2003</td>\n",
       "      <td>Alejandro Abellan</td>\n",
       "      <td>actor</td>\n",
       "      <td>U.S.S. Soldier</td>\n",
       "      <td>NaN</td>\n",
       "    </tr>\n",
       "    <tr>\n",
       "      <th>1</th>\n",
       "      <td>Il momento di uccidere</td>\n",
       "      <td>1968</td>\n",
       "      <td>Remo De Angelis</td>\n",
       "      <td>actor</td>\n",
       "      <td>Dago</td>\n",
       "      <td>9</td>\n",
       "    </tr>\n",
       "    <tr>\n",
       "      <th>2</th>\n",
       "      <td>Across the Divide</td>\n",
       "      <td>1921</td>\n",
       "      <td>Thomas Delmar</td>\n",
       "      <td>actor</td>\n",
       "      <td>Dago</td>\n",
       "      <td>4</td>\n",
       "    </tr>\n",
       "    <tr>\n",
       "      <th>3</th>\n",
       "      <td>Revan</td>\n",
       "      <td>2012</td>\n",
       "      <td>Diego James</td>\n",
       "      <td>actor</td>\n",
       "      <td>Dago</td>\n",
       "      <td>NaN</td>\n",
       "    </tr>\n",
       "    <tr>\n",
       "      <th>4</th>\n",
       "      <td>Un homme marche dans la ville</td>\n",
       "      <td>1950</td>\n",
       "      <td>Fabien Loris</td>\n",
       "      <td>actor</td>\n",
       "      <td>Dago</td>\n",
       "      <td>12</td>\n",
       "    </tr>\n",
       "  </tbody>\n",
       "</table>\n",
       "</div>"
      ],
      "text/plain": [
       "                           title  year               name   type  \\\n",
       "0                       The Core  2003  Alejandro Abellan  actor   \n",
       "1         Il momento di uccidere  1968    Remo De Angelis  actor   \n",
       "2              Across the Divide  1921      Thomas Delmar  actor   \n",
       "3                          Revan  2012        Diego James  actor   \n",
       "4  Un homme marche dans la ville  1950       Fabien Loris  actor   \n",
       "\n",
       "        character   n  \n",
       "0  U.S.S. Soldier NaN  \n",
       "1            Dago   9  \n",
       "2            Dago   4  \n",
       "3            Dago NaN  \n",
       "4            Dago  12  "
      ]
     },
     "execution_count": 4,
     "metadata": {},
     "output_type": "execute_result"
    }
   ],
   "source": [
    "cast = pd.DataFrame.from_csv('data/cast.csv', index_col=None)\n",
    "cast.head()"
   ]
  },
  {
   "cell_type": "code",
   "execution_count": 5,
   "metadata": {
    "collapsed": false
   },
   "outputs": [
    {
     "data": {
      "text/plain": [
       "306951"
      ]
     },
     "execution_count": 5,
     "metadata": {},
     "output_type": "execute_result"
    }
   ],
   "source": [
    "# How many movies are listed in the titles dataframe?\n",
    "\n",
    "len(titles)"
   ]
  },
  {
   "cell_type": "code",
   "execution_count": 14,
   "metadata": {
    "collapsed": false
   },
   "outputs": [
    {
     "data": {
      "text/html": [
       "<div style=\"max-height:1000px;max-width:1500px;overflow:auto;\">\n",
       "<table border=\"1\" class=\"dataframe\">\n",
       "  <thead>\n",
       "    <tr style=\"text-align: right;\">\n",
       "      <th></th>\n",
       "      <th>title</th>\n",
       "      <th>year</th>\n",
       "    </tr>\n",
       "  </thead>\n",
       "  <tbody>\n",
       "    <tr>\n",
       "      <th>172161</th>\n",
       "      <td>Miss Jerry</td>\n",
       "      <td>1894</td>\n",
       "    </tr>\n",
       "    <tr>\n",
       "      <th>207934</th>\n",
       "      <td>Reproduction of the Corbett and Fitzsimmons Fight</td>\n",
       "      <td>1897</td>\n",
       "    </tr>\n",
       "  </tbody>\n",
       "</table>\n",
       "</div>"
      ],
      "text/plain": [
       "                                                    title  year\n",
       "172161                                         Miss Jerry  1894\n",
       "207934  Reproduction of the Corbett and Fitzsimmons Fight  1897"
      ]
     },
     "execution_count": 14,
     "metadata": {},
     "output_type": "execute_result"
    }
   ],
   "source": [
    "# What are the earliest two films listed in the titles dataframe?\n",
    "\n",
    "titles.sort('year').head(2)"
   ]
  },
  {
   "cell_type": "code",
   "execution_count": 18,
   "metadata": {
    "collapsed": false
   },
   "outputs": [
    {
     "data": {
      "text/plain": [
       "20"
      ]
     },
     "execution_count": 18,
     "metadata": {},
     "output_type": "execute_result"
    }
   ],
   "source": [
    "# How many movies have the title \"Hamlet\"?\n",
    "\n",
    "len(titles[titles.title == 'Hamlet'])"
   ]
  },
  {
   "cell_type": "code",
   "execution_count": 27,
   "metadata": {
    "collapsed": false
   },
   "outputs": [
    {
     "data": {
      "text/plain": [
       "1"
      ]
     },
     "execution_count": 27,
     "metadata": {},
     "output_type": "execute_result"
    }
   ],
   "source": [
    "# How many movies are titled \"North by Northwest\"?\n",
    "\n",
    "len(titles[titles.title == 'North by Northwest'])"
   ]
  },
  {
   "cell_type": "code",
   "execution_count": 61,
   "metadata": {
    "collapsed": false
   },
   "outputs": [
    {
     "data": {
      "text/html": [
       "<div style=\"max-height:1000px;max-width:1500px;overflow:auto;\">\n",
       "<table border=\"1\" class=\"dataframe\">\n",
       "  <thead>\n",
       "    <tr style=\"text-align: right;\">\n",
       "      <th></th>\n",
       "      <th>title</th>\n",
       "      <th>year</th>\n",
       "    </tr>\n",
       "  </thead>\n",
       "  <tbody>\n",
       "    <tr>\n",
       "      <th>104882</th>\n",
       "      <td>Hamlet</td>\n",
       "      <td>1910</td>\n",
       "    </tr>\n",
       "  </tbody>\n",
       "</table>\n",
       "</div>"
      ],
      "text/plain": [
       "         title  year\n",
       "104882  Hamlet  1910"
      ]
     },
     "execution_count": 61,
     "metadata": {},
     "output_type": "execute_result"
    }
   ],
   "source": [
    "# When was the first movie named \"Hamlet\" made?\n",
    "\n",
    "titles[titles.title == 'Hamlet'].sort('year').head(1)"
   ]
  },
  {
   "cell_type": "code",
   "execution_count": 49,
   "metadata": {
    "collapsed": false
   },
   "outputs": [
    {
     "data": {
      "text/html": [
       "<div style=\"max-height:1000px;max-width:1500px;overflow:auto;\">\n",
       "<table border=\"1\" class=\"dataframe\">\n",
       "  <thead>\n",
       "    <tr style=\"text-align: right;\">\n",
       "      <th></th>\n",
       "      <th>title</th>\n",
       "      <th>year</th>\n",
       "    </tr>\n",
       "  </thead>\n",
       "  <tbody>\n",
       "    <tr>\n",
       "      <th>285800</th>\n",
       "      <td>Treasure Island</td>\n",
       "      <td>1918</td>\n",
       "    </tr>\n",
       "    <tr>\n",
       "      <th>277236</th>\n",
       "      <td>Treasure Island</td>\n",
       "      <td>1920</td>\n",
       "    </tr>\n",
       "    <tr>\n",
       "      <th>286174</th>\n",
       "      <td>Treasure Island</td>\n",
       "      <td>1934</td>\n",
       "    </tr>\n",
       "    <tr>\n",
       "      <th>287490</th>\n",
       "      <td>Treasure Island</td>\n",
       "      <td>1950</td>\n",
       "    </tr>\n",
       "    <tr>\n",
       "      <th>285791</th>\n",
       "      <td>Treasure Island</td>\n",
       "      <td>1972</td>\n",
       "    </tr>\n",
       "    <tr>\n",
       "      <th>290784</th>\n",
       "      <td>Treasure Island</td>\n",
       "      <td>1973</td>\n",
       "    </tr>\n",
       "    <tr>\n",
       "      <th>285646</th>\n",
       "      <td>Treasure Island</td>\n",
       "      <td>1985</td>\n",
       "    </tr>\n",
       "    <tr>\n",
       "      <th>279936</th>\n",
       "      <td>Treasure Island</td>\n",
       "      <td>1999</td>\n",
       "    </tr>\n",
       "    <tr>\n",
       "      <th>306813</th>\n",
       "      <td>Treasure Island</td>\n",
       "      <td>2001</td>\n",
       "    </tr>\n",
       "  </tbody>\n",
       "</table>\n",
       "</div>"
      ],
      "text/plain": [
       "                  title  year\n",
       "285800  Treasure Island  1918\n",
       "277236  Treasure Island  1920\n",
       "286174  Treasure Island  1934\n",
       "287490  Treasure Island  1950\n",
       "285791  Treasure Island  1972\n",
       "290784  Treasure Island  1973\n",
       "285646  Treasure Island  1985\n",
       "279936  Treasure Island  1999\n",
       "306813  Treasure Island  2001"
      ]
     },
     "execution_count": 49,
     "metadata": {},
     "output_type": "execute_result"
    }
   ],
   "source": [
    "# List all of the \"Treasure Island\" movies from earliest to most recent.\n",
    "\n",
    "titles[titles.title == 'Treasure Island'].sort('year')"
   ]
  },
  {
   "cell_type": "code",
   "execution_count": 53,
   "metadata": {
    "collapsed": false
   },
   "outputs": [
    {
     "data": {
      "text/plain": [
       "1691"
      ]
     },
     "execution_count": 53,
     "metadata": {},
     "output_type": "execute_result"
    }
   ],
   "source": [
    "# How many movies were made in the year 1950?\n",
    "\n",
    "len(titles[titles.year == 1950])"
   ]
  },
  {
   "cell_type": "code",
   "execution_count": 54,
   "metadata": {
    "collapsed": false
   },
   "outputs": [
    {
     "data": {
      "text/plain": [
       "2298"
      ]
     },
     "execution_count": 54,
     "metadata": {},
     "output_type": "execute_result"
    }
   ],
   "source": [
    "# How many movies were made in the year 1960?\n",
    "\n",
    "len(titles[titles.year == 1960])"
   ]
  },
  {
   "cell_type": "code",
   "execution_count": 58,
   "metadata": {
    "collapsed": false
   },
   "outputs": [
    {
     "data": {
      "text/plain": [
       "19674"
      ]
     },
     "execution_count": 58,
     "metadata": {},
     "output_type": "execute_result"
    }
   ],
   "source": [
    "# How many movies were made from 1950 through 1959?\n",
    "\n",
    "t = titles\n",
    "len(t[(t.year >= 1950) & (t.year <= 1959)])"
   ]
  },
  {
   "cell_type": "code",
   "execution_count": 59,
   "metadata": {
    "collapsed": false
   },
   "outputs": [
    {
     "data": {
      "text/plain": [
       "19674"
      ]
     },
     "execution_count": 59,
     "metadata": {},
     "output_type": "execute_result"
    }
   ],
   "source": [
    "len(t[t.year // 10 == 195])"
   ]
  },
  {
   "cell_type": "code",
   "execution_count": 69,
   "metadata": {
    "collapsed": false
   },
   "outputs": [
    {
     "data": {
      "text/html": [
       "<div style=\"max-height:1000px;max-width:1500px;overflow:auto;\">\n",
       "<table border=\"1\" class=\"dataframe\">\n",
       "  <thead>\n",
       "    <tr style=\"text-align: right;\">\n",
       "      <th></th>\n",
       "      <th>title</th>\n",
       "      <th>year</th>\n",
       "    </tr>\n",
       "  </thead>\n",
       "  <tbody>\n",
       "    <tr>\n",
       "      <th>24368</th>\n",
       "      <td>Batman</td>\n",
       "      <td>1989</td>\n",
       "    </tr>\n",
       "    <tr>\n",
       "      <th>28556</th>\n",
       "      <td>Batman</td>\n",
       "      <td>1943</td>\n",
       "    </tr>\n",
       "    <tr>\n",
       "      <th>305635</th>\n",
       "      <td>Batman</td>\n",
       "      <td>1966</td>\n",
       "    </tr>\n",
       "  </tbody>\n",
       "</table>\n",
       "</div>"
      ],
      "text/plain": [
       "         title  year\n",
       "24368   Batman  1989\n",
       "28556   Batman  1943\n",
       "305635  Batman  1966"
      ]
     },
     "execution_count": 69,
     "metadata": {},
     "output_type": "execute_result"
    }
   ],
   "source": [
    "# In what years has a movie titled \"Batman\" been released?\n",
    "\n",
    "t = titles\n",
    "t[t.title == 'Batman']"
   ]
  },
  {
   "cell_type": "code",
   "execution_count": 72,
   "metadata": {
    "collapsed": false
   },
   "outputs": [
    {
     "data": {
      "text/plain": [
       "72"
      ]
     },
     "execution_count": 72,
     "metadata": {},
     "output_type": "execute_result"
    }
   ],
   "source": [
    "# How many roles were there in the movie \"Inception\"?\n",
    "\n",
    "c = cast\n",
    "len(c[c.title == 'Inception'])"
   ]
  },
  {
   "cell_type": "code",
   "execution_count": 76,
   "metadata": {
    "collapsed": false
   },
   "outputs": [
    {
     "data": {
      "text/plain": [
       "21"
      ]
     },
     "execution_count": 76,
     "metadata": {},
     "output_type": "execute_result"
    }
   ],
   "source": [
    "# How many roles in the movie \"Inception\" are NOT ranked by an \"n\" value?\n",
    "\n",
    "c = cast\n",
    "c = c[c.title == 'Inception']\n",
    "c = c[c.n.isnull()]\n",
    "len(c)"
   ]
  },
  {
   "cell_type": "code",
   "execution_count": 79,
   "metadata": {
    "collapsed": false
   },
   "outputs": [
    {
     "data": {
      "text/plain": [
       "51"
      ]
     },
     "execution_count": 79,
     "metadata": {},
     "output_type": "execute_result"
    }
   ],
   "source": [
    "# How many roles in the movie \"Inception\" are worthy of an \"n\" value?\n",
    "\n",
    "c = cast\n",
    "c = c[c.title == 'Inception']\n",
    "c = c[c.n.notnull()]\n",
    "len(c)"
   ]
  },
  {
   "cell_type": "code",
   "execution_count": 86,
   "metadata": {
    "collapsed": false
   },
   "outputs": [
    {
     "data": {
      "text/html": [
       "<div style=\"max-height:1000px;max-width:1500px;overflow:auto;\">\n",
       "<table border=\"1\" class=\"dataframe\">\n",
       "  <thead>\n",
       "    <tr style=\"text-align: right;\">\n",
       "      <th></th>\n",
       "      <th>title</th>\n",
       "      <th>year</th>\n",
       "      <th>name</th>\n",
       "      <th>type</th>\n",
       "      <th>character</th>\n",
       "      <th>n</th>\n",
       "    </tr>\n",
       "  </thead>\n",
       "  <tbody>\n",
       "    <tr>\n",
       "      <th>2352233</th>\n",
       "      <td>North by Northwest</td>\n",
       "      <td>1959</td>\n",
       "      <td>Cary Grant</td>\n",
       "      <td>actor</td>\n",
       "      <td>Roger O. Thornhill</td>\n",
       "      <td>1</td>\n",
       "    </tr>\n",
       "    <tr>\n",
       "      <th>3654044</th>\n",
       "      <td>North by Northwest</td>\n",
       "      <td>1959</td>\n",
       "      <td>Eva Marie Saint</td>\n",
       "      <td>actress</td>\n",
       "      <td>Eve Kendall</td>\n",
       "      <td>2</td>\n",
       "    </tr>\n",
       "    <tr>\n",
       "      <th>2687332</th>\n",
       "      <td>North by Northwest</td>\n",
       "      <td>1959</td>\n",
       "      <td>James Mason</td>\n",
       "      <td>actor</td>\n",
       "      <td>Phillip Vandamm</td>\n",
       "      <td>3</td>\n",
       "    </tr>\n",
       "    <tr>\n",
       "      <th>3436248</th>\n",
       "      <td>North by Northwest</td>\n",
       "      <td>1959</td>\n",
       "      <td>Jessie Royce Landis</td>\n",
       "      <td>actress</td>\n",
       "      <td>Clara Thornhill</td>\n",
       "      <td>4</td>\n",
       "    </tr>\n",
       "    <tr>\n",
       "      <th>856608</th>\n",
       "      <td>North by Northwest</td>\n",
       "      <td>1959</td>\n",
       "      <td>Leo G. Carroll</td>\n",
       "      <td>actor</td>\n",
       "      <td>The Professor</td>\n",
       "      <td>5</td>\n",
       "    </tr>\n",
       "    <tr>\n",
       "      <th>3224481</th>\n",
       "      <td>North by Northwest</td>\n",
       "      <td>1959</td>\n",
       "      <td>Josephine Hutchinson</td>\n",
       "      <td>actress</td>\n",
       "      <td>Mrs. Townsend</td>\n",
       "      <td>6</td>\n",
       "    </tr>\n",
       "    <tr>\n",
       "      <th>2818718</th>\n",
       "      <td>North by Northwest</td>\n",
       "      <td>1959</td>\n",
       "      <td>Philip Ober</td>\n",
       "      <td>actor</td>\n",
       "      <td>Lester Townsend</td>\n",
       "      <td>7</td>\n",
       "    </tr>\n",
       "    <tr>\n",
       "      <th>1055248</th>\n",
       "      <td>North by Northwest</td>\n",
       "      <td>1959</td>\n",
       "      <td>Martin Landau</td>\n",
       "      <td>actor</td>\n",
       "      <td>Leonard</td>\n",
       "      <td>8</td>\n",
       "    </tr>\n",
       "    <tr>\n",
       "      <th>2287548</th>\n",
       "      <td>North by Northwest</td>\n",
       "      <td>1959</td>\n",
       "      <td>Adam Williams</td>\n",
       "      <td>actor</td>\n",
       "      <td>Valerian</td>\n",
       "      <td>9</td>\n",
       "    </tr>\n",
       "    <tr>\n",
       "      <th>2834490</th>\n",
       "      <td>North by Northwest</td>\n",
       "      <td>1959</td>\n",
       "      <td>Edward Platt</td>\n",
       "      <td>actor</td>\n",
       "      <td>Victor Larrabee</td>\n",
       "      <td>10</td>\n",
       "    </tr>\n",
       "    <tr>\n",
       "      <th>1173336</th>\n",
       "      <td>North by Northwest</td>\n",
       "      <td>1959</td>\n",
       "      <td>Robert Ellenstein</td>\n",
       "      <td>actor</td>\n",
       "      <td>Licht</td>\n",
       "      <td>11</td>\n",
       "    </tr>\n",
       "    <tr>\n",
       "      <th>426658</th>\n",
       "      <td>North by Northwest</td>\n",
       "      <td>1959</td>\n",
       "      <td>Les Tremayne</td>\n",
       "      <td>actor</td>\n",
       "      <td>Auctioneer</td>\n",
       "      <td>12</td>\n",
       "    </tr>\n",
       "    <tr>\n",
       "      <th>1894845</th>\n",
       "      <td>North by Northwest</td>\n",
       "      <td>1959</td>\n",
       "      <td>Philip Coolidge</td>\n",
       "      <td>actor</td>\n",
       "      <td>Dr. Cross</td>\n",
       "      <td>13</td>\n",
       "    </tr>\n",
       "    <tr>\n",
       "      <th>2732084</th>\n",
       "      <td>North by Northwest</td>\n",
       "      <td>1959</td>\n",
       "      <td>Patrick McVey</td>\n",
       "      <td>actor</td>\n",
       "      <td>Sergeant Flamm</td>\n",
       "      <td>14</td>\n",
       "    </tr>\n",
       "    <tr>\n",
       "      <th>1667402</th>\n",
       "      <td>North by Northwest</td>\n",
       "      <td>1959</td>\n",
       "      <td>Edward Binns</td>\n",
       "      <td>actor</td>\n",
       "      <td>Captain Junket</td>\n",
       "      <td>15</td>\n",
       "    </tr>\n",
       "    <tr>\n",
       "      <th>2645250</th>\n",
       "      <td>North by Northwest</td>\n",
       "      <td>1959</td>\n",
       "      <td>Ken Lynch</td>\n",
       "      <td>actor</td>\n",
       "      <td>Charley - Chicago Policeman</td>\n",
       "      <td>16</td>\n",
       "    </tr>\n",
       "  </tbody>\n",
       "</table>\n",
       "</div>"
      ],
      "text/plain": [
       "                      title  year                  name     type  \\\n",
       "2352233  North by Northwest  1959            Cary Grant    actor   \n",
       "3654044  North by Northwest  1959       Eva Marie Saint  actress   \n",
       "2687332  North by Northwest  1959           James Mason    actor   \n",
       "3436248  North by Northwest  1959   Jessie Royce Landis  actress   \n",
       "856608   North by Northwest  1959        Leo G. Carroll    actor   \n",
       "3224481  North by Northwest  1959  Josephine Hutchinson  actress   \n",
       "2818718  North by Northwest  1959           Philip Ober    actor   \n",
       "1055248  North by Northwest  1959         Martin Landau    actor   \n",
       "2287548  North by Northwest  1959         Adam Williams    actor   \n",
       "2834490  North by Northwest  1959          Edward Platt    actor   \n",
       "1173336  North by Northwest  1959     Robert Ellenstein    actor   \n",
       "426658   North by Northwest  1959          Les Tremayne    actor   \n",
       "1894845  North by Northwest  1959       Philip Coolidge    actor   \n",
       "2732084  North by Northwest  1959         Patrick McVey    actor   \n",
       "1667402  North by Northwest  1959          Edward Binns    actor   \n",
       "2645250  North by Northwest  1959             Ken Lynch    actor   \n",
       "\n",
       "                           character   n  \n",
       "2352233           Roger O. Thornhill   1  \n",
       "3654044                  Eve Kendall   2  \n",
       "2687332              Phillip Vandamm   3  \n",
       "3436248              Clara Thornhill   4  \n",
       "856608                 The Professor   5  \n",
       "3224481                Mrs. Townsend   6  \n",
       "2818718              Lester Townsend   7  \n",
       "1055248                      Leonard   8  \n",
       "2287548                     Valerian   9  \n",
       "2834490              Victor Larrabee  10  \n",
       "1173336                        Licht  11  \n",
       "426658                    Auctioneer  12  \n",
       "1894845                    Dr. Cross  13  \n",
       "2732084               Sergeant Flamm  14  \n",
       "1667402               Captain Junket  15  \n",
       "2645250  Charley - Chicago Policeman  16  "
      ]
     },
     "execution_count": 86,
     "metadata": {},
     "output_type": "execute_result"
    }
   ],
   "source": [
    "# Display the cast of \"North by Northwest\" in their correct \"n\"-value order,\n",
    "# ignoring roles that did not earn an \"n\" value.\n",
    "\n",
    "c = cast\n",
    "c = c[c.title == 'North by Northwest']\n",
    "c = c[c.n.notnull()]\n",
    "c = c.sort('n')\n",
    "c"
   ]
  },
  {
   "cell_type": "code",
   "execution_count": 89,
   "metadata": {
    "collapsed": false
   },
   "outputs": [
    {
     "data": {
      "text/html": [
       "<div style=\"max-height:1000px;max-width:1500px;overflow:auto;\">\n",
       "<table border=\"1\" class=\"dataframe\">\n",
       "  <thead>\n",
       "    <tr style=\"text-align: right;\">\n",
       "      <th></th>\n",
       "      <th>title</th>\n",
       "      <th>year</th>\n",
       "      <th>name</th>\n",
       "      <th>type</th>\n",
       "      <th>character</th>\n",
       "      <th>n</th>\n",
       "    </tr>\n",
       "  </thead>\n",
       "  <tbody>\n",
       "    <tr>\n",
       "      <th>2815436</th>\n",
       "      <td>Sleuth</td>\n",
       "      <td>1972</td>\n",
       "      <td>Laurence Olivier</td>\n",
       "      <td>actor</td>\n",
       "      <td>Andrew Wyke</td>\n",
       "      <td>1</td>\n",
       "    </tr>\n",
       "    <tr>\n",
       "      <th>1985454</th>\n",
       "      <td>Sleuth</td>\n",
       "      <td>1972</td>\n",
       "      <td>Michael Caine</td>\n",
       "      <td>actor</td>\n",
       "      <td>Milo Tindle</td>\n",
       "      <td>2</td>\n",
       "    </tr>\n",
       "    <tr>\n",
       "      <th>2004531</th>\n",
       "      <td>Sleuth</td>\n",
       "      <td>1972</td>\n",
       "      <td>Alec Cawthorne</td>\n",
       "      <td>actor</td>\n",
       "      <td>Inspector Doppler</td>\n",
       "      <td>3</td>\n",
       "    </tr>\n",
       "    <tr>\n",
       "      <th>2707118</th>\n",
       "      <td>Sleuth</td>\n",
       "      <td>1972</td>\n",
       "      <td>John Matthews (II)</td>\n",
       "      <td>actor</td>\n",
       "      <td>Detective Sergeant Tarrant</td>\n",
       "      <td>4</td>\n",
       "    </tr>\n",
       "    <tr>\n",
       "      <th>3292963</th>\n",
       "      <td>Sleuth</td>\n",
       "      <td>1972</td>\n",
       "      <td>Eve Channing (III)</td>\n",
       "      <td>actress</td>\n",
       "      <td>Marguerite Wyke</td>\n",
       "      <td>5</td>\n",
       "    </tr>\n",
       "    <tr>\n",
       "      <th>2693963</th>\n",
       "      <td>Sleuth</td>\n",
       "      <td>1972</td>\n",
       "      <td>Teddy Martin</td>\n",
       "      <td>actor</td>\n",
       "      <td>Police Constable Higgs</td>\n",
       "      <td>6</td>\n",
       "    </tr>\n",
       "  </tbody>\n",
       "</table>\n",
       "</div>"
      ],
      "text/plain": [
       "          title  year                name     type  \\\n",
       "2815436  Sleuth  1972    Laurence Olivier    actor   \n",
       "1985454  Sleuth  1972       Michael Caine    actor   \n",
       "2004531  Sleuth  1972      Alec Cawthorne    actor   \n",
       "2707118  Sleuth  1972  John Matthews (II)    actor   \n",
       "3292963  Sleuth  1972  Eve Channing (III)  actress   \n",
       "2693963  Sleuth  1972        Teddy Martin    actor   \n",
       "\n",
       "                          character  n  \n",
       "2815436                 Andrew Wyke  1  \n",
       "1985454                 Milo Tindle  2  \n",
       "2004531           Inspector Doppler  3  \n",
       "2707118  Detective Sergeant Tarrant  4  \n",
       "3292963             Marguerite Wyke  5  \n",
       "2693963      Police Constable Higgs  6  "
      ]
     },
     "execution_count": 89,
     "metadata": {},
     "output_type": "execute_result"
    }
   ],
   "source": [
    "# Display the entire cast, in \"n\"-order, of the 1972 film \"Sleuth\".\n",
    "\n",
    "c = cast\n",
    "c = c[c.title == 'Sleuth']\n",
    "c = c[c.year == 1972]\n",
    "c = c.sort('n')\n",
    "c"
   ]
  },
  {
   "cell_type": "code",
   "execution_count": 91,
   "metadata": {
    "collapsed": false
   },
   "outputs": [
    {
     "data": {
      "text/html": [
       "<div style=\"max-height:1000px;max-width:1500px;overflow:auto;\">\n",
       "<table border=\"1\" class=\"dataframe\">\n",
       "  <thead>\n",
       "    <tr style=\"text-align: right;\">\n",
       "      <th></th>\n",
       "      <th>title</th>\n",
       "      <th>year</th>\n",
       "      <th>name</th>\n",
       "      <th>type</th>\n",
       "      <th>character</th>\n",
       "      <th>n</th>\n",
       "    </tr>\n",
       "  </thead>\n",
       "  <tbody>\n",
       "    <tr>\n",
       "      <th>430345</th>\n",
       "      <td>Sleuth</td>\n",
       "      <td>2007</td>\n",
       "      <td>Michael Caine</td>\n",
       "      <td>actor</td>\n",
       "      <td>Andrew</td>\n",
       "      <td>1</td>\n",
       "    </tr>\n",
       "    <tr>\n",
       "      <th>396683</th>\n",
       "      <td>Sleuth</td>\n",
       "      <td>2007</td>\n",
       "      <td>Jude Law</td>\n",
       "      <td>actor</td>\n",
       "      <td>Milo</td>\n",
       "      <td>2</td>\n",
       "    </tr>\n",
       "    <tr>\n",
       "      <th>2130812</th>\n",
       "      <td>Sleuth</td>\n",
       "      <td>2007</td>\n",
       "      <td>Harold Pinter</td>\n",
       "      <td>actor</td>\n",
       "      <td>Man on T.V.</td>\n",
       "      <td>3</td>\n",
       "    </tr>\n",
       "    <tr>\n",
       "      <th>492114</th>\n",
       "      <td>Sleuth</td>\n",
       "      <td>2007</td>\n",
       "      <td>Carmel O'Sullivan</td>\n",
       "      <td>actress</td>\n",
       "      <td>Maggie</td>\n",
       "      <td>NaN</td>\n",
       "    </tr>\n",
       "    <tr>\n",
       "      <th>1847799</th>\n",
       "      <td>Sleuth</td>\n",
       "      <td>2007</td>\n",
       "      <td>Kenneth Branagh</td>\n",
       "      <td>actor</td>\n",
       "      <td>Other Man on T.V.</td>\n",
       "      <td>NaN</td>\n",
       "    </tr>\n",
       "    <tr>\n",
       "      <th>2004532</th>\n",
       "      <td>Sleuth</td>\n",
       "      <td>2007</td>\n",
       "      <td>Alec Cawthorne (II)</td>\n",
       "      <td>actor</td>\n",
       "      <td>Inspector Doppler</td>\n",
       "      <td>NaN</td>\n",
       "    </tr>\n",
       "    <tr>\n",
       "      <th>3292962</th>\n",
       "      <td>Sleuth</td>\n",
       "      <td>2007</td>\n",
       "      <td>Eve Channing (II)</td>\n",
       "      <td>actress</td>\n",
       "      <td>Marguerite Wyke</td>\n",
       "      <td>NaN</td>\n",
       "    </tr>\n",
       "  </tbody>\n",
       "</table>\n",
       "</div>"
      ],
      "text/plain": [
       "          title  year                 name     type          character   n\n",
       "430345   Sleuth  2007        Michael Caine    actor             Andrew   1\n",
       "396683   Sleuth  2007             Jude Law    actor               Milo   2\n",
       "2130812  Sleuth  2007        Harold Pinter    actor        Man on T.V.   3\n",
       "492114   Sleuth  2007    Carmel O'Sullivan  actress             Maggie NaN\n",
       "1847799  Sleuth  2007      Kenneth Branagh    actor  Other Man on T.V. NaN\n",
       "2004532  Sleuth  2007  Alec Cawthorne (II)    actor  Inspector Doppler NaN\n",
       "3292962  Sleuth  2007    Eve Channing (II)  actress    Marguerite Wyke NaN"
      ]
     },
     "execution_count": 91,
     "metadata": {},
     "output_type": "execute_result"
    }
   ],
   "source": [
    "# Now display the entire cast, in \"n\"-order, of the 2007 version of \"Sleuth\".\n",
    "\n",
    "c = cast\n",
    "c = c[c.title == 'Sleuth']\n",
    "c = c[c.year == 2007]\n",
    "c = c.sort('n')\n",
    "c"
   ]
  },
  {
   "cell_type": "code",
   "execution_count": 100,
   "metadata": {
    "collapsed": false
   },
   "outputs": [
    {
     "data": {
      "text/plain": [
       "9"
      ]
     },
     "execution_count": 100,
     "metadata": {},
     "output_type": "execute_result"
    }
   ],
   "source": [
    "# How many roles were credited in the silent 1921 version of Hamlet?\n",
    "\n",
    "c = cast\n",
    "c = c[(c.title == 'Hamlet') & (c.year == 1921)]\n",
    "len(c)"
   ]
  },
  {
   "cell_type": "code",
   "execution_count": 101,
   "metadata": {
    "collapsed": false
   },
   "outputs": [
    {
     "data": {
      "text/plain": [
       "55"
      ]
     },
     "execution_count": 101,
     "metadata": {},
     "output_type": "execute_result"
    }
   ],
   "source": [
    "# How many roles were credited in Branagh’s 1996 Hamlet?\n",
    "\n",
    "c = cast\n",
    "c = c[(c.title == 'Hamlet') & (c.year == 1996)]\n",
    "len(c)"
   ]
  },
  {
   "cell_type": "code",
   "execution_count": 103,
   "metadata": {
    "collapsed": false
   },
   "outputs": [
    {
     "data": {
      "text/plain": [
       "91"
      ]
     },
     "execution_count": 103,
     "metadata": {},
     "output_type": "execute_result"
    }
   ],
   "source": [
    "# How many people total have played a film role credited as \"Hamlet\"?\n",
    "\n",
    "c = cast\n",
    "c = c[c.character == 'Hamlet']\n",
    "len(c)"
   ]
  },
  {
   "cell_type": "code",
   "execution_count": 146,
   "metadata": {
    "collapsed": false
   },
   "outputs": [
    {
     "data": {
      "text/plain": [
       "96"
      ]
     },
     "execution_count": 146,
     "metadata": {},
     "output_type": "execute_result"
    }
   ],
   "source": [
    "# How many people have played an \"Ophelia\"?\n",
    "\n",
    "c = cast\n",
    "c = c[c.character == 'Ophelia']\n",
    "len(c)"
   ]
  },
  {
   "cell_type": "code",
   "execution_count": 111,
   "metadata": {
    "collapsed": false
   },
   "outputs": [
    {
     "data": {
      "text/plain": [
       "43"
      ]
     },
     "execution_count": 111,
     "metadata": {},
     "output_type": "execute_result"
    }
   ],
   "source": [
    "# How many roles has Sidney Poitier played throughout his career?\n",
    "\n",
    "c = cast\n",
    "c = c[c.name == 'Sidney Poitier']\n",
    "len(c)"
   ]
  },
  {
   "cell_type": "code",
   "execution_count": 112,
   "metadata": {
    "collapsed": false
   },
   "outputs": [
    {
     "data": {
      "text/plain": [
       "51"
      ]
     },
     "execution_count": 112,
     "metadata": {},
     "output_type": "execute_result"
    }
   ],
   "source": [
    "# How many roles has Judi Dench played?\n",
    "\n",
    "c = cast\n",
    "c = c[c.name == 'Judi Dench']\n",
    "len(c)"
   ]
  },
  {
   "cell_type": "code",
   "execution_count": 113,
   "metadata": {
    "collapsed": false
   },
   "outputs": [
    {
     "data": {
      "text/plain": [
       "121"
      ]
     },
     "execution_count": 113,
     "metadata": {},
     "output_type": "execute_result"
    }
   ],
   "source": [
    "# How many roles has Michael Caine had through his career?\n",
    "\n",
    "c = cast\n",
    "c = c[c.name == 'Michael Caine']\n",
    "len(c)"
   ]
  },
  {
   "cell_type": "code",
   "execution_count": 125,
   "metadata": {
    "collapsed": false
   },
   "outputs": [
    {
     "data": {
      "text/html": [
       "<div style=\"max-height:1000px;max-width:1500px;overflow:auto;\">\n",
       "<table border=\"1\" class=\"dataframe\">\n",
       "  <thead>\n",
       "    <tr style=\"text-align: right;\">\n",
       "      <th></th>\n",
       "      <th>title</th>\n",
       "      <th>year</th>\n",
       "      <th>name</th>\n",
       "      <th>type</th>\n",
       "      <th>character</th>\n",
       "      <th>n</th>\n",
       "    </tr>\n",
       "  </thead>\n",
       "  <tbody>\n",
       "    <tr>\n",
       "      <th>420024</th>\n",
       "      <td>My Favorite Wife</td>\n",
       "      <td>1940</td>\n",
       "      <td>Cary Grant</td>\n",
       "      <td>actor</td>\n",
       "      <td>Nick</td>\n",
       "      <td>2</td>\n",
       "    </tr>\n",
       "    <tr>\n",
       "      <th>1875653</th>\n",
       "      <td>Penny Serenade</td>\n",
       "      <td>1941</td>\n",
       "      <td>Cary Grant</td>\n",
       "      <td>actor</td>\n",
       "      <td>Roger Adams</td>\n",
       "      <td>2</td>\n",
       "    </tr>\n",
       "  </tbody>\n",
       "</table>\n",
       "</div>"
      ],
      "text/plain": [
       "                    title  year        name   type    character  n\n",
       "420024   My Favorite Wife  1940  Cary Grant  actor         Nick  2\n",
       "1875653    Penny Serenade  1941  Cary Grant  actor  Roger Adams  2"
      ]
     },
     "execution_count": 125,
     "metadata": {},
     "output_type": "execute_result"
    }
   ],
   "source": [
    "# List the supporting roles (with n=2) played by Cary Grant in the 1940s,\n",
    "# in order by year.\n",
    "\n",
    "c = cast\n",
    "c = c[c.name == 'Cary Grant']\n",
    "c = c[c.year // 10 == 194]\n",
    "c = c[c.n == 2]\n",
    "c = c.sort('year')\n",
    "c"
   ]
  },
  {
   "cell_type": "code",
   "execution_count": 121,
   "metadata": {
    "collapsed": false
   },
   "outputs": [
    {
     "data": {
      "text/html": [
       "<div style=\"max-height:1000px;max-width:1500px;overflow:auto;\">\n",
       "<table border=\"1\" class=\"dataframe\">\n",
       "  <thead>\n",
       "    <tr style=\"text-align: right;\">\n",
       "      <th></th>\n",
       "      <th>title</th>\n",
       "      <th>year</th>\n",
       "      <th>name</th>\n",
       "      <th>type</th>\n",
       "      <th>character</th>\n",
       "      <th>n</th>\n",
       "    </tr>\n",
       "  </thead>\n",
       "  <tbody>\n",
       "    <tr>\n",
       "      <th>2097216</th>\n",
       "      <td>His Girl Friday</td>\n",
       "      <td>1940</td>\n",
       "      <td>Cary Grant</td>\n",
       "      <td>actor</td>\n",
       "      <td>Walter Burns</td>\n",
       "      <td>1</td>\n",
       "    </tr>\n",
       "    <tr>\n",
       "      <th>2371738</th>\n",
       "      <td>The Howards of Virginia</td>\n",
       "      <td>1940</td>\n",
       "      <td>Cary Grant</td>\n",
       "      <td>actor</td>\n",
       "      <td>Matt Howard</td>\n",
       "      <td>1</td>\n",
       "    </tr>\n",
       "    <tr>\n",
       "      <th>2055503</th>\n",
       "      <td>The Philadelphia Story</td>\n",
       "      <td>1940</td>\n",
       "      <td>Cary Grant</td>\n",
       "      <td>actor</td>\n",
       "      <td>C.K. Dexter Haven</td>\n",
       "      <td>1</td>\n",
       "    </tr>\n",
       "    <tr>\n",
       "      <th>295115</th>\n",
       "      <td>Suspicion</td>\n",
       "      <td>1941</td>\n",
       "      <td>Cary Grant</td>\n",
       "      <td>actor</td>\n",
       "      <td>Johnnie</td>\n",
       "      <td>1</td>\n",
       "    </tr>\n",
       "    <tr>\n",
       "      <th>2338399</th>\n",
       "      <td>Once Upon a Honeymoon</td>\n",
       "      <td>1942</td>\n",
       "      <td>Cary Grant</td>\n",
       "      <td>actor</td>\n",
       "      <td>Patrick 'Pat' O'Toole</td>\n",
       "      <td>1</td>\n",
       "    </tr>\n",
       "    <tr>\n",
       "      <th>2333221</th>\n",
       "      <td>The Talk of the Town</td>\n",
       "      <td>1942</td>\n",
       "      <td>Cary Grant</td>\n",
       "      <td>actor</td>\n",
       "      <td>Leopold Dilg</td>\n",
       "      <td>1</td>\n",
       "    </tr>\n",
       "    <tr>\n",
       "      <th>2336431</th>\n",
       "      <td>Destination Tokyo</td>\n",
       "      <td>1943</td>\n",
       "      <td>Cary Grant</td>\n",
       "      <td>actor</td>\n",
       "      <td>Capt. Cassidy</td>\n",
       "      <td>1</td>\n",
       "    </tr>\n",
       "    <tr>\n",
       "      <th>2379729</th>\n",
       "      <td>Mr. Lucky</td>\n",
       "      <td>1943</td>\n",
       "      <td>Cary Grant</td>\n",
       "      <td>actor</td>\n",
       "      <td>Joe Bascopolous</td>\n",
       "      <td>1</td>\n",
       "    </tr>\n",
       "    <tr>\n",
       "      <th>370263</th>\n",
       "      <td>Mr. Lucky</td>\n",
       "      <td>1943</td>\n",
       "      <td>Cary Grant</td>\n",
       "      <td>actor</td>\n",
       "      <td>Joe Adams</td>\n",
       "      <td>1</td>\n",
       "    </tr>\n",
       "    <tr>\n",
       "      <th>1759368</th>\n",
       "      <td>Arsenic and Old Lace</td>\n",
       "      <td>1944</td>\n",
       "      <td>Cary Grant</td>\n",
       "      <td>actor</td>\n",
       "      <td>Mortimer Brewster</td>\n",
       "      <td>1</td>\n",
       "    </tr>\n",
       "    <tr>\n",
       "      <th>1550782</th>\n",
       "      <td>Once Upon a Time</td>\n",
       "      <td>1944</td>\n",
       "      <td>Cary Grant</td>\n",
       "      <td>actor</td>\n",
       "      <td>Jerry Flynn</td>\n",
       "      <td>1</td>\n",
       "    </tr>\n",
       "    <tr>\n",
       "      <th>2342058</th>\n",
       "      <td>None But the Lonely Heart</td>\n",
       "      <td>1944</td>\n",
       "      <td>Cary Grant</td>\n",
       "      <td>actor</td>\n",
       "      <td>Ernie Mott</td>\n",
       "      <td>1</td>\n",
       "    </tr>\n",
       "    <tr>\n",
       "      <th>1212575</th>\n",
       "      <td>Notorious</td>\n",
       "      <td>1946</td>\n",
       "      <td>Cary Grant</td>\n",
       "      <td>actor</td>\n",
       "      <td>Devlin</td>\n",
       "      <td>1</td>\n",
       "    </tr>\n",
       "    <tr>\n",
       "      <th>2364797</th>\n",
       "      <td>Night and Day</td>\n",
       "      <td>1946</td>\n",
       "      <td>Cary Grant</td>\n",
       "      <td>actor</td>\n",
       "      <td>Cole Porter</td>\n",
       "      <td>1</td>\n",
       "    </tr>\n",
       "    <tr>\n",
       "      <th>1113350</th>\n",
       "      <td>The Bishop's Wife</td>\n",
       "      <td>1947</td>\n",
       "      <td>Cary Grant</td>\n",
       "      <td>actor</td>\n",
       "      <td>Dudley</td>\n",
       "      <td>1</td>\n",
       "    </tr>\n",
       "    <tr>\n",
       "      <th>247185</th>\n",
       "      <td>The Bachelor and the Bobby-Soxer</td>\n",
       "      <td>1947</td>\n",
       "      <td>Cary Grant</td>\n",
       "      <td>actor</td>\n",
       "      <td>Dick</td>\n",
       "      <td>1</td>\n",
       "    </tr>\n",
       "    <tr>\n",
       "      <th>2346507</th>\n",
       "      <td>Every Girl Should Be Married</td>\n",
       "      <td>1948</td>\n",
       "      <td>Cary Grant</td>\n",
       "      <td>actor</td>\n",
       "      <td>Dr. Madison Brown</td>\n",
       "      <td>1</td>\n",
       "    </tr>\n",
       "    <tr>\n",
       "      <th>1954883</th>\n",
       "      <td>Mr. Blandings Builds His Dream House</td>\n",
       "      <td>1948</td>\n",
       "      <td>Cary Grant</td>\n",
       "      <td>actor</td>\n",
       "      <td>Jim Blandings</td>\n",
       "      <td>1</td>\n",
       "    </tr>\n",
       "    <tr>\n",
       "      <th>2374336</th>\n",
       "      <td>I Was a Male War Bride</td>\n",
       "      <td>1949</td>\n",
       "      <td>Cary Grant</td>\n",
       "      <td>actor</td>\n",
       "      <td>Capt. Henri Rochard</td>\n",
       "      <td>1</td>\n",
       "    </tr>\n",
       "  </tbody>\n",
       "</table>\n",
       "</div>"
      ],
      "text/plain": [
       "                                        title  year        name   type  \\\n",
       "2097216                       His Girl Friday  1940  Cary Grant  actor   \n",
       "2371738               The Howards of Virginia  1940  Cary Grant  actor   \n",
       "2055503                The Philadelphia Story  1940  Cary Grant  actor   \n",
       "295115                              Suspicion  1941  Cary Grant  actor   \n",
       "2338399                 Once Upon a Honeymoon  1942  Cary Grant  actor   \n",
       "2333221                  The Talk of the Town  1942  Cary Grant  actor   \n",
       "2336431                     Destination Tokyo  1943  Cary Grant  actor   \n",
       "2379729                             Mr. Lucky  1943  Cary Grant  actor   \n",
       "370263                              Mr. Lucky  1943  Cary Grant  actor   \n",
       "1759368                  Arsenic and Old Lace  1944  Cary Grant  actor   \n",
       "1550782                      Once Upon a Time  1944  Cary Grant  actor   \n",
       "2342058             None But the Lonely Heart  1944  Cary Grant  actor   \n",
       "1212575                             Notorious  1946  Cary Grant  actor   \n",
       "2364797                         Night and Day  1946  Cary Grant  actor   \n",
       "1113350                     The Bishop's Wife  1947  Cary Grant  actor   \n",
       "247185       The Bachelor and the Bobby-Soxer  1947  Cary Grant  actor   \n",
       "2346507          Every Girl Should Be Married  1948  Cary Grant  actor   \n",
       "1954883  Mr. Blandings Builds His Dream House  1948  Cary Grant  actor   \n",
       "2374336                I Was a Male War Bride  1949  Cary Grant  actor   \n",
       "\n",
       "                     character  n  \n",
       "2097216           Walter Burns  1  \n",
       "2371738            Matt Howard  1  \n",
       "2055503      C.K. Dexter Haven  1  \n",
       "295115                 Johnnie  1  \n",
       "2338399  Patrick 'Pat' O'Toole  1  \n",
       "2333221           Leopold Dilg  1  \n",
       "2336431          Capt. Cassidy  1  \n",
       "2379729        Joe Bascopolous  1  \n",
       "370263               Joe Adams  1  \n",
       "1759368      Mortimer Brewster  1  \n",
       "1550782            Jerry Flynn  1  \n",
       "2342058             Ernie Mott  1  \n",
       "1212575                 Devlin  1  \n",
       "2364797            Cole Porter  1  \n",
       "1113350                 Dudley  1  \n",
       "247185                    Dick  1  \n",
       "2346507      Dr. Madison Brown  1  \n",
       "1954883          Jim Blandings  1  \n",
       "2374336    Capt. Henri Rochard  1  "
      ]
     },
     "execution_count": 121,
     "metadata": {},
     "output_type": "execute_result"
    }
   ],
   "source": [
    "# List the leading roles that Cary Grant played in the 1940s in order by year.\n",
    "\n",
    "c = cast\n",
    "c = c[c.name == 'Cary Grant']\n",
    "c = c[c.year // 10 == 194]\n",
    "c = c[c.n == 1 ]\n",
    "c = c.sort('year')\n",
    "c"
   ]
  },
  {
   "cell_type": "code",
   "execution_count": 128,
   "metadata": {
    "collapsed": false
   },
   "outputs": [
    {
     "data": {
      "text/plain": [
       "178789"
      ]
     },
     "execution_count": 128,
     "metadata": {},
     "output_type": "execute_result"
    }
   ],
   "source": [
    "# How many roles were avilable for actors in the 1950s?\n",
    "\n",
    "c = cast\n",
    "c = c[c.year // 10 == 195]\n",
    "c = c[c.type == 'actor']\n",
    "len(c)"
   ]
  },
  {
   "cell_type": "code",
   "execution_count": 129,
   "metadata": {
    "collapsed": false
   },
   "outputs": [
    {
     "data": {
      "text/plain": [
       "69946"
      ]
     },
     "execution_count": 129,
     "metadata": {},
     "output_type": "execute_result"
    }
   ],
   "source": [
    "# How many roles were avilable for actresses in the 1950s?\n",
    "\n",
    "c = cast\n",
    "c = c[c.year // 10 == 195]\n",
    "c = c[c.type == 'actress']\n",
    "len(c)"
   ]
  },
  {
   "cell_type": "code",
   "execution_count": 130,
   "metadata": {
    "collapsed": false
   },
   "outputs": [
    {
     "data": {
      "text/plain": [
       "79087"
      ]
     },
     "execution_count": 130,
     "metadata": {},
     "output_type": "execute_result"
    }
   ],
   "source": [
    "# How many leading roles (n=1) were available through 1980?\n",
    "\n",
    "c = cast\n",
    "c = c[c.year <= 1980]\n",
    "c = c[c.n == 1]\n",
    "len(c)"
   ]
  },
  {
   "cell_type": "code",
   "execution_count": 132,
   "metadata": {
    "collapsed": false
   },
   "outputs": [
    {
     "data": {
      "text/plain": [
       "1292652"
      ]
     },
     "execution_count": 132,
     "metadata": {},
     "output_type": "execute_result"
    }
   ],
   "source": [
    "# How many non-leading roles were available through 1980?\n",
    "\n",
    "c = cast\n",
    "c = c[c.year <= 1980]\n",
    "c = c[c.n != 1]\n",
    "len(c)"
   ]
  },
  {
   "cell_type": "code",
   "execution_count": 144,
   "metadata": {
    "collapsed": false
   },
   "outputs": [
    {
     "data": {
      "text/plain": [
       "503281"
      ]
     },
     "execution_count": 144,
     "metadata": {},
     "output_type": "execute_result"
    }
   ],
   "source": [
    "# How many roles through 1980 were not even worth of an `n` rank?\n",
    "\n",
    "c = cast\n",
    "c = c[c.year <= 1980]\n",
    "c = c[c.n.isnull()]\n",
    "len(c)"
   ]
  },
  {
   "cell_type": "code",
   "execution_count": 70,
   "metadata": {
    "collapsed": false
   },
   "outputs": [
    {
     "data": {
      "text/html": [
       "<div style=\"max-height:1000px;max-width:1500px;overflow:auto;\">\n",
       "<table border=\"1\" class=\"dataframe\">\n",
       "  <thead>\n",
       "    <tr style=\"text-align: right;\">\n",
       "      <th></th>\n",
       "      <th>title</th>\n",
       "      <th>year</th>\n",
       "      <th>name</th>\n",
       "      <th>type</th>\n",
       "      <th>character</th>\n",
       "      <th>n</th>\n",
       "    </tr>\n",
       "  </thead>\n",
       "  <tbody>\n",
       "    <tr>\n",
       "      <th>0</th>\n",
       "      <td>The Core</td>\n",
       "      <td>2003</td>\n",
       "      <td>Alejandro Abellan</td>\n",
       "      <td>actor</td>\n",
       "      <td>U.S.S. Soldier</td>\n",
       "      <td>NaN</td>\n",
       "    </tr>\n",
       "    <tr>\n",
       "      <th>1</th>\n",
       "      <td>Il momento di uccidere</td>\n",
       "      <td>1968</td>\n",
       "      <td>Remo De Angelis</td>\n",
       "      <td>actor</td>\n",
       "      <td>Dago</td>\n",
       "      <td>9</td>\n",
       "    </tr>\n",
       "    <tr>\n",
       "      <th>2</th>\n",
       "      <td>Across the Divide</td>\n",
       "      <td>1921</td>\n",
       "      <td>Thomas Delmar</td>\n",
       "      <td>actor</td>\n",
       "      <td>Dago</td>\n",
       "      <td>4</td>\n",
       "    </tr>\n",
       "    <tr>\n",
       "      <th>3</th>\n",
       "      <td>Revan</td>\n",
       "      <td>2012</td>\n",
       "      <td>Diego James</td>\n",
       "      <td>actor</td>\n",
       "      <td>Dago</td>\n",
       "      <td>NaN</td>\n",
       "    </tr>\n",
       "    <tr>\n",
       "      <th>4</th>\n",
       "      <td>Un homme marche dans la ville</td>\n",
       "      <td>1950</td>\n",
       "      <td>Fabien Loris</td>\n",
       "      <td>actor</td>\n",
       "      <td>Dago</td>\n",
       "      <td>12</td>\n",
       "    </tr>\n",
       "  </tbody>\n",
       "</table>\n",
       "</div>"
      ],
      "text/plain": [
       "                           title  year               name   type  \\\n",
       "0                       The Core  2003  Alejandro Abellan  actor   \n",
       "1         Il momento di uccidere  1968    Remo De Angelis  actor   \n",
       "2              Across the Divide  1921      Thomas Delmar  actor   \n",
       "3                          Revan  2012        Diego James  actor   \n",
       "4  Un homme marche dans la ville  1950       Fabien Loris  actor   \n",
       "\n",
       "        character   n  \n",
       "0  U.S.S. Soldier NaN  \n",
       "1            Dago   9  \n",
       "2            Dago   4  \n",
       "3            Dago NaN  \n",
       "4            Dago  12  "
      ]
     },
     "execution_count": 70,
     "metadata": {},
     "output_type": "execute_result"
    }
   ],
   "source": [
    "cast.head()"
   ]
  },
  {
   "cell_type": "markdown",
   "metadata": {},
   "source": [
    "* Cast of the Wizard of Oz.\n",
    "* Cast of the Wizard of Oz, first-billed only, by order of billing (filter + sort)."
   ]
  },
  {
   "cell_type": "markdown",
   "metadata": {},
   "source": [
    "### How many movies were made in the 1940s compared to the decade that followed?"
   ]
  },
  {
   "cell_type": "code",
   "execution_count": 7,
   "metadata": {
    "collapsed": false
   },
   "outputs": [
    {
     "name": "stdout",
     "output_type": "stream",
     "text": [
      "1984 was in the decade 1980\n"
     ]
    }
   ],
   "source": [
    "def decade(year):\n",
    "    return year // 10 * 10\n",
    "\n",
    "print('1984 was in the decade', decade(1984))"
   ]
  },
  {
   "cell_type": "code",
   "execution_count": 8,
   "metadata": {
    "collapsed": false
   },
   "outputs": [
    {
     "name": "stdout",
     "output_type": "stream",
     "text": [
      "1940s movies: 21178\n",
      "1950s movies: 28593\n"
     ]
    }
   ],
   "source": [
    "count = ((titles.year >= 1940) & (titles.year <= 1949)).sum()\n",
    "print('1940s movies: {}'.format(count))\n",
    "\n",
    "count = (titles.year.map(decade) == 1950).sum()\n",
    "print('1950s movies: {}'.format(count))"
   ]
  },
  {
   "cell_type": "code",
   "execution_count": 12,
   "metadata": {
    "collapsed": false
   },
   "outputs": [
    {
     "data": {
      "text/html": [
       "<div style=\"max-height:1000px;max-width:1500px;overflow:auto;\">\n",
       "<table border=\"1\" class=\"dataframe\">\n",
       "  <thead>\n",
       "    <tr style=\"text-align: right;\">\n",
       "      <th></th>\n",
       "      <th>title</th>\n",
       "      <th>name</th>\n",
       "      <th>type</th>\n",
       "      <th>character</th>\n",
       "      <th>n</th>\n",
       "    </tr>\n",
       "  </thead>\n",
       "  <tbody>\n",
       "    <tr>\n",
       "      <th>257572 </th>\n",
       "      <td>                                  Houseboat</td>\n",
       "      <td> Cary Grant</td>\n",
       "      <td> actor</td>\n",
       "      <td>                                    Tom Winters</td>\n",
       "      <td>  1</td>\n",
       "    </tr>\n",
       "    <tr>\n",
       "      <th>362801 </th>\n",
       "      <td>           The Bachelor and the Bobby-Soxer</td>\n",
       "      <td> Cary Grant</td>\n",
       "      <td> actor</td>\n",
       "      <td>                                           Dick</td>\n",
       "      <td>  1</td>\n",
       "    </tr>\n",
       "    <tr>\n",
       "      <th>396737 </th>\n",
       "      <td>                           The Last Outpost</td>\n",
       "      <td> Cary Grant</td>\n",
       "      <td> actor</td>\n",
       "      <td>                                Michael Andrews</td>\n",
       "      <td>  1</td>\n",
       "    </tr>\n",
       "    <tr>\n",
       "      <th>437879 </th>\n",
       "      <td>                                  Suspicion</td>\n",
       "      <td> Cary Grant</td>\n",
       "      <td> actor</td>\n",
       "      <td>                                        Johnnie</td>\n",
       "      <td>  1</td>\n",
       "    </tr>\n",
       "    <tr>\n",
       "      <th>547207 </th>\n",
       "      <td>                                  Mr. Lucky</td>\n",
       "      <td> Cary Grant</td>\n",
       "      <td> actor</td>\n",
       "      <td>                                      Joe Adams</td>\n",
       "      <td>  1</td>\n",
       "    </tr>\n",
       "    <tr>\n",
       "      <th>566111 </th>\n",
       "      <td>                                    Holiday</td>\n",
       "      <td> Cary Grant</td>\n",
       "      <td> actor</td>\n",
       "      <td>                                    Johnny Case</td>\n",
       "      <td>  2</td>\n",
       "    </tr>\n",
       "    <tr>\n",
       "      <th>607118 </th>\n",
       "      <td>                         Sinners in the Sun</td>\n",
       "      <td> Cary Grant</td>\n",
       "      <td> actor</td>\n",
       "      <td>                                       Ridgeway</td>\n",
       "      <td>  8</td>\n",
       "    </tr>\n",
       "    <tr>\n",
       "      <th>617526 </th>\n",
       "      <td>                           My Favorite Wife</td>\n",
       "      <td> Cary Grant</td>\n",
       "      <td> actor</td>\n",
       "      <td>                                           Nick</td>\n",
       "      <td>  2</td>\n",
       "    </tr>\n",
       "    <tr>\n",
       "      <th>717613 </th>\n",
       "      <td>                  The Pride and the Passion</td>\n",
       "      <td> Cary Grant</td>\n",
       "      <td> actor</td>\n",
       "      <td>                                        Anthony</td>\n",
       "      <td>  1</td>\n",
       "    </tr>\n",
       "    <tr>\n",
       "      <th>901674 </th>\n",
       "      <td>                               Father Goose</td>\n",
       "      <td> Cary Grant</td>\n",
       "      <td> actor</td>\n",
       "      <td>                                         Walter</td>\n",
       "      <td>  1</td>\n",
       "    </tr>\n",
       "    <tr>\n",
       "      <th>1159410</th>\n",
       "      <td>                                  Gunga Din</td>\n",
       "      <td> Cary Grant</td>\n",
       "      <td> actor</td>\n",
       "      <td>                                         Cutter</td>\n",
       "      <td>  1</td>\n",
       "    </tr>\n",
       "    <tr>\n",
       "      <th>1434510</th>\n",
       "      <td>                      Merrily We Go to Hell</td>\n",
       "      <td> Cary Grant</td>\n",
       "      <td> actor</td>\n",
       "      <td>                                 Charlie Baxter</td>\n",
       "      <td>  9</td>\n",
       "    </tr>\n",
       "    <tr>\n",
       "      <th>1622038</th>\n",
       "      <td>                           Bringing Up Baby</td>\n",
       "      <td> Cary Grant</td>\n",
       "      <td> actor</td>\n",
       "      <td>                                          David</td>\n",
       "      <td>  2</td>\n",
       "    </tr>\n",
       "    <tr>\n",
       "      <th>1854420</th>\n",
       "      <td>                          The Bishop's Wife</td>\n",
       "      <td> Cary Grant</td>\n",
       "      <td> actor</td>\n",
       "      <td>                                         Dudley</td>\n",
       "      <td>  1</td>\n",
       "    </tr>\n",
       "    <tr>\n",
       "      <th>1997180</th>\n",
       "      <td>                                  Notorious</td>\n",
       "      <td> Cary Grant</td>\n",
       "      <td> actor</td>\n",
       "      <td>                                         Devlin</td>\n",
       "      <td>  1</td>\n",
       "    </tr>\n",
       "    <tr>\n",
       "      <th>2242802</th>\n",
       "      <td>                          Room for One More</td>\n",
       "      <td> Cary Grant</td>\n",
       "      <td> actor</td>\n",
       "      <td>                                    George Rose</td>\n",
       "      <td>  1</td>\n",
       "    </tr>\n",
       "    <tr>\n",
       "      <th>2366577</th>\n",
       "      <td>                               I'm No Angel</td>\n",
       "      <td> Cary Grant</td>\n",
       "      <td> actor</td>\n",
       "      <td>                                   Jack Clayton</td>\n",
       "      <td>  2</td>\n",
       "    </tr>\n",
       "    <tr>\n",
       "      <th>2369096</th>\n",
       "      <td>                            Road to Victory</td>\n",
       "      <td> Cary Grant</td>\n",
       "      <td> actor</td>\n",
       "      <td>                                     Cary Grant</td>\n",
       "      <td>NaN</td>\n",
       "    </tr>\n",
       "    <tr>\n",
       "      <th>2369097</th>\n",
       "      <td>                         The Shining Future</td>\n",
       "      <td> Cary Grant</td>\n",
       "      <td> actor</td>\n",
       "      <td>                                     Cary Grant</td>\n",
       "      <td>  6</td>\n",
       "    </tr>\n",
       "    <tr>\n",
       "      <th>2369098</th>\n",
       "      <td>                       Without Reservations</td>\n",
       "      <td> Cary Grant</td>\n",
       "      <td> actor</td>\n",
       "      <td>                                     Cary Grant</td>\n",
       "      <td>NaN</td>\n",
       "    </tr>\n",
       "    <tr>\n",
       "      <th>2397974</th>\n",
       "      <td>                          Wings in the Dark</td>\n",
       "      <td> Cary Grant</td>\n",
       "      <td> actor</td>\n",
       "      <td>                                     Ken Gordon</td>\n",
       "      <td>  2</td>\n",
       "    </tr>\n",
       "    <tr>\n",
       "      <th>2448562</th>\n",
       "      <td>                              Singapore Sue</td>\n",
       "      <td> Cary Grant</td>\n",
       "      <td> actor</td>\n",
       "      <td>                                   First Sailor</td>\n",
       "      <td>NaN</td>\n",
       "    </tr>\n",
       "    <tr>\n",
       "      <th>2470941</th>\n",
       "      <td>                           Once Upon a Time</td>\n",
       "      <td> Cary Grant</td>\n",
       "      <td> actor</td>\n",
       "      <td>                                    Jerry Flynn</td>\n",
       "      <td>  1</td>\n",
       "    </tr>\n",
       "    <tr>\n",
       "      <th>2555084</th>\n",
       "      <td>                            Wedding Present</td>\n",
       "      <td> Cary Grant</td>\n",
       "      <td> actor</td>\n",
       "      <td>                                  Charlie Mason</td>\n",
       "      <td>  2</td>\n",
       "    </tr>\n",
       "    <tr>\n",
       "      <th>2576403</th>\n",
       "      <td>                         She Done Him Wrong</td>\n",
       "      <td> Cary Grant</td>\n",
       "      <td> actor</td>\n",
       "      <td>                               Captain Cummings</td>\n",
       "      <td>  2</td>\n",
       "    </tr>\n",
       "    <tr>\n",
       "      <th>2650895</th>\n",
       "      <td>                        Alice in Wonderland</td>\n",
       "      <td> Cary Grant</td>\n",
       "      <td> actor</td>\n",
       "      <td>                                    Mock Turtle</td>\n",
       "      <td> 10</td>\n",
       "    </tr>\n",
       "    <tr>\n",
       "      <th>2664097</th>\n",
       "      <td>                            That's Dancing!</td>\n",
       "      <td> Cary Grant</td>\n",
       "      <td> actor</td>\n",
       "      <td>                            Himself - film clip</td>\n",
       "      <td>NaN</td>\n",
       "    </tr>\n",
       "    <tr>\n",
       "      <th>2745485</th>\n",
       "      <td>                       Arsenic and Old Lace</td>\n",
       "      <td> Cary Grant</td>\n",
       "      <td> actor</td>\n",
       "      <td>                              Mortimer Brewster</td>\n",
       "      <td>  1</td>\n",
       "    </tr>\n",
       "    <tr>\n",
       "      <th>2803613</th>\n",
       "      <td>                     Only Angels Have Wings</td>\n",
       "      <td> Cary Grant</td>\n",
       "      <td> actor</td>\n",
       "      <td>                                   Geoff Carter</td>\n",
       "      <td>  1</td>\n",
       "    </tr>\n",
       "    <tr>\n",
       "      <th>2853171</th>\n",
       "      <td>                            The Awful Truth</td>\n",
       "      <td> Cary Grant</td>\n",
       "      <td> actor</td>\n",
       "      <td>                                 Jerry Warriner</td>\n",
       "      <td>  2</td>\n",
       "    </tr>\n",
       "    <tr>\n",
       "      <th>...</th>\n",
       "      <td>...</td>\n",
       "      <td>...</td>\n",
       "      <td>...</td>\n",
       "      <td>...</td>\n",
       "      <td>...</td>\n",
       "    </tr>\n",
       "    <tr>\n",
       "      <th>3495661</th>\n",
       "      <td>                           Madame Butterfly</td>\n",
       "      <td> Cary Grant</td>\n",
       "      <td> actor</td>\n",
       "      <td>                      Lieutenant B.F. Pinkerton</td>\n",
       "      <td>  2</td>\n",
       "    </tr>\n",
       "    <tr>\n",
       "      <th>3496213</th>\n",
       "      <td>                       Ladies Should Listen</td>\n",
       "      <td> Cary Grant</td>\n",
       "      <td> actor</td>\n",
       "      <td>                               Julian De Lussac</td>\n",
       "      <td>  1</td>\n",
       "    </tr>\n",
       "    <tr>\n",
       "      <th>3496214</th>\n",
       "      <td>                  None But the Lonely Heart</td>\n",
       "      <td> Cary Grant</td>\n",
       "      <td> actor</td>\n",
       "      <td>                                     Ernie Mott</td>\n",
       "      <td>  1</td>\n",
       "    </tr>\n",
       "    <tr>\n",
       "      <th>3496608</th>\n",
       "      <td>                            Sylvia Scarlett</td>\n",
       "      <td> Cary Grant</td>\n",
       "      <td> actor</td>\n",
       "      <td>                                  Jimmy Monkley</td>\n",
       "      <td>  2</td>\n",
       "    </tr>\n",
       "    <tr>\n",
       "      <th>3497441</th>\n",
       "      <td>                              Gambling Ship</td>\n",
       "      <td> Cary Grant</td>\n",
       "      <td> actor</td>\n",
       "      <td>                                     Ace Corbin</td>\n",
       "      <td>  1</td>\n",
       "    </tr>\n",
       "    <tr>\n",
       "      <th>3498830</th>\n",
       "      <td>                           Kiss and Make-Up</td>\n",
       "      <td> Cary Grant</td>\n",
       "      <td> actor</td>\n",
       "      <td>                              Dr. Maurice Lamar</td>\n",
       "      <td>  1</td>\n",
       "    </tr>\n",
       "    <tr>\n",
       "      <th>3501423</th>\n",
       "      <td>                   The Big Parade of Comedy</td>\n",
       "      <td> Cary Grant</td>\n",
       "      <td> actor</td>\n",
       "      <td>                                Actor in 'Suzy'</td>\n",
       "      <td>  5</td>\n",
       "    </tr>\n",
       "    <tr>\n",
       "      <th>3501771</th>\n",
       "      <td>               Every Girl Should Be Married</td>\n",
       "      <td> Cary Grant</td>\n",
       "      <td> actor</td>\n",
       "      <td>                              Dr. Madison Brown</td>\n",
       "      <td>  1</td>\n",
       "    </tr>\n",
       "    <tr>\n",
       "      <th>3505476</th>\n",
       "      <td> Boffo! Tinseltown's Bombs and Blockbusters</td>\n",
       "      <td> Cary Grant</td>\n",
       "      <td> actor</td>\n",
       "      <td>                                    T.R. Devlin</td>\n",
       "      <td>NaN</td>\n",
       "    </tr>\n",
       "    <tr>\n",
       "      <th>3506122</th>\n",
       "      <td>                     The Eagle and the Hawk</td>\n",
       "      <td> Cary Grant</td>\n",
       "      <td> actor</td>\n",
       "      <td>                                  Henry Crocker</td>\n",
       "      <td>  2</td>\n",
       "    </tr>\n",
       "    <tr>\n",
       "      <th>3509003</th>\n",
       "      <td> Boffo! Tinseltown's Bombs and Blockbusters</td>\n",
       "      <td> Cary Grant</td>\n",
       "      <td> actor</td>\n",
       "      <td>                             Roger O. Thornhill</td>\n",
       "      <td>NaN</td>\n",
       "    </tr>\n",
       "    <tr>\n",
       "      <th>3509004</th>\n",
       "      <td>                         North by Northwest</td>\n",
       "      <td> Cary Grant</td>\n",
       "      <td> actor</td>\n",
       "      <td>                             Roger O. Thornhill</td>\n",
       "      <td>  1</td>\n",
       "    </tr>\n",
       "    <tr>\n",
       "      <th>3509208</th>\n",
       "      <td>                          This Is the Night</td>\n",
       "      <td> Cary Grant</td>\n",
       "      <td> actor</td>\n",
       "      <td>                              Stephen Mathewson</td>\n",
       "      <td>  5</td>\n",
       "    </tr>\n",
       "    <tr>\n",
       "      <th>3513306</th>\n",
       "      <td>                      That's Entertainment!</td>\n",
       "      <td> Cary Grant</td>\n",
       "      <td> actor</td>\n",
       "      <td>                               Clip from 'Suzy'</td>\n",
       "      <td>NaN</td>\n",
       "    </tr>\n",
       "    <tr>\n",
       "      <th>3515803</th>\n",
       "      <td>                         That Touch of Mink</td>\n",
       "      <td> Cary Grant</td>\n",
       "      <td> actor</td>\n",
       "      <td>                                  Philip Shayne</td>\n",
       "      <td>  1</td>\n",
       "    </tr>\n",
       "    <tr>\n",
       "      <th>3519035</th>\n",
       "      <td>                                     Ingrid</td>\n",
       "      <td> Cary Grant</td>\n",
       "      <td> actor</td>\n",
       "      <td> Himself, clips from 'Notorious' &amp; 'Indiscreet'</td>\n",
       "      <td>NaN</td>\n",
       "    </tr>\n",
       "    <tr>\n",
       "      <th>3521817</th>\n",
       "      <td>                           To Catch a Thief</td>\n",
       "      <td> Cary Grant</td>\n",
       "      <td> actor</td>\n",
       "      <td>                                     John Robie</td>\n",
       "      <td>  1</td>\n",
       "    </tr>\n",
       "    <tr>\n",
       "      <th>3522197</th>\n",
       "      <td>                      An Affair to Remember</td>\n",
       "      <td> Cary Grant</td>\n",
       "      <td> actor</td>\n",
       "      <td>                                Nickie Ferrante</td>\n",
       "      <td>  1</td>\n",
       "    </tr>\n",
       "    <tr>\n",
       "      <th>3522228</th>\n",
       "      <td>                        When You're in Love</td>\n",
       "      <td> Cary Grant</td>\n",
       "      <td> actor</td>\n",
       "      <td>                                   Jimmy Hudson</td>\n",
       "      <td>  2</td>\n",
       "    </tr>\n",
       "    <tr>\n",
       "      <th>3522269</th>\n",
       "      <td>                                     Crisis</td>\n",
       "      <td> Cary Grant</td>\n",
       "      <td> actor</td>\n",
       "      <td>                    Dr. Eugene Norland Ferguson</td>\n",
       "      <td>  1</td>\n",
       "    </tr>\n",
       "    <tr>\n",
       "      <th>3522512</th>\n",
       "      <td>                      The Toast of New York</td>\n",
       "      <td> Cary Grant</td>\n",
       "      <td> actor</td>\n",
       "      <td>                                      Nick Boyd</td>\n",
       "      <td>  2</td>\n",
       "    </tr>\n",
       "    <tr>\n",
       "      <th>3522646</th>\n",
       "      <td>                         Devil and the Deep</td>\n",
       "      <td> Cary Grant</td>\n",
       "      <td> actor</td>\n",
       "      <td>                                    Lt. Jaeckel</td>\n",
       "      <td>  4</td>\n",
       "    </tr>\n",
       "    <tr>\n",
       "      <th>3523614</th>\n",
       "      <td>                                    Charade</td>\n",
       "      <td> Cary Grant</td>\n",
       "      <td> actor</td>\n",
       "      <td>                                   Peter Joshua</td>\n",
       "      <td>  1</td>\n",
       "    </tr>\n",
       "    <tr>\n",
       "      <th>3523615</th>\n",
       "      <td>                  Cineastas contra magnates</td>\n",
       "      <td> Cary Grant</td>\n",
       "      <td> actor</td>\n",
       "      <td>                                   Peter Joshua</td>\n",
       "      <td>NaN</td>\n",
       "    </tr>\n",
       "    <tr>\n",
       "      <th>3524741</th>\n",
       "      <td>                              Night and Day</td>\n",
       "      <td> Cary Grant</td>\n",
       "      <td> actor</td>\n",
       "      <td>                                    Cole Porter</td>\n",
       "      <td>  1</td>\n",
       "    </tr>\n",
       "    <tr>\n",
       "      <th>3532090</th>\n",
       "      <td>                            Monkey Business</td>\n",
       "      <td> Cary Grant</td>\n",
       "      <td> actor</td>\n",
       "      <td>                             Dr. Barnaby Fulton</td>\n",
       "      <td>  1</td>\n",
       "    </tr>\n",
       "    <tr>\n",
       "      <th>3533538</th>\n",
       "      <td>                    The Howards of Virginia</td>\n",
       "      <td> Cary Grant</td>\n",
       "      <td> actor</td>\n",
       "      <td>                                    Matt Howard</td>\n",
       "      <td>  1</td>\n",
       "    </tr>\n",
       "    <tr>\n",
       "      <th>3536866</th>\n",
       "      <td>                     I Was a Male War Bride</td>\n",
       "      <td> Cary Grant</td>\n",
       "      <td> actor</td>\n",
       "      <td>                            Capt. Henri Rochard</td>\n",
       "      <td>  1</td>\n",
       "    </tr>\n",
       "    <tr>\n",
       "      <th>3541042</th>\n",
       "      <td>                                 Dream Wife</td>\n",
       "      <td> Cary Grant</td>\n",
       "      <td> actor</td>\n",
       "      <td>                                  Clemson Reade</td>\n",
       "      <td>  1</td>\n",
       "    </tr>\n",
       "    <tr>\n",
       "      <th>3543687</th>\n",
       "      <td>                                  Mr. Lucky</td>\n",
       "      <td> Cary Grant</td>\n",
       "      <td> actor</td>\n",
       "      <td>                                Joe Bascopolous</td>\n",
       "      <td>  1</td>\n",
       "    </tr>\n",
       "  </tbody>\n",
       "</table>\n",
       "<p>90 rows × 5 columns</p>\n",
       "</div>"
      ],
      "text/plain": [
       "                                              title        name   type  \\\n",
       "257572                                    Houseboat  Cary Grant  actor   \n",
       "362801             The Bachelor and the Bobby-Soxer  Cary Grant  actor   \n",
       "396737                             The Last Outpost  Cary Grant  actor   \n",
       "437879                                    Suspicion  Cary Grant  actor   \n",
       "547207                                    Mr. Lucky  Cary Grant  actor   \n",
       "566111                                      Holiday  Cary Grant  actor   \n",
       "607118                           Sinners in the Sun  Cary Grant  actor   \n",
       "617526                             My Favorite Wife  Cary Grant  actor   \n",
       "717613                    The Pride and the Passion  Cary Grant  actor   \n",
       "901674                                 Father Goose  Cary Grant  actor   \n",
       "1159410                                   Gunga Din  Cary Grant  actor   \n",
       "1434510                       Merrily We Go to Hell  Cary Grant  actor   \n",
       "1622038                            Bringing Up Baby  Cary Grant  actor   \n",
       "1854420                           The Bishop's Wife  Cary Grant  actor   \n",
       "1997180                                   Notorious  Cary Grant  actor   \n",
       "2242802                           Room for One More  Cary Grant  actor   \n",
       "2366577                                I'm No Angel  Cary Grant  actor   \n",
       "2369096                             Road to Victory  Cary Grant  actor   \n",
       "2369097                          The Shining Future  Cary Grant  actor   \n",
       "2369098                        Without Reservations  Cary Grant  actor   \n",
       "2397974                           Wings in the Dark  Cary Grant  actor   \n",
       "2448562                               Singapore Sue  Cary Grant  actor   \n",
       "2470941                            Once Upon a Time  Cary Grant  actor   \n",
       "2555084                             Wedding Present  Cary Grant  actor   \n",
       "2576403                          She Done Him Wrong  Cary Grant  actor   \n",
       "2650895                         Alice in Wonderland  Cary Grant  actor   \n",
       "2664097                             That's Dancing!  Cary Grant  actor   \n",
       "2745485                        Arsenic and Old Lace  Cary Grant  actor   \n",
       "2803613                      Only Angels Have Wings  Cary Grant  actor   \n",
       "2853171                             The Awful Truth  Cary Grant  actor   \n",
       "...                                             ...         ...    ...   \n",
       "3495661                            Madame Butterfly  Cary Grant  actor   \n",
       "3496213                        Ladies Should Listen  Cary Grant  actor   \n",
       "3496214                   None But the Lonely Heart  Cary Grant  actor   \n",
       "3496608                             Sylvia Scarlett  Cary Grant  actor   \n",
       "3497441                               Gambling Ship  Cary Grant  actor   \n",
       "3498830                            Kiss and Make-Up  Cary Grant  actor   \n",
       "3501423                    The Big Parade of Comedy  Cary Grant  actor   \n",
       "3501771                Every Girl Should Be Married  Cary Grant  actor   \n",
       "3505476  Boffo! Tinseltown's Bombs and Blockbusters  Cary Grant  actor   \n",
       "3506122                      The Eagle and the Hawk  Cary Grant  actor   \n",
       "3509003  Boffo! Tinseltown's Bombs and Blockbusters  Cary Grant  actor   \n",
       "3509004                          North by Northwest  Cary Grant  actor   \n",
       "3509208                           This Is the Night  Cary Grant  actor   \n",
       "3513306                       That's Entertainment!  Cary Grant  actor   \n",
       "3515803                          That Touch of Mink  Cary Grant  actor   \n",
       "3519035                                      Ingrid  Cary Grant  actor   \n",
       "3521817                            To Catch a Thief  Cary Grant  actor   \n",
       "3522197                       An Affair to Remember  Cary Grant  actor   \n",
       "3522228                         When You're in Love  Cary Grant  actor   \n",
       "3522269                                      Crisis  Cary Grant  actor   \n",
       "3522512                       The Toast of New York  Cary Grant  actor   \n",
       "3522646                          Devil and the Deep  Cary Grant  actor   \n",
       "3523614                                     Charade  Cary Grant  actor   \n",
       "3523615                   Cineastas contra magnates  Cary Grant  actor   \n",
       "3524741                               Night and Day  Cary Grant  actor   \n",
       "3532090                             Monkey Business  Cary Grant  actor   \n",
       "3533538                     The Howards of Virginia  Cary Grant  actor   \n",
       "3536866                      I Was a Male War Bride  Cary Grant  actor   \n",
       "3541042                                  Dream Wife  Cary Grant  actor   \n",
       "3543687                                   Mr. Lucky  Cary Grant  actor   \n",
       "\n",
       "                                              character   n  \n",
       "257572                                      Tom Winters   1  \n",
       "362801                                             Dick   1  \n",
       "396737                                  Michael Andrews   1  \n",
       "437879                                          Johnnie   1  \n",
       "547207                                        Joe Adams   1  \n",
       "566111                                      Johnny Case   2  \n",
       "607118                                         Ridgeway   8  \n",
       "617526                                             Nick   2  \n",
       "717613                                          Anthony   1  \n",
       "901674                                           Walter   1  \n",
       "1159410                                          Cutter   1  \n",
       "1434510                                  Charlie Baxter   9  \n",
       "1622038                                           David   2  \n",
       "1854420                                          Dudley   1  \n",
       "1997180                                          Devlin   1  \n",
       "2242802                                     George Rose   1  \n",
       "2366577                                    Jack Clayton   2  \n",
       "2369096                                      Cary Grant NaN  \n",
       "2369097                                      Cary Grant   6  \n",
       "2369098                                      Cary Grant NaN  \n",
       "2397974                                      Ken Gordon   2  \n",
       "2448562                                    First Sailor NaN  \n",
       "2470941                                     Jerry Flynn   1  \n",
       "2555084                                   Charlie Mason   2  \n",
       "2576403                                Captain Cummings   2  \n",
       "2650895                                     Mock Turtle  10  \n",
       "2664097                             Himself - film clip NaN  \n",
       "2745485                               Mortimer Brewster   1  \n",
       "2803613                                    Geoff Carter   1  \n",
       "2853171                                  Jerry Warriner   2  \n",
       "...                                                 ...  ..  \n",
       "3495661                       Lieutenant B.F. Pinkerton   2  \n",
       "3496213                                Julian De Lussac   1  \n",
       "3496214                                      Ernie Mott   1  \n",
       "3496608                                   Jimmy Monkley   2  \n",
       "3497441                                      Ace Corbin   1  \n",
       "3498830                               Dr. Maurice Lamar   1  \n",
       "3501423                                 Actor in 'Suzy'   5  \n",
       "3501771                               Dr. Madison Brown   1  \n",
       "3505476                                     T.R. Devlin NaN  \n",
       "3506122                                   Henry Crocker   2  \n",
       "3509003                              Roger O. Thornhill NaN  \n",
       "3509004                              Roger O. Thornhill   1  \n",
       "3509208                               Stephen Mathewson   5  \n",
       "3513306                                Clip from 'Suzy' NaN  \n",
       "3515803                                   Philip Shayne   1  \n",
       "3519035  Himself, clips from 'Notorious' & 'Indiscreet' NaN  \n",
       "3521817                                      John Robie   1  \n",
       "3522197                                 Nickie Ferrante   1  \n",
       "3522228                                    Jimmy Hudson   2  \n",
       "3522269                     Dr. Eugene Norland Ferguson   1  \n",
       "3522512                                       Nick Boyd   2  \n",
       "3522646                                     Lt. Jaeckel   4  \n",
       "3523614                                    Peter Joshua   1  \n",
       "3523615                                    Peter Joshua NaN  \n",
       "3524741                                     Cole Porter   1  \n",
       "3532090                              Dr. Barnaby Fulton   1  \n",
       "3533538                                     Matt Howard   1  \n",
       "3536866                             Capt. Henri Rochard   1  \n",
       "3541042                                   Clemson Reade   1  \n",
       "3543687                                 Joe Bascopolous   1  \n",
       "\n",
       "[90 rows x 5 columns]"
      ]
     },
     "execution_count": 12,
     "metadata": {},
     "output_type": "execute_result"
    }
   ],
   "source": [
    "cast[(cast.name == 'Cary Grant') & (cast.character != 'Himself')]"
   ]
  },
  {
   "cell_type": "markdown",
   "metadata": {},
   "source": [
    "### Graph the number of movies released each year since the beginning of film."
   ]
  },
  {
   "cell_type": "code",
   "execution_count": 9,
   "metadata": {
    "collapsed": false
   },
   "outputs": [
    {
     "data": {
      "text/plain": [
       "2014    49775\n",
       "2013    48838\n",
       "2012    45064\n",
       "2011    40640\n",
       "2010    35528\n",
       "dtype: int64"
      ]
     },
     "execution_count": 9,
     "metadata": {},
     "output_type": "execute_result"
    }
   ],
   "source": [
    "y = titles.year.value_counts()\n",
    "y.head()"
   ]
  },
  {
   "cell_type": "code",
   "execution_count": 10,
   "metadata": {
    "collapsed": false
   },
   "outputs": [
    {
     "data": {
      "text/plain": [
       "<Container object of 139 artists>"
      ]
     },
     "execution_count": 10,
     "metadata": {},
     "output_type": "execute_result"
    },
    {
     "data": {
      "image/png": "[encoded data removed]",
      "text/plain": [
       "<matplotlib.figure.Figure at 0x7f506dd015f8>"
      ]
     },
     "metadata": {},
     "output_type": "display_data"
    }
   ],
   "source": [
    "plt.bar(y.index, y)"
   ]
  },
  {
   "cell_type": "code",
   "execution_count": 11,
   "metadata": {
    "collapsed": false
   },
   "outputs": [
    {
     "data": {
      "text/plain": [
       "[<matplotlib.lines.Line2D at 0x7f50976f3080>]"
      ]
     },
     "execution_count": 11,
     "metadata": {},
     "output_type": "execute_result"
    },
    {
     "data": {
      "image/png": "[encoded data removed]",
      "text/plain": [
       "<matplotlib.figure.Figure at 0x7f509776b0f0>"
      ]
     },
     "metadata": {},
     "output_type": "display_data"
    }
   ],
   "source": [
    "plt.plot(y.index, y)"
   ]
  },
  {
   "cell_type": "code",
   "execution_count": 12,
   "metadata": {
    "collapsed": false
   },
   "outputs": [
    {
     "data": {
      "text/plain": [
       "1874    1\n",
       "1878    1\n",
       "1887    1\n",
       "1888    5\n",
       "1889    2\n",
       "dtype: int64"
      ]
     },
     "execution_count": 12,
     "metadata": {},
     "output_type": "execute_result"
    }
   ],
   "source": [
    "y = y.sort_index()\n",
    "y.head()"
   ]
  },
  {
   "cell_type": "code",
   "execution_count": 13,
   "metadata": {
    "collapsed": false
   },
   "outputs": [
    {
     "data": {
      "text/plain": [
       "[<matplotlib.lines.Line2D at 0x7f50976dd278>]"
      ]
     },
     "execution_count": 13,
     "metadata": {},
     "output_type": "execute_result"
    },
    {
     "data": {
      "image/png": "[encoded data removed]",
      "text/plain": [
       "<matplotlib.figure.Figure at 0x7f509774ee10>"
      ]
     },
     "metadata": {},
     "output_type": "display_data"
    }
   ],
   "source": [
    "plt.plot(y.sort_index().index, y)"
   ]
  },
  {
   "cell_type": "markdown",
   "metadata": {},
   "source": [
    "### Bar graph the number of films made in each of the years 1870 through 1893."
   ]
  },
  {
   "cell_type": "code",
   "execution_count": 14,
   "metadata": {
    "collapsed": false
   },
   "outputs": [
    {
     "data": {
      "text/plain": [
       "(0, 9.0)"
      ]
     },
     "execution_count": 14,
     "metadata": {},
     "output_type": "execute_result"
    },
    {
     "data": {
      "image/png": "[encoded data removed]",
      "text/plain": [
       "<matplotlib.figure.Figure at 0x7f509766e908>"
      ]
     },
     "metadata": {},
     "output_type": "display_data"
    }
   ],
   "source": [
    "early_y = y.loc[1870:1893]\n",
    "plt.bar(early_y.index, early_y, align='center')\n",
    "plt.ylim(0)"
   ]
  },
  {
   "cell_type": "markdown",
   "metadata": {},
   "source": [
    "### Display the title and year of the films released through 1890."
   ]
  },
  {
   "cell_type": "code",
   "execution_count": 15,
   "metadata": {
    "collapsed": false
   },
   "outputs": [
    {
     "data": {
      "text/html": [
       "<div style=\"max-height:1000px;max-width:1500px;overflow:auto;\">\n",
       "<table border=\"1\" class=\"dataframe\">\n",
       "  <thead>\n",
       "    <tr style=\"text-align: right;\">\n",
       "      <th></th>\n",
       "      <th>title</th>\n",
       "      <th>year</th>\n",
       "    </tr>\n",
       "  </thead>\n",
       "  <tbody>\n",
       "    <tr>\n",
       "      <th>514384</th>\n",
       "      <td>                                  Passage de Venus</td>\n",
       "      <td> 1874</td>\n",
       "    </tr>\n",
       "    <tr>\n",
       "      <th>570644</th>\n",
       "      <td>                        Sallie Gardner at a Gallop</td>\n",
       "      <td> 1878</td>\n",
       "    </tr>\n",
       "    <tr>\n",
       "      <th>455845</th>\n",
       "      <td>                     Man Walking Around the Corner</td>\n",
       "      <td> 1887</td>\n",
       "    </tr>\n",
       "    <tr>\n",
       "      <th>12053 </th>\n",
       "      <td>                                  Accordion Player</td>\n",
       "      <td> 1888</td>\n",
       "    </tr>\n",
       "    <tr>\n",
       "      <th>87544 </th>\n",
       "      <td>                             Brighton Street Scene</td>\n",
       "      <td> 1888</td>\n",
       "    </tr>\n",
       "    <tr>\n",
       "      <th>505288</th>\n",
       "      <td>      Pferd und Reiter Springen über ein Hindernis</td>\n",
       "      <td> 1888</td>\n",
       "    </tr>\n",
       "    <tr>\n",
       "      <th>582339</th>\n",
       "      <td>                             Roundhay Garden Scene</td>\n",
       "      <td> 1888</td>\n",
       "    </tr>\n",
       "    <tr>\n",
       "      <th>763666</th>\n",
       "      <td>                     Traffic Crossing Leeds Bridge</td>\n",
       "      <td> 1888</td>\n",
       "    </tr>\n",
       "    <tr>\n",
       "      <th>305071</th>\n",
       "      <td>                                  Hyde Park Corner</td>\n",
       "      <td> 1889</td>\n",
       "    </tr>\n",
       "    <tr>\n",
       "      <th>361575</th>\n",
       "      <td> Leisurely Pedestrians, Open Topped Buses and H...</td>\n",
       "      <td> 1889</td>\n",
       "    </tr>\n",
       "    <tr>\n",
       "      <th>393425</th>\n",
       "      <td>                         London's Trafalgar Square</td>\n",
       "      <td> 1890</td>\n",
       "    </tr>\n",
       "    <tr>\n",
       "      <th>404535</th>\n",
       "      <td>                               Monkeyshines, No. 2</td>\n",
       "      <td> 1890</td>\n",
       "    </tr>\n",
       "    <tr>\n",
       "      <th>417630</th>\n",
       "      <td>                               Monkeyshines, No. 1</td>\n",
       "      <td> 1890</td>\n",
       "    </tr>\n",
       "    <tr>\n",
       "      <th>474943</th>\n",
       "      <td>                               Monkeyshines, No. 3</td>\n",
       "      <td> 1890</td>\n",
       "    </tr>\n",
       "    <tr>\n",
       "      <th>710667</th>\n",
       "      <td>                   Traffic in King's Road, Chelsea</td>\n",
       "      <td> 1890</td>\n",
       "    </tr>\n",
       "  </tbody>\n",
       "</table>\n",
       "</div>"
      ],
      "text/plain": [
       "                                                    title  year\n",
       "514384                                   Passage de Venus  1874\n",
       "570644                         Sallie Gardner at a Gallop  1878\n",
       "455845                      Man Walking Around the Corner  1887\n",
       "12053                                    Accordion Player  1888\n",
       "87544                               Brighton Street Scene  1888\n",
       "505288       Pferd und Reiter Springen über ein Hindernis  1888\n",
       "582339                              Roundhay Garden Scene  1888\n",
       "763666                      Traffic Crossing Leeds Bridge  1888\n",
       "305071                                   Hyde Park Corner  1889\n",
       "361575  Leisurely Pedestrians, Open Topped Buses and H...  1889\n",
       "393425                          London's Trafalgar Square  1890\n",
       "404535                                Monkeyshines, No. 2  1890\n",
       "417630                                Monkeyshines, No. 1  1890\n",
       "474943                                Monkeyshines, No. 3  1890\n",
       "710667                    Traffic in King's Road, Chelsea  1890"
      ]
     },
     "execution_count": 15,
     "metadata": {},
     "output_type": "execute_result"
    }
   ],
   "source": [
    "titles[titles.year <= 1890].sort('year')"
   ]
  },
  {
   "cell_type": "markdown",
   "metadata": {},
   "source": [
    "### How many films were made in 1894?"
   ]
  },
  {
   "cell_type": "code",
   "execution_count": 16,
   "metadata": {
    "collapsed": false
   },
   "outputs": [
    {
     "data": {
      "text/plain": [
       "title    94\n",
       "year     94\n",
       "dtype: int64"
      ]
     },
     "execution_count": 16,
     "metadata": {},
     "output_type": "execute_result"
    }
   ],
   "source": [
    "titles[titles.year == 1894].count()"
   ]
  },
  {
   "cell_type": "code",
   "execution_count": 15,
   "metadata": {
    "collapsed": false
   },
   "outputs": [
    {
     "name": "stdout",
     "output_type": "stream",
     "text": [
      "<class 'pandas.core.frame.DataFrame'>\n",
      "Int64Index: 808880 entries, 0 to 808879\n",
      "Data columns (total 2 columns):\n",
      "title    808880 non-null object\n",
      "year     808880 non-null float64\n",
      "dtypes: float64(1), object(1)\n",
      "memory usage: 18.5+ MB\n"
     ]
    }
   ],
   "source": [
    "titles.info()"
   ]
  },
  {
   "cell_type": "markdown",
   "metadata": {},
   "source": [
    "### Graph the number of movies released each decade since the beginning of film."
   ]
  },
  {
   "cell_type": "code",
   "execution_count": 17,
   "metadata": {
    "collapsed": false
   },
   "outputs": [
    {
     "data": {
      "text/plain": [
       "<Container object of 16 artists>"
      ]
     },
     "execution_count": 17,
     "metadata": {},
     "output_type": "execute_result"
    },
    {
     "data": {
      "image/png": "[encoded data removed]",
      "text/plain": [
       "<matplotlib.figure.Figure at 0x7f509769d0f0>"
      ]
     },
     "metadata": {},
     "output_type": "display_data"
    }
   ],
   "source": [
    "decades = titles.year.map(decade).value_counts().sort_index()\n",
    "plt.bar(decades.index, decades / 10.0, align='center', width=8)"
   ]
  },
  {
   "cell_type": "markdown",
   "metadata": {},
   "source": [
    "### How many movies were made in each year of the first decade of the 2000s?\n",
    "\n",
    "Both display the numbers, and draw a bar graph."
   ]
  },
  {
   "cell_type": "code",
   "execution_count": 18,
   "metadata": {
    "collapsed": false
   },
   "outputs": [
    {
     "data": {
      "text/plain": [
       "2000     8563\n",
       "2001     9351\n",
       "2002    10247\n",
       "2003    11455\n",
       "2004    13831\n",
       "2005    16371\n",
       "2006    17282\n",
       "2007    19186\n",
       "2008    23761\n",
       "2009    30215\n",
       "dtype: int64"
      ]
     },
     "execution_count": 18,
     "metadata": {},
     "output_type": "execute_result"
    }
   ],
   "source": [
    "y = titles[titles.year.map(decade) == 2000].year.value_counts().sort_index()\n",
    "y"
   ]
  },
  {
   "cell_type": "code",
   "execution_count": 19,
   "metadata": {
    "collapsed": false
   },
   "outputs": [
    {
     "data": {
      "text/plain": [
       "<Container object of 10 artists>"
      ]
     },
     "execution_count": 19,
     "metadata": {},
     "output_type": "execute_result"
    },
    {
     "data": {
      "image/png": "[encoded data removed]",
      "text/plain": [
       "<matplotlib.figure.Figure at 0x7f509769a240>"
      ]
     },
     "metadata": {},
     "output_type": "display_data"
    }
   ],
   "source": [
    "plt.bar(y.index, y, align='center')"
   ]
  },
  {
   "cell_type": "markdown",
   "metadata": {},
   "source": [
    "### What are the ten most common character names in film?"
   ]
  },
  {
   "cell_type": "code",
   "execution_count": 20,
   "metadata": {
    "collapsed": false
   },
   "outputs": [
    {
     "data": {
      "text/plain": [
       "Himself     187547\n",
       "Herself      69994\n",
       "Narrator     19472\n",
       "Dancer       15383\n",
       "Extra        12412\n",
       "Doctor       10142\n",
       "Student      10075\n",
       "Nurse         8734\n",
       "Reporter      8681\n",
       "Zombie        8604\n",
       "dtype: int64"
      ]
     },
     "execution_count": 20,
     "metadata": {},
     "output_type": "execute_result"
    }
   ],
   "source": [
    "common_characters = cast.character.value_counts()\n",
    "common_characters.iloc[:10]"
   ]
  },
  {
   "cell_type": "markdown",
   "metadata": {},
   "source": [
    "### BONUS: Find the top ten character names that are not common words"
   ]
  },
  {
   "cell_type": "code",
   "execution_count": 21,
   "metadata": {
    "collapsed": false
   },
   "outputs": [
    {
     "data": {
      "text/plain": [
       "0        A\n",
       "1      A's\n",
       "2     AA's\n",
       "3     AB's\n",
       "4    ABM's\n",
       "dtype: object"
      ]
     },
     "execution_count": 21,
     "metadata": {},
     "output_type": "execute_result"
    }
   ],
   "source": [
    "words = pd.Series(open('/usr/share/dict/words').read().split())\n",
    "words.head()"
   ]
  },
  {
   "cell_type": "code",
   "execution_count": 22,
   "metadata": {
    "collapsed": false
   },
   "outputs": [
    {
     "data": {
      "text/plain": [
       "16483             a\n",
       "16484      aardvark\n",
       "16485    aardvark's\n",
       "16486     aardvarks\n",
       "16487         abaci\n",
       "dtype: object"
      ]
     },
     "execution_count": 22,
     "metadata": {},
     "output_type": "execute_result"
    }
   ],
   "source": [
    "real_words = words[(words.str[0]).map(str.islower)]\n",
    "real_words.head()"
   ]
  },
  {
   "cell_type": "code",
   "execution_count": 23,
   "metadata": {
    "collapsed": true
   },
   "outputs": [],
   "source": [
    "real_word_set = set(real_words)"
   ]
  },
  {
   "cell_type": "code",
   "execution_count": 24,
   "metadata": {
    "collapsed": false
   },
   "outputs": [
    {
     "data": {
      "text/plain": [
       "Index(['Himself', 'Herself', 'Narrator', 'Dancer', 'Extra', 'Doctor', 'Student', 'Nurse', 'Reporter', 'Zombie', 'Bartender', 'Policeman', 'Mother', 'Party Guest', 'Minor Role', 'Man', 'Waiter', 'Waitress', 'Girl', 'Soldier', 'Woman', 'John', 'Father', 'Bar Patron', 'Henchman', 'Townsman', 'Police Officer', 'Sam', 'Jack', 'Sarah', 'David', 'Boy', 'Paul', 'Detective', 'Anna', 'Tom', 'Singer', 'Mike', 'Maria', 'Alex', 'Mary', 'Joe', 'Cop', 'Priest', 'Frank', 'Michael', 'Peter', 'Guard', 'Tony', 'Charlie', 'Teacher', 'Themselves', 'Mark', 'Max', 'James', 'Steve', 'Lisa', 'George', 'Laura', 'Judge', 'Chris', 'Secretary', 'Additional Voices', 'Ben', 'Mom', 'Photographer', 'Jimmy', 'Wedding Guest', 'Restaurant Patron', 'Barfly', 'Receptionist', 'Alice', 'Dad', 'Bob', 'Bill', 'Undetermined Role', 'Security Guard', 'Child', 'Billy', 'Driver', 'Jake', 'Adam', 'Jim', 'Marie', 'Rachel', 'Nick', 'Robert', 'Dave', 'Julie', 'Prisoner', 'Jason', 'Customer', 'Wife', 'Sheriff', 'Daniel', 'Sara', 'Jane', 'Taxi Driver', 'Jenny', 'Harry', ...], dtype='object')"
      ]
     },
     "execution_count": 24,
     "metadata": {},
     "output_type": "execute_result"
    }
   ],
   "source": [
    "common_characters.index"
   ]
  },
  {
   "cell_type": "code",
   "execution_count": 25,
   "metadata": {
    "collapsed": false
   },
   "outputs": [
    {
     "data": {
      "text/plain": [
       "Index(['Himself', 'Herself', 'Narrator', 'Dancer', 'Extra', 'Doctor', 'Student', 'Nurse', 'Reporter', 'Zombie'], dtype='object')"
      ]
     },
     "execution_count": 25,
     "metadata": {},
     "output_type": "execute_result"
    }
   ],
   "source": [
    "common_characters.index[:10]"
   ]
  },
  {
   "cell_type": "code",
   "execution_count": 28,
   "metadata": {
    "collapsed": true
   },
   "outputs": [],
   "source": [
    "def looks_real(character):\n",
    "    cw = character.lower().split()\n",
    "    return all(w not in real_word_set for w in cw)"
   ]
  },
  {
   "cell_type": "code",
   "execution_count": 29,
   "metadata": {
    "collapsed": false
   },
   "outputs": [
    {
     "data": {
      "text/plain": [
       "array([False, False, False, False, False, False, False, False, False, False], dtype=bool)"
      ]
     },
     "execution_count": 29,
     "metadata": {},
     "output_type": "execute_result"
    }
   ],
   "source": [
    "common_characters.index[:10].map(looks_real)"
   ]
  },
  {
   "cell_type": "code",
   "execution_count": 33,
   "metadata": {
    "collapsed": false
   },
   "outputs": [
    {
     "data": {
      "text/plain": [
       "array(['Sam', 'Sarah', 'David', ..., 'Sandra Bevin', 'Taisya',\n",
       "       'Porfirio Torres'], dtype=object)"
      ]
     },
     "execution_count": 33,
     "metadata": {},
     "output_type": "execute_result"
    }
   ],
   "source": [
    "real_names = common_characters.index[common_characters.index.map(looks_real)]\n",
    "real_names.values"
   ]
  },
  {
   "cell_type": "code",
   "execution_count": 36,
   "metadata": {
    "collapsed": false
   },
   "outputs": [
    {
     "data": {
      "text/plain": [
       "Sam        4914\n",
       "Sarah      4801\n",
       "David      4766\n",
       "Paul       4664\n",
       "Anna       4532\n",
       "Alex       4233\n",
       "Mary       4140\n",
       "Joe        4080\n",
       "Michael    3832\n",
       "Charlie    3510\n",
       "Max        3288\n",
       "James      3272\n",
       "Steve      3253\n",
       "Lisa       3213\n",
       "George     3193\n",
       "Laura      3181\n",
       "Chris      3078\n",
       "Ben        2954\n",
       "Barfly     2828\n",
       "Alice      2747\n",
       "dtype: int64"
      ]
     },
     "execution_count": 36,
     "metadata": {},
     "output_type": "execute_result"
    }
   ],
   "source": [
    "common_characters.loc[real_names.values][:20]"
   ]
  },
  {
   "cell_type": "markdown",
   "metadata": {},
   "source": [
    "* How many movies were made in the 1940s compared to the decade that followed?"
   ]
  },
  {
   "cell_type": "markdown",
   "metadata": {},
   "source": [
    "* How many movies were made in the 1940s compared to the decade that followed?"
   ]
  },
  {
   "cell_type": "code",
   "execution_count": null,
   "metadata": {
    "collapsed": true
   },
   "outputs": [],
   "source": [
    "c = cast\n",
    "c = c[c.year // 10 == 194]\n",
    "c = c[c.n == 1]\n",
    "c = c.name.value_counts()\n",
    "c.head(10)"
   ]
  },
  {
   "cell_type": "code",
   "execution_count": null,
   "metadata": {
    "collapsed": true
   },
   "outputs": [],
   "source": []
  }
 ],
 "metadata": {
  "kernelspec": {
   "display_name": "Python 3",
   "language": "python",
   "name": "python3"
  },
  "language_info": {
   "codemirror_mode": {
    "name": "ipython",
    "version": 3
   },
   "file_extension": ".py",
   "mimetype": "text/x-python",
   "name": "python",
   "nbconvert_exporter": "python",
   "pygments_lexer": "ipython3",
   "version": "3.4.3"
  }
 },
 "nbformat": 4,
 "nbformat_minor": 0
}
