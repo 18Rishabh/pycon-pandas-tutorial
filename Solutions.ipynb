{
 "cells": [
  {
   "cell_type": "code",
   "execution_count": 1,
   "metadata": {
    "collapsed": false
   },
   "outputs": [
    {
     "name": "stdout",
     "output_type": "stream",
     "text": [
      "Populating the interactive namespace from numpy and matplotlib\n"
     ]
    }
   ],
   "source": [
    "%pylab inline\n",
    "import pandas as pd"
   ]
  },
  {
   "cell_type": "code",
   "execution_count": 2,
   "metadata": {
    "collapsed": false
   },
   "outputs": [
    {
     "data": {
      "text/html": [
       "<style>body {\n",
       "    margin: 0;\n",
       "    font-family: Helvetica;\n",
       "}\n",
       "table.dataframe {\n",
       "    border-collapse: collapse;\n",
       "    border: none;\n",
       "}\n",
       "table.dataframe tr {\n",
       "    border: none;\n",
       "}\n",
       "table.dataframe td, table.dataframe th {\n",
       "    margin: 0;\n",
       "    border: 1px solid white;\n",
       "    padding-left: 0.25em;\n",
       "    padding-right: 0.25em;\n",
       "}\n",
       "table.dataframe th:not(:empty) {\n",
       "    background-color: #fec;\n",
       "    text-align: left;\n",
       "    font-weight: normal;\n",
       "}\n",
       "table.dataframe tr:nth-child(2) th:empty {\n",
       "    border-left: none;\n",
       "    border-right: 1px dashed #888;\n",
       "}\n",
       "table.dataframe td {\n",
       "    border: 2px solid #ccf;\n",
       "    background-color: #f4f4ff;\n",
       "}\n",
       "</style>"
      ],
      "text/plain": [
       "<IPython.core.display.HTML object>"
      ]
     },
     "execution_count": 2,
     "metadata": {},
     "output_type": "execute_result"
    }
   ],
   "source": [
    "from IPython.core.display import HTML\n",
    "HTML('<style>{}</style>'.format(open('style-table.css').read()))"
   ]
  },
  {
   "cell_type": "code",
   "execution_count": 3,
   "metadata": {
    "collapsed": false
   },
   "outputs": [
    {
     "data": {
      "text/plain": [
       "808880"
      ]
     },
     "execution_count": 3,
     "metadata": {},
     "output_type": "execute_result"
    }
   ],
   "source": [
    "titles = pd.DataFrame.from_csv('titles.csv', index_col=None)\n",
    "titles.head()\n",
    "len(titles)"
   ]
  },
  {
   "cell_type": "code",
   "execution_count": 4,
   "metadata": {
    "collapsed": false
   },
   "outputs": [
    {
     "data": {
      "text/plain": [
       "5271490"
      ]
     },
     "execution_count": 4,
     "metadata": {},
     "output_type": "execute_result"
    }
   ],
   "source": [
    "cast = pd.DataFrame.from_csv('cast.csv', index_col=None)\n",
    "cast.head()\n",
    "len(cast)"
   ]
  },
  {
   "cell_type": "markdown",
   "metadata": {},
   "source": [
    "* How many movies were made in the 1940s compared to the decade that followed?"
   ]
  },
  {
   "cell_type": "code",
   "execution_count": 5,
   "metadata": {
    "collapsed": false
   },
   "outputs": [
    {
     "name": "stdout",
     "output_type": "stream",
     "text": [
      "1984 was in the decade 1980\n"
     ]
    }
   ],
   "source": [
    "def decade(year):\n",
    "    return year // 10 * 10\n",
    "\n",
    "print('1984 was in the decade', decade(1984))"
   ]
  },
  {
   "cell_type": "code",
   "execution_count": 6,
   "metadata": {
    "collapsed": false
   },
   "outputs": [
    {
     "name": "stdout",
     "output_type": "stream",
     "text": [
      "1940s movies: 21178\n",
      "1950s movies: 28593\n"
     ]
    }
   ],
   "source": [
    "count = ((titles.year >= 1940) & (titles.year <= 1949)).sum()\n",
    "print('1940s movies: {}'.format(count))\n",
    "\n",
    "count = (titles.year.map(decade) == 1950).sum()\n",
    "print('1950s movies: {}'.format(count))"
   ]
  },
  {
   "cell_type": "markdown",
   "metadata": {},
   "source": [
    "* Graph the number of movies released each year since the beginning of film."
   ]
  },
  {
   "cell_type": "code",
   "execution_count": 7,
   "metadata": {
    "collapsed": false
   },
   "outputs": [
    {
     "data": {
      "text/plain": [
       "1874    1\n",
       "1878    1\n",
       "1887    1\n",
       "1888    5\n",
       "1889    2\n",
       "dtype: int64"
      ]
     },
     "execution_count": 7,
     "metadata": {},
     "output_type": "execute_result"
    }
   ],
   "source": [
    "y = titles.year.value_counts().sort_index()\n",
    "y.head()"
   ]
  },
  {
   "cell_type": "code",
   "execution_count": 8,
   "metadata": {
    "collapsed": false
   },
   "outputs": [
    {
     "data": {
      "text/plain": [
       "[<matplotlib.lines.Line2D at 0x7f3e6a6d6a20>]"
      ]
     },
     "execution_count": 8,
     "metadata": {},
     "output_type": "execute_result"
    },
    {
     "data": {
      "image/png": "[encoded data removed]",
      "text/plain": [
       "<matplotlib.figure.Figure at 0x7f3e40c74550>"
      ]
     },
     "metadata": {},
     "output_type": "display_data"
    }
   ],
   "source": [
    "plot(y.index, y)"
   ]
  },
  {
   "cell_type": "code",
   "execution_count": 9,
   "metadata": {
    "collapsed": false
   },
   "outputs": [
    {
     "data": {
      "text/plain": [
       "(0, 9.0)"
      ]
     },
     "execution_count": 9,
     "metadata": {},
     "output_type": "execute_result"
    },
    {
     "data": {
      "image/png": "[encoded data removed]",
      "text/plain": [
       "<matplotlib.figure.Figure at 0x7f3e6a6a4080>"
      ]
     },
     "metadata": {},
     "output_type": "display_data"
    }
   ],
   "source": [
    "early_y = y.loc[1860:1893]\n",
    "bar(early_y.index, early_y)\n",
    "ylim(0)"
   ]
  },
  {
   "cell_type": "code",
   "execution_count": 10,
   "metadata": {
    "collapsed": false
   },
   "outputs": [
    {
     "data": {
      "text/html": [
       "<div style=\"max-height:1000px;max-width:1500px;overflow:auto;\">\n",
       "<table border=\"1\" class=\"dataframe\">\n",
       "  <thead>\n",
       "    <tr style=\"text-align: right;\">\n",
       "      <th></th>\n",
       "      <th>title</th>\n",
       "      <th>year</th>\n",
       "    </tr>\n",
       "  </thead>\n",
       "  <tbody>\n",
       "    <tr>\n",
       "      <th>514384</th>\n",
       "      <td>                                  Passage de Venus</td>\n",
       "      <td> 1874</td>\n",
       "    </tr>\n",
       "    <tr>\n",
       "      <th>570644</th>\n",
       "      <td>                        Sallie Gardner at a Gallop</td>\n",
       "      <td> 1878</td>\n",
       "    </tr>\n",
       "    <tr>\n",
       "      <th>455845</th>\n",
       "      <td>                     Man Walking Around the Corner</td>\n",
       "      <td> 1887</td>\n",
       "    </tr>\n",
       "    <tr>\n",
       "      <th>12053 </th>\n",
       "      <td>                                  Accordion Player</td>\n",
       "      <td> 1888</td>\n",
       "    </tr>\n",
       "    <tr>\n",
       "      <th>87544 </th>\n",
       "      <td>                             Brighton Street Scene</td>\n",
       "      <td> 1888</td>\n",
       "    </tr>\n",
       "    <tr>\n",
       "      <th>505288</th>\n",
       "      <td>      Pferd und Reiter Springen über ein Hindernis</td>\n",
       "      <td> 1888</td>\n",
       "    </tr>\n",
       "    <tr>\n",
       "      <th>582339</th>\n",
       "      <td>                             Roundhay Garden Scene</td>\n",
       "      <td> 1888</td>\n",
       "    </tr>\n",
       "    <tr>\n",
       "      <th>763666</th>\n",
       "      <td>                     Traffic Crossing Leeds Bridge</td>\n",
       "      <td> 1888</td>\n",
       "    </tr>\n",
       "    <tr>\n",
       "      <th>305071</th>\n",
       "      <td>                                  Hyde Park Corner</td>\n",
       "      <td> 1889</td>\n",
       "    </tr>\n",
       "    <tr>\n",
       "      <th>361575</th>\n",
       "      <td> Leisurely Pedestrians, Open Topped Buses and H...</td>\n",
       "      <td> 1889</td>\n",
       "    </tr>\n",
       "    <tr>\n",
       "      <th>393425</th>\n",
       "      <td>                         London's Trafalgar Square</td>\n",
       "      <td> 1890</td>\n",
       "    </tr>\n",
       "    <tr>\n",
       "      <th>404535</th>\n",
       "      <td>                               Monkeyshines, No. 2</td>\n",
       "      <td> 1890</td>\n",
       "    </tr>\n",
       "    <tr>\n",
       "      <th>417630</th>\n",
       "      <td>                               Monkeyshines, No. 1</td>\n",
       "      <td> 1890</td>\n",
       "    </tr>\n",
       "    <tr>\n",
       "      <th>474943</th>\n",
       "      <td>                               Monkeyshines, No. 3</td>\n",
       "      <td> 1890</td>\n",
       "    </tr>\n",
       "    <tr>\n",
       "      <th>710667</th>\n",
       "      <td>                   Traffic in King's Road, Chelsea</td>\n",
       "      <td> 1890</td>\n",
       "    </tr>\n",
       "  </tbody>\n",
       "</table>\n",
       "</div>"
      ],
      "text/plain": [
       "                                                    title  year\n",
       "514384                                   Passage de Venus  1874\n",
       "570644                         Sallie Gardner at a Gallop  1878\n",
       "455845                      Man Walking Around the Corner  1887\n",
       "12053                                    Accordion Player  1888\n",
       "87544                               Brighton Street Scene  1888\n",
       "505288       Pferd und Reiter Springen über ein Hindernis  1888\n",
       "582339                              Roundhay Garden Scene  1888\n",
       "763666                      Traffic Crossing Leeds Bridge  1888\n",
       "305071                                   Hyde Park Corner  1889\n",
       "361575  Leisurely Pedestrians, Open Topped Buses and H...  1889\n",
       "393425                          London's Trafalgar Square  1890\n",
       "404535                                Monkeyshines, No. 2  1890\n",
       "417630                                Monkeyshines, No. 1  1890\n",
       "474943                                Monkeyshines, No. 3  1890\n",
       "710667                    Traffic in King's Road, Chelsea  1890"
      ]
     },
     "execution_count": 10,
     "metadata": {},
     "output_type": "execute_result"
    }
   ],
   "source": [
    "titles[titles.year <= 1890].sort('year')"
   ]
  },
  {
   "cell_type": "code",
   "execution_count": 11,
   "metadata": {
    "collapsed": false
   },
   "outputs": [
    {
     "data": {
      "text/plain": [
       "title    94\n",
       "year     94\n",
       "dtype: int64"
      ]
     },
     "execution_count": 11,
     "metadata": {},
     "output_type": "execute_result"
    }
   ],
   "source": [
    "titles[titles.year == 1894].count()"
   ]
  },
  {
   "cell_type": "markdown",
   "metadata": {},
   "source": [
    "* Graph the number of movies released each decade since the beginning of film."
   ]
  },
  {
   "cell_type": "code",
   "execution_count": 12,
   "metadata": {
    "collapsed": false
   },
   "outputs": [
    {
     "data": {
      "text/plain": [
       "<Container object of 16 artists>"
      ]
     },
     "execution_count": 12,
     "metadata": {},
     "output_type": "execute_result"
    },
    {
     "data": {
      "image/png": "[encoded data removed]",
      "text/plain": [
       "<matplotlib.figure.Figure at 0x7f3e6a6b0710>"
      ]
     },
     "metadata": {},
     "output_type": "display_data"
    }
   ],
   "source": [
    "decades = titles.year.map(decade).value_counts().sort_index()\n",
    "bar(decades.index, decades / 10.0, width=8.0)"
   ]
  },
  {
   "cell_type": "markdown",
   "metadata": {},
   "source": [
    "* How many movies were made in the 1940s compared to the decade that followed?"
   ]
  },
  {
   "cell_type": "markdown",
   "metadata": {},
   "source": [
    "* How many movies were made in the 1940s compared to the decade that followed?"
   ]
  },
  {
   "cell_type": "code",
   "execution_count": 13,
   "metadata": {
    "collapsed": false
   },
   "outputs": [
    {
     "data": {
      "text/html": [
       "<div style=\"max-height:1000px;max-width:1500px;overflow:auto;\">\n",
       "<table border=\"1\" class=\"dataframe\">\n",
       "  <thead>\n",
       "    <tr style=\"text-align: right;\">\n",
       "      <th></th>\n",
       "      <th>title</th>\n",
       "      <th>year</th>\n",
       "    </tr>\n",
       "  </thead>\n",
       "  <tbody>\n",
       "    <tr>\n",
       "      <th>0</th>\n",
       "      <td>      3orthographies</td>\n",
       "      <td> 2013</td>\n",
       "    </tr>\n",
       "    <tr>\n",
       "      <th>1</th>\n",
       "      <td>      11 Minutes (I)</td>\n",
       "      <td> 2014</td>\n",
       "    </tr>\n",
       "    <tr>\n",
       "      <th>2</th>\n",
       "      <td>       A Lélek órása</td>\n",
       "      <td> 1923</td>\n",
       "    </tr>\n",
       "    <tr>\n",
       "      <th>3</th>\n",
       "      <td> A Gypsy Girl's Love</td>\n",
       "      <td> 1908</td>\n",
       "    </tr>\n",
       "    <tr>\n",
       "      <th>4</th>\n",
       "      <td>     A Woman Scorned</td>\n",
       "      <td> 1999</td>\n",
       "    </tr>\n",
       "  </tbody>\n",
       "</table>\n",
       "</div>"
      ],
      "text/plain": [
       "                 title  year\n",
       "0       3orthographies  2013\n",
       "1       11 Minutes (I)  2014\n",
       "2        A Lélek órása  1923\n",
       "3  A Gypsy Girl's Love  1908\n",
       "4      A Woman Scorned  1999"
      ]
     },
     "execution_count": 13,
     "metadata": {},
     "output_type": "execute_result"
    }
   ],
   "source": [
    "titles.head()"
   ]
  },
  {
   "cell_type": "markdown",
   "metadata": {},
   "source": [
    "* How many movies were made in the 1940s compared to the decade that followed?"
   ]
  },
  {
   "cell_type": "markdown",
   "metadata": {},
   "source": [
    "* How many movies were made in the 1940s compared to the decade that followed?"
   ]
  },
  {
   "cell_type": "markdown",
   "metadata": {},
   "source": [
    "* How many movies were made in the 1940s compared to the decade that followed?"
   ]
  },
  {
   "cell_type": "code",
   "execution_count": null,
   "metadata": {
    "collapsed": true
   },
   "outputs": [],
   "source": []
  }
 ],
 "metadata": {
  "kernelspec": {
   "display_name": "Python 3",
   "language": "python",
   "name": "python3"
  },
  "language_info": {
   "codemirror_mode": {
    "name": "ipython",
    "version": 3
   },
   "file_extension": ".py",
   "mimetype": "text/x-python",
   "name": "python",
   "nbconvert_exporter": "python",
   "pygments_lexer": "ipython3",
   "version": "3.4.3"
  }
 },
 "nbformat": 4,
 "nbformat_minor": 0
}
